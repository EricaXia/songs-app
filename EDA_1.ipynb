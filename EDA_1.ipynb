{
 "cells": [
  {
   "cell_type": "code",
   "execution_count": 1,
   "metadata": {},
   "outputs": [],
   "source": [
    "# import libraries\n",
    "import os\n",
    "import sys\n",
    "\n",
    "import pandas as pd\n",
    "import numpy as np\n",
    "import sqlite3\n",
    "import scipy as sp\n",
    "\n",
    "import matplotlib as mpl\n",
    "import matplotlib.pyplot as plt\n",
    "import seaborn as sns\n",
    "\n",
    "import random\n",
    "import time\n",
    "from PIL import Image\n",
    "# !pip install wordcloud\n",
    "import wordcloud\n",
    "from wordcloud import WordCloud, STOPWORDS, ImageColorGenerator\n",
    "\n",
    "import ast\n",
    "import re"
   ]
  },
  {
   "cell_type": "code",
   "execution_count": 2,
   "metadata": {},
   "outputs": [
    {
     "output_type": "display_data",
     "data": {
      "text/html": "        <script type=\"text/javascript\">\n        window.PlotlyConfig = {MathJaxConfig: 'local'};\n        if (window.MathJax) {MathJax.Hub.Config({SVG: {font: \"STIX-Web\"}});}\n        if (typeof require !== 'undefined') {\n        require.undef(\"plotly\");\n        requirejs.config({\n            paths: {\n                'plotly': ['https://cdn.plot.ly/plotly-latest.min']\n            }\n        });\n        require(['plotly'], function(Plotly) {\n            window._Plotly = Plotly;\n        });\n        }\n        </script>\n        "
     },
     "metadata": {}
    }
   ],
   "source": [
    "# Plotly packages\n",
    "import plotly.express as px\n",
    "import plotly.graph_objects as go\n",
    "from plotly.subplots import make_subplots\n",
    "from plotly.offline import download_plotlyjs, init_notebook_mode, iplot\n",
    "init_notebook_mode(connected=True)"
   ]
  },
  {
   "cell_type": "code",
   "execution_count": 3,
   "metadata": {},
   "outputs": [],
   "source": [
    "# connect to music sqlite3 database \n",
    "conn = sqlite3.connect('music.db')\n",
    "c = conn.cursor()"
   ]
  },
  {
   "cell_type": "code",
   "execution_count": 4,
   "metadata": {},
   "outputs": [],
   "source": [
    "tracks = pd.read_sql(\"SELECT * FROM track\", conn)\n",
    "af = pd.read_sql(\"SELECT * FROM audio_features\", conn)\n",
    "artists = pd.read_sql(\"SELECT * FROM artist\", conn)\n",
    "lyrics = pd.read_sql(\"SELECT * FROM lyrics\", conn)\n",
    "bb100 = pd.read_sql(\"SELECT * FROM bb100\", conn)"
   ]
  },
  {
   "cell_type": "code",
   "execution_count": 5,
   "metadata": {},
   "outputs": [
    {
     "output_type": "execute_result",
     "data": {
      "text/plain": "(Index(['album_name', 'album_id', 'artist_name', 'artist_id', 'disc_number',\n        'duration_ms', 'explicit', 'external_urls', 'href', 'id', 'name',\n        'popularity', 'track_number', 'type', 'uri'],\n       dtype='object'),\n Index(['danceability', 'energy', 'key', 'loudness', 'mode', 'speechiness',\n        'acousticness', 'instrumentalness', 'liveness', 'valence', 'tempo',\n        'type', 'id', 'uri', 'track_href', 'analysis_url', 'duration_ms',\n        'time_signature'],\n       dtype='object'),\n Index(['external_urls', 'followers', 'genre', 'href', 'id', 'name',\n        'popularity', 'type'],\n       dtype='object'),\n Index(['song_name', 'text', 'song_name_orig', 'spotify_id'], dtype='object'),\n Index(['Song', 'Artist', 'Rank_Default', 'Rank_LastWeek', 'Rank_Peak',\n        'Num_Weeks_on_Chart', 'Curr_Week'],\n       dtype='object'))"
     },
     "metadata": {},
     "execution_count": 5
    }
   ],
   "source": [
    "tracks.columns, af.columns, artists.columns, lyrics.columns, bb100.columns"
   ]
  },
  {
   "cell_type": "code",
   "execution_count": 35,
   "metadata": {},
   "outputs": [
    {
     "output_type": "execute_result",
     "data": {
      "text/plain": "str"
     },
     "metadata": {},
     "execution_count": 35
    }
   ],
   "source": [
    "dates = bb100['Curr_Week'].unique()\n",
    "type(dates[0])"
   ]
  },
  {
   "cell_type": "code",
   "execution_count": 6,
   "metadata": {},
   "outputs": [
    {
     "output_type": "stream",
     "name": "stdout",
     "text": "(145, 32)\n"
    }
   ],
   "source": [
    "temp = pd.merge(tracks, af, left_on='id', right_on='id', how='inner')\n",
    "print(temp.shape)"
   ]
  },
  {
   "cell_type": "code",
   "execution_count": 7,
   "metadata": {},
   "outputs": [
    {
     "output_type": "execute_result",
     "data": {
      "text/plain": "                          album_name                album_id     artist_name  \\\n0  10,000 Hours (with Justin Bieber)  4ow6xJwn49gpWz7iHpOzWY      Dan + Shay   \n1                          Adore You  5SL9nXZYZZl68bHwaM8uLa    Harry Styles   \n2                        After A Few  5Z6UUS0n3Oz7i2bDLEdbWL  Travis Denning   \n3                        After Hours  4yP0hdKOZPNshxUOjY0cZj      The Weeknd   \n4                     Heaven Or Hell  7z4GhRfLqfSkqrj5F3Yt2B     Don Toliver   \n\n                artist_id  disc_number  duration_ms_x explicit  \\\n0  7z5WFjZAIYejWy0NI5lv4T            1       167693.0        0   \n1  6KImCVD70vtIoJWnq6nGn3            1       207133.0        0   \n2  6CegFHnUqJcOBipgphZ2CJ            1       213493.0        0   \n3  1Xyo4u8uXC1ZmMpatF05PJ            1       361026.0        0   \n4  4Gso3d4CscCijv0lmajZWs            1       167915.0        1   \n\n                                       external_urls  \\\n0  https://open.spotify.com/track/2wrJq5XKLnmhRXH...   \n1  https://open.spotify.com/track/1M4qEo4HE3PRaCO...   \n2  https://open.spotify.com/track/1z6wl2rwKatfmza...   \n3  https://open.spotify.com/track/2p8IUWQDrpjuFlt...   \n4  https://open.spotify.com/track/527k23H0A4Q0UJN...   \n\n                                                href                      id  \\\n0  https://api.spotify.com/v1/tracks/2wrJq5XKLnmh...  2wrJq5XKLnmhRXHIAf9xBa   \n1  https://api.spotify.com/v1/tracks/1M4qEo4HE3PR...  1M4qEo4HE3PRaCOM7EXNJq   \n2  https://api.spotify.com/v1/tracks/1z6wl2rwKatf...  1z6wl2rwKatfmza6usanWw   \n3  https://api.spotify.com/v1/tracks/2p8IUWQDrpju...  2p8IUWQDrpjuFltbdgLOag   \n4  https://api.spotify.com/v1/tracks/527k23H0A4Q0...  527k23H0A4Q0UJN3vGs0Da   \n\n   ... instrumentalness  liveness  valence    tempo          type_y  \\\n0  ...         0.000000     0.111    0.430   89.991  audio_features   \n1  ...         0.000007     0.102    0.569   99.048  audio_features   \n2  ...         0.000000     0.194    0.695  106.998  audio_features   \n3  ...         0.006040     0.121    0.143  108.959  audio_features   \n4  ...         0.328000     0.603    0.453  162.948  audio_features   \n\n                                  uri_y  \\\n0  spotify:track:2wrJq5XKLnmhRXHIAf9xBa   \n1  spotify:track:1M4qEo4HE3PRaCOM7EXNJq   \n2  spotify:track:1z6wl2rwKatfmza6usanWw   \n3  spotify:track:2p8IUWQDrpjuFltbdgLOag   \n4  spotify:track:527k23H0A4Q0UJN3vGs0Da   \n\n                                          track_href  \\\n0  https://api.spotify.com/v1/tracks/2wrJq5XKLnmh...   \n1  https://api.spotify.com/v1/tracks/1M4qEo4HE3PR...   \n2  https://api.spotify.com/v1/tracks/1z6wl2rwKatf...   \n3  https://api.spotify.com/v1/tracks/2p8IUWQDrpju...   \n4  https://api.spotify.com/v1/tracks/527k23H0A4Q0...   \n\n                                        analysis_url  duration_ms_y  \\\n0  https://api.spotify.com/v1/audio-analysis/2wrJ...       167693.0   \n1  https://api.spotify.com/v1/audio-analysis/1M4q...       207133.0   \n2  https://api.spotify.com/v1/audio-analysis/1z6w...       213493.0   \n3  https://api.spotify.com/v1/audio-analysis/2p8I...       361027.0   \n4  https://api.spotify.com/v1/audio-analysis/527k...       167916.0   \n\n   time_signature  \n0               4  \n1               4  \n2               4  \n3               4  \n4               4  \n\n[5 rows x 32 columns]",
      "text/html": "<div>\n<style scoped>\n    .dataframe tbody tr th:only-of-type {\n        vertical-align: middle;\n    }\n\n    .dataframe tbody tr th {\n        vertical-align: top;\n    }\n\n    .dataframe thead th {\n        text-align: right;\n    }\n</style>\n<table border=\"1\" class=\"dataframe\">\n  <thead>\n    <tr style=\"text-align: right;\">\n      <th></th>\n      <th>album_name</th>\n      <th>album_id</th>\n      <th>artist_name</th>\n      <th>artist_id</th>\n      <th>disc_number</th>\n      <th>duration_ms_x</th>\n      <th>explicit</th>\n      <th>external_urls</th>\n      <th>href</th>\n      <th>id</th>\n      <th>...</th>\n      <th>instrumentalness</th>\n      <th>liveness</th>\n      <th>valence</th>\n      <th>tempo</th>\n      <th>type_y</th>\n      <th>uri_y</th>\n      <th>track_href</th>\n      <th>analysis_url</th>\n      <th>duration_ms_y</th>\n      <th>time_signature</th>\n    </tr>\n  </thead>\n  <tbody>\n    <tr>\n      <th>0</th>\n      <td>10,000 Hours (with Justin Bieber)</td>\n      <td>4ow6xJwn49gpWz7iHpOzWY</td>\n      <td>Dan + Shay</td>\n      <td>7z5WFjZAIYejWy0NI5lv4T</td>\n      <td>1</td>\n      <td>167693.0</td>\n      <td>0</td>\n      <td>https://open.spotify.com/track/2wrJq5XKLnmhRXH...</td>\n      <td>https://api.spotify.com/v1/tracks/2wrJq5XKLnmh...</td>\n      <td>2wrJq5XKLnmhRXHIAf9xBa</td>\n      <td>...</td>\n      <td>0.000000</td>\n      <td>0.111</td>\n      <td>0.430</td>\n      <td>89.991</td>\n      <td>audio_features</td>\n      <td>spotify:track:2wrJq5XKLnmhRXHIAf9xBa</td>\n      <td>https://api.spotify.com/v1/tracks/2wrJq5XKLnmh...</td>\n      <td>https://api.spotify.com/v1/audio-analysis/2wrJ...</td>\n      <td>167693.0</td>\n      <td>4</td>\n    </tr>\n    <tr>\n      <th>1</th>\n      <td>Adore You</td>\n      <td>5SL9nXZYZZl68bHwaM8uLa</td>\n      <td>Harry Styles</td>\n      <td>6KImCVD70vtIoJWnq6nGn3</td>\n      <td>1</td>\n      <td>207133.0</td>\n      <td>0</td>\n      <td>https://open.spotify.com/track/1M4qEo4HE3PRaCO...</td>\n      <td>https://api.spotify.com/v1/tracks/1M4qEo4HE3PR...</td>\n      <td>1M4qEo4HE3PRaCOM7EXNJq</td>\n      <td>...</td>\n      <td>0.000007</td>\n      <td>0.102</td>\n      <td>0.569</td>\n      <td>99.048</td>\n      <td>audio_features</td>\n      <td>spotify:track:1M4qEo4HE3PRaCOM7EXNJq</td>\n      <td>https://api.spotify.com/v1/tracks/1M4qEo4HE3PR...</td>\n      <td>https://api.spotify.com/v1/audio-analysis/1M4q...</td>\n      <td>207133.0</td>\n      <td>4</td>\n    </tr>\n    <tr>\n      <th>2</th>\n      <td>After A Few</td>\n      <td>5Z6UUS0n3Oz7i2bDLEdbWL</td>\n      <td>Travis Denning</td>\n      <td>6CegFHnUqJcOBipgphZ2CJ</td>\n      <td>1</td>\n      <td>213493.0</td>\n      <td>0</td>\n      <td>https://open.spotify.com/track/1z6wl2rwKatfmza...</td>\n      <td>https://api.spotify.com/v1/tracks/1z6wl2rwKatf...</td>\n      <td>1z6wl2rwKatfmza6usanWw</td>\n      <td>...</td>\n      <td>0.000000</td>\n      <td>0.194</td>\n      <td>0.695</td>\n      <td>106.998</td>\n      <td>audio_features</td>\n      <td>spotify:track:1z6wl2rwKatfmza6usanWw</td>\n      <td>https://api.spotify.com/v1/tracks/1z6wl2rwKatf...</td>\n      <td>https://api.spotify.com/v1/audio-analysis/1z6w...</td>\n      <td>213493.0</td>\n      <td>4</td>\n    </tr>\n    <tr>\n      <th>3</th>\n      <td>After Hours</td>\n      <td>4yP0hdKOZPNshxUOjY0cZj</td>\n      <td>The Weeknd</td>\n      <td>1Xyo4u8uXC1ZmMpatF05PJ</td>\n      <td>1</td>\n      <td>361026.0</td>\n      <td>0</td>\n      <td>https://open.spotify.com/track/2p8IUWQDrpjuFlt...</td>\n      <td>https://api.spotify.com/v1/tracks/2p8IUWQDrpju...</td>\n      <td>2p8IUWQDrpjuFltbdgLOag</td>\n      <td>...</td>\n      <td>0.006040</td>\n      <td>0.121</td>\n      <td>0.143</td>\n      <td>108.959</td>\n      <td>audio_features</td>\n      <td>spotify:track:2p8IUWQDrpjuFltbdgLOag</td>\n      <td>https://api.spotify.com/v1/tracks/2p8IUWQDrpju...</td>\n      <td>https://api.spotify.com/v1/audio-analysis/2p8I...</td>\n      <td>361027.0</td>\n      <td>4</td>\n    </tr>\n    <tr>\n      <th>4</th>\n      <td>Heaven Or Hell</td>\n      <td>7z4GhRfLqfSkqrj5F3Yt2B</td>\n      <td>Don Toliver</td>\n      <td>4Gso3d4CscCijv0lmajZWs</td>\n      <td>1</td>\n      <td>167915.0</td>\n      <td>1</td>\n      <td>https://open.spotify.com/track/527k23H0A4Q0UJN...</td>\n      <td>https://api.spotify.com/v1/tracks/527k23H0A4Q0...</td>\n      <td>527k23H0A4Q0UJN3vGs0Da</td>\n      <td>...</td>\n      <td>0.328000</td>\n      <td>0.603</td>\n      <td>0.453</td>\n      <td>162.948</td>\n      <td>audio_features</td>\n      <td>spotify:track:527k23H0A4Q0UJN3vGs0Da</td>\n      <td>https://api.spotify.com/v1/tracks/527k23H0A4Q0...</td>\n      <td>https://api.spotify.com/v1/audio-analysis/527k...</td>\n      <td>167916.0</td>\n      <td>4</td>\n    </tr>\n  </tbody>\n</table>\n<p>5 rows × 32 columns</p>\n</div>"
     },
     "metadata": {},
     "execution_count": 7
    }
   ],
   "source": [
    "temp.head()"
   ]
  },
  {
   "cell_type": "code",
   "execution_count": 8,
   "metadata": {},
   "outputs": [],
   "source": [
    "temp.drop(columns=['duration_ms_y', 'type_y', 'type_x', 'uri_y', 'uri_x'], inplace=True)\n",
    "temp.rename(columns={'duration_ms_x':'duration_ms'}, inplace=True)"
   ]
  },
  {
   "cell_type": "code",
   "execution_count": 9,
   "metadata": {},
   "outputs": [
    {
     "output_type": "execute_result",
     "data": {
      "text/plain": "Index(['album_name', 'album_id', 'artist_name', 'artist_id', 'disc_number',\n       'duration_ms', 'explicit', 'external_urls', 'href', 'id', 'name',\n       'popularity', 'track_number', 'danceability', 'energy', 'key',\n       'loudness', 'mode', 'speechiness', 'acousticness', 'instrumentalness',\n       'liveness', 'valence', 'tempo', 'track_href', 'analysis_url',\n       'time_signature'],\n      dtype='object')"
     },
     "metadata": {},
     "execution_count": 9
    }
   ],
   "source": [
    "temp.columns"
   ]
  },
  {
   "cell_type": "code",
   "execution_count": null,
   "metadata": {},
   "outputs": [],
   "source": []
  },
  {
   "cell_type": "code",
   "execution_count": 10,
   "metadata": {},
   "outputs": [
    {
     "output_type": "display_data",
     "data": {
      "application/vnd.plotly.v1+json": {
       "config": {
        "plotlyServerURL": "https://plot.ly"
       },
       "data": [
        {
         "nbinsx": 40,
         "type": "histogram",
         "x": [
          0.654,
          0.676,
          0.617,
          0.664,
          0.629,
          0.738,
          0.837,
          0.809,
          0.509,
          0.711,
          0.459,
          0.43,
          0.846,
          0.742,
          0.875,
          0.514,
          0.774,
          0.661,
          0.769,
          0.707,
          0.579,
          0.811,
          0.73,
          0.929,
          0.617,
          0.732,
          0.863,
          0.472,
          0.828,
          0.631,
          0.695,
          0.679,
          0.608,
          0.824,
          0.726,
          0.651,
          0.607,
          0.548,
          0.778,
          0.616,
          0.794,
          0.691,
          0.468,
          0.585,
          0.704,
          0.784,
          0.836,
          0.705,
          0.586,
          0.594,
          0.808,
          0.841,
          0.824,
          0.689,
          0.537,
          0.733,
          0.788,
          0.52,
          0.598,
          0.831,
          0.51,
          0.701,
          0.778,
          0.655,
          0.464,
          0.591,
          0.561,
          0.664,
          0.538,
          0.628,
          0.592,
          0.811,
          0.667,
          0.665,
          0.708,
          0.896,
          0.263,
          0.754,
          0.676,
          0.932,
          0.876,
          0.764,
          0.413,
          0.621,
          0.724,
          0.77,
          0.768,
          0.463,
          0.698,
          0.707,
          0.836,
          0.802,
          0.775,
          0.728,
          0.915,
          0.676,
          0.883,
          0.572,
          0.412,
          0.88,
          0.547,
          0.707,
          0.721,
          0.746,
          0.784,
          0.623,
          0.621,
          0.835,
          0.607,
          0.859,
          0.843,
          0.787,
          0.883,
          0.827,
          0.523,
          0.501,
          0.775,
          0.676,
          0.735,
          0.823,
          0.878,
          0.863,
          0.951,
          0.719,
          0.612,
          0.896,
          0.732,
          0.777,
          0.761,
          0.716,
          0.505,
          0.441,
          0.599,
          0.834,
          0.893,
          0.803,
          0.858,
          0.655,
          0.867,
          0.852,
          0.484,
          0.923,
          0.86,
          0.591,
          0.687
         ],
         "xaxis": "x",
         "yaxis": "y"
        },
        {
         "nbinsx": 40,
         "type": "histogram",
         "x": [
          0.63,
          0.771,
          0.849,
          0.572,
          0.692,
          0.678,
          0.663,
          0.545,
          0.493,
          0.774,
          0.575,
          0.7,
          0.748,
          0.731,
          0.687,
          0.73,
          0.554,
          0.633,
          0.787,
          0.955,
          0.565,
          0.512,
          0.729,
          0.7,
          0.525,
          0.707,
          0.633,
          0.65,
          0.538,
          0.591,
          0.762,
          0.728,
          0.735,
          0.588,
          0.431,
          0.788,
          0.514,
          0.805,
          0.786,
          0.849,
          0.793,
          0.732,
          0.64,
          0.641,
          0.225,
          0.43,
          0.624,
          0.69,
          0.547,
          0.6,
          0.745,
          0.728,
          0.513,
          0.689,
          0.746,
          0.389,
          0.436,
          0.841,
          0.427,
          0.499,
          0.838,
          0.5,
          0.559,
          0.719,
          0.473,
          0.815,
          0.536,
          0.561,
          0.941,
          0.867,
          0.928,
          0.553,
          0.719,
          0.621,
          0.186,
          0.72,
          0.393,
          0.583,
          0.609,
          0.578,
          0.492,
          0.32,
          0.428,
          0.882,
          0.491,
          0.655,
          0.635,
          0.653,
          0.454,
          0.532,
          0.617,
          0.591,
          0.72,
          0.431,
          0.612,
          0.529,
          0.808,
          0.519,
          0.738,
          0.751,
          0.817,
          0.622,
          0.716,
          0.69,
          0.721,
          0.721,
          0.601,
          0.466,
          0.829,
          0.477,
          0.741,
          0.673,
          0.668,
          0.469,
          0.837,
          0.405,
          0.823,
          0.815,
          0.369,
          0.552,
          0.525,
          0.631,
          0.638,
          0.611,
          0.57,
          0.586,
          0.41,
          0.658,
          0.607,
          0.537,
          0.657,
          0.327,
          0.74,
          0.454,
          0.618,
          0.715,
          0.598,
          0.722,
          0.744,
          0.698,
          0.903,
          0.604,
          0.758,
          0.585,
          0.514
         ],
         "xaxis": "x2",
         "yaxis": "y2"
        },
        {
         "nbinsx": 40,
         "type": "histogram",
         "x": [
          -4.644,
          -3.675,
          -4.316,
          -6.099,
          -8.045,
          -6.596,
          -6.434,
          -6.678,
          -6.676,
          -4.068,
          -4.858,
          -5.35,
          -3.512,
          -4.362,
          -5.734,
          -5.934,
          -7.909,
          -5.986,
          -3.909,
          -4.593,
          -6.901,
          -6.381,
          -3.434,
          -5.595,
          -10.426,
          -5.849,
          -5.002,
          -6.676,
          -6.067,
          -5.785,
          -3.497,
          -3.092,
          -5.497,
          -6.4,
          -8.765,
          -4.561,
          -6.631,
          -5.732,
          -4.61,
          -4.897,
          -4.521,
          -3.715,
          -5.862,
          -4.269,
          -14.454,
          -8.756,
          -6.75,
          -6.667,
          -7.383,
          -6.712,
          -5.26,
          -3.37,
          -6.263,
          -5.517,
          -5.507,
          -8.468,
          -9.435,
          -3.048,
          -8.764,
          -8.442,
          -2.702,
          -8.82,
          -7.109,
          -7.4,
          -10.086,
          -4.725,
          -6.227,
          -7.031,
          -3.582,
          -3.555,
          -5.403,
          -6.644,
          -5.371,
          -12.599,
          -8.953,
          -6.262,
          -7.783,
          -7.34,
          -5.831,
          -4.478,
          -8.11,
          -7.209,
          -7.414,
          -5.01,
          -6.024,
          -6.976,
          -4.925,
          -5.515,
          -6.756,
          -10.65,
          -4.363,
          -4.895,
          -5.353,
          -9.966,
          -4.535,
          -11.178,
          -3.158,
          -7.092,
          -6.203,
          -4.258,
          -4.255,
          -6.951,
          -7.037,
          -7.956,
          -5.457,
          -4.584,
          -5.616,
          -8.949,
          -4.074,
          -6.116,
          -5.609,
          -4.577,
          -2.957,
          -9.141,
          -4.494,
          -5.679,
          -4.941,
          -4.294,
          -9.682,
          -7.57,
          -6.832,
          -4.689,
          -5.614,
          -5.01,
          -6.642,
          -6.687,
          -14.41,
          -5.191,
          -6.274,
          -7.648,
          -8.12,
          -19.167,
          -3.517,
          -9.75,
          -4.425,
          -3.28,
          -7.407,
          -4.726,
          -5.171,
          -7.206,
          -3.9,
          -6.671,
          -5.16,
          -6.35,
          -6.612
         ],
         "xaxis": "x3",
         "yaxis": "y3"
        },
        {
         "nbinsx": 40,
         "type": "histogram",
         "x": [
          0.43,
          0.569,
          0.695,
          0.143,
          0.453,
          0.514,
          0.293,
          0.244,
          0.264,
          0.939,
          0.183,
          0.731,
          0.597,
          0.547,
          0.864,
          0.334,
          0.349,
          0.613,
          0.836,
          0.575,
          0.631,
          0.346,
          0.467,
          0.802,
          0.377,
          0.832,
          0.545,
          0.11,
          0.56,
          0.489,
          0.553,
          0.46,
          0.773,
          0.513,
          0.348,
          0.589,
          0.414,
          0.648,
          0.241,
          0.638,
          0.677,
          0.477,
          0.499,
          0.266,
          0.243,
          0.236,
          0.7,
          0.466,
          0.35,
          0.5,
          0.829,
          0.43,
          0.179,
          0.664,
          0.252,
          0.244,
          0.341,
          0.705,
          0.0605,
          0.511,
          0.574,
          0.409,
          0.678,
          0.435,
          0.604,
          0.306,
          0.378,
          0.713,
          0.585,
          0.597,
          0.391,
          0.86,
          0.717,
          0.389,
          0.321,
          0.966,
          0.205,
          0.77,
          0.508,
          0.623,
          0.4,
          0.575,
          0.391,
          0.573,
          0.383,
          0.584,
          0.64,
          0.233,
          0.137,
          0.55,
          0.866,
          0.309,
          0.49,
          0.629,
          0.758,
          0.397,
          0.805,
          0.35,
          0.398,
          0.884,
          0.592,
          0.223,
          0.667,
          0.497,
          0.895,
          0.719,
          0.457,
          0.562,
          0.685,
          0.153,
          0.68,
          0.786,
          0.676,
          0.196,
          0.523,
          0.446,
          0.65,
          0.796,
          0.235,
          0.418,
          0.694,
          0.817,
          0.439,
          0.489,
          0.335,
          0.642,
          0.586,
          0.633,
          0.71,
          0.28,
          0.276,
          0.63,
          0.573,
          0.837,
          0.389,
          0.574,
          0.85,
          0.298,
          0.645,
          0.324,
          0.716,
          0.826,
          0.453,
          0.324,
          0.494
         ],
         "xaxis": "x4",
         "yaxis": "y4"
        }
       ],
       "layout": {
        "annotations": [
         {
          "font": {
           "size": 16
          },
          "showarrow": false,
          "text": "Danceability",
          "x": 0.225,
          "xanchor": "center",
          "xref": "paper",
          "y": 1,
          "yanchor": "bottom",
          "yref": "paper"
         },
         {
          "font": {
           "size": 16
          },
          "showarrow": false,
          "text": "Energy",
          "x": 0.775,
          "xanchor": "center",
          "xref": "paper",
          "y": 1,
          "yanchor": "bottom",
          "yref": "paper"
         },
         {
          "font": {
           "size": 16
          },
          "showarrow": false,
          "text": "Loudness",
          "x": 0.225,
          "xanchor": "center",
          "xref": "paper",
          "y": 0.375,
          "yanchor": "bottom",
          "yref": "paper"
         },
         {
          "font": {
           "size": 16
          },
          "showarrow": false,
          "text": "Valence",
          "x": 0.775,
          "xanchor": "center",
          "xref": "paper",
          "y": 0.375,
          "yanchor": "bottom",
          "yref": "paper"
         }
        ],
        "height": 600,
        "template": {
         "data": {
          "bar": [
           {
            "error_x": {
             "color": "#2a3f5f"
            },
            "error_y": {
             "color": "#2a3f5f"
            },
            "marker": {
             "line": {
              "color": "#E5ECF6",
              "width": 0.5
             }
            },
            "type": "bar"
           }
          ],
          "barpolar": [
           {
            "marker": {
             "line": {
              "color": "#E5ECF6",
              "width": 0.5
             }
            },
            "type": "barpolar"
           }
          ],
          "carpet": [
           {
            "aaxis": {
             "endlinecolor": "#2a3f5f",
             "gridcolor": "white",
             "linecolor": "white",
             "minorgridcolor": "white",
             "startlinecolor": "#2a3f5f"
            },
            "baxis": {
             "endlinecolor": "#2a3f5f",
             "gridcolor": "white",
             "linecolor": "white",
             "minorgridcolor": "white",
             "startlinecolor": "#2a3f5f"
            },
            "type": "carpet"
           }
          ],
          "choropleth": [
           {
            "colorbar": {
             "outlinewidth": 0,
             "ticks": ""
            },
            "type": "choropleth"
           }
          ],
          "contour": [
           {
            "colorbar": {
             "outlinewidth": 0,
             "ticks": ""
            },
            "colorscale": [
             [
              0,
              "#0d0887"
             ],
             [
              0.1111111111111111,
              "#46039f"
             ],
             [
              0.2222222222222222,
              "#7201a8"
             ],
             [
              0.3333333333333333,
              "#9c179e"
             ],
             [
              0.4444444444444444,
              "#bd3786"
             ],
             [
              0.5555555555555556,
              "#d8576b"
             ],
             [
              0.6666666666666666,
              "#ed7953"
             ],
             [
              0.7777777777777778,
              "#fb9f3a"
             ],
             [
              0.8888888888888888,
              "#fdca26"
             ],
             [
              1,
              "#f0f921"
             ]
            ],
            "type": "contour"
           }
          ],
          "contourcarpet": [
           {
            "colorbar": {
             "outlinewidth": 0,
             "ticks": ""
            },
            "type": "contourcarpet"
           }
          ],
          "heatmap": [
           {
            "colorbar": {
             "outlinewidth": 0,
             "ticks": ""
            },
            "colorscale": [
             [
              0,
              "#0d0887"
             ],
             [
              0.1111111111111111,
              "#46039f"
             ],
             [
              0.2222222222222222,
              "#7201a8"
             ],
             [
              0.3333333333333333,
              "#9c179e"
             ],
             [
              0.4444444444444444,
              "#bd3786"
             ],
             [
              0.5555555555555556,
              "#d8576b"
             ],
             [
              0.6666666666666666,
              "#ed7953"
             ],
             [
              0.7777777777777778,
              "#fb9f3a"
             ],
             [
              0.8888888888888888,
              "#fdca26"
             ],
             [
              1,
              "#f0f921"
             ]
            ],
            "type": "heatmap"
           }
          ],
          "heatmapgl": [
           {
            "colorbar": {
             "outlinewidth": 0,
             "ticks": ""
            },
            "colorscale": [
             [
              0,
              "#0d0887"
             ],
             [
              0.1111111111111111,
              "#46039f"
             ],
             [
              0.2222222222222222,
              "#7201a8"
             ],
             [
              0.3333333333333333,
              "#9c179e"
             ],
             [
              0.4444444444444444,
              "#bd3786"
             ],
             [
              0.5555555555555556,
              "#d8576b"
             ],
             [
              0.6666666666666666,
              "#ed7953"
             ],
             [
              0.7777777777777778,
              "#fb9f3a"
             ],
             [
              0.8888888888888888,
              "#fdca26"
             ],
             [
              1,
              "#f0f921"
             ]
            ],
            "type": "heatmapgl"
           }
          ],
          "histogram": [
           {
            "marker": {
             "colorbar": {
              "outlinewidth": 0,
              "ticks": ""
             }
            },
            "type": "histogram"
           }
          ],
          "histogram2d": [
           {
            "colorbar": {
             "outlinewidth": 0,
             "ticks": ""
            },
            "colorscale": [
             [
              0,
              "#0d0887"
             ],
             [
              0.1111111111111111,
              "#46039f"
             ],
             [
              0.2222222222222222,
              "#7201a8"
             ],
             [
              0.3333333333333333,
              "#9c179e"
             ],
             [
              0.4444444444444444,
              "#bd3786"
             ],
             [
              0.5555555555555556,
              "#d8576b"
             ],
             [
              0.6666666666666666,
              "#ed7953"
             ],
             [
              0.7777777777777778,
              "#fb9f3a"
             ],
             [
              0.8888888888888888,
              "#fdca26"
             ],
             [
              1,
              "#f0f921"
             ]
            ],
            "type": "histogram2d"
           }
          ],
          "histogram2dcontour": [
           {
            "colorbar": {
             "outlinewidth": 0,
             "ticks": ""
            },
            "colorscale": [
             [
              0,
              "#0d0887"
             ],
             [
              0.1111111111111111,
              "#46039f"
             ],
             [
              0.2222222222222222,
              "#7201a8"
             ],
             [
              0.3333333333333333,
              "#9c179e"
             ],
             [
              0.4444444444444444,
              "#bd3786"
             ],
             [
              0.5555555555555556,
              "#d8576b"
             ],
             [
              0.6666666666666666,
              "#ed7953"
             ],
             [
              0.7777777777777778,
              "#fb9f3a"
             ],
             [
              0.8888888888888888,
              "#fdca26"
             ],
             [
              1,
              "#f0f921"
             ]
            ],
            "type": "histogram2dcontour"
           }
          ],
          "mesh3d": [
           {
            "colorbar": {
             "outlinewidth": 0,
             "ticks": ""
            },
            "type": "mesh3d"
           }
          ],
          "parcoords": [
           {
            "line": {
             "colorbar": {
              "outlinewidth": 0,
              "ticks": ""
             }
            },
            "type": "parcoords"
           }
          ],
          "pie": [
           {
            "automargin": true,
            "type": "pie"
           }
          ],
          "scatter": [
           {
            "marker": {
             "colorbar": {
              "outlinewidth": 0,
              "ticks": ""
             }
            },
            "type": "scatter"
           }
          ],
          "scatter3d": [
           {
            "line": {
             "colorbar": {
              "outlinewidth": 0,
              "ticks": ""
             }
            },
            "marker": {
             "colorbar": {
              "outlinewidth": 0,
              "ticks": ""
             }
            },
            "type": "scatter3d"
           }
          ],
          "scattercarpet": [
           {
            "marker": {
             "colorbar": {
              "outlinewidth": 0,
              "ticks": ""
             }
            },
            "type": "scattercarpet"
           }
          ],
          "scattergeo": [
           {
            "marker": {
             "colorbar": {
              "outlinewidth": 0,
              "ticks": ""
             }
            },
            "type": "scattergeo"
           }
          ],
          "scattergl": [
           {
            "marker": {
             "colorbar": {
              "outlinewidth": 0,
              "ticks": ""
             }
            },
            "type": "scattergl"
           }
          ],
          "scattermapbox": [
           {
            "marker": {
             "colorbar": {
              "outlinewidth": 0,
              "ticks": ""
             }
            },
            "type": "scattermapbox"
           }
          ],
          "scatterpolar": [
           {
            "marker": {
             "colorbar": {
              "outlinewidth": 0,
              "ticks": ""
             }
            },
            "type": "scatterpolar"
           }
          ],
          "scatterpolargl": [
           {
            "marker": {
             "colorbar": {
              "outlinewidth": 0,
              "ticks": ""
             }
            },
            "type": "scatterpolargl"
           }
          ],
          "scatterternary": [
           {
            "marker": {
             "colorbar": {
              "outlinewidth": 0,
              "ticks": ""
             }
            },
            "type": "scatterternary"
           }
          ],
          "surface": [
           {
            "colorbar": {
             "outlinewidth": 0,
             "ticks": ""
            },
            "colorscale": [
             [
              0,
              "#0d0887"
             ],
             [
              0.1111111111111111,
              "#46039f"
             ],
             [
              0.2222222222222222,
              "#7201a8"
             ],
             [
              0.3333333333333333,
              "#9c179e"
             ],
             [
              0.4444444444444444,
              "#bd3786"
             ],
             [
              0.5555555555555556,
              "#d8576b"
             ],
             [
              0.6666666666666666,
              "#ed7953"
             ],
             [
              0.7777777777777778,
              "#fb9f3a"
             ],
             [
              0.8888888888888888,
              "#fdca26"
             ],
             [
              1,
              "#f0f921"
             ]
            ],
            "type": "surface"
           }
          ],
          "table": [
           {
            "cells": {
             "fill": {
              "color": "#EBF0F8"
             },
             "line": {
              "color": "white"
             }
            },
            "header": {
             "fill": {
              "color": "#C8D4E3"
             },
             "line": {
              "color": "white"
             }
            },
            "type": "table"
           }
          ]
         },
         "layout": {
          "annotationdefaults": {
           "arrowcolor": "#2a3f5f",
           "arrowhead": 0,
           "arrowwidth": 1
          },
          "coloraxis": {
           "colorbar": {
            "outlinewidth": 0,
            "ticks": ""
           }
          },
          "colorscale": {
           "diverging": [
            [
             0,
             "#8e0152"
            ],
            [
             0.1,
             "#c51b7d"
            ],
            [
             0.2,
             "#de77ae"
            ],
            [
             0.3,
             "#f1b6da"
            ],
            [
             0.4,
             "#fde0ef"
            ],
            [
             0.5,
             "#f7f7f7"
            ],
            [
             0.6,
             "#e6f5d0"
            ],
            [
             0.7,
             "#b8e186"
            ],
            [
             0.8,
             "#7fbc41"
            ],
            [
             0.9,
             "#4d9221"
            ],
            [
             1,
             "#276419"
            ]
           ],
           "sequential": [
            [
             0,
             "#0d0887"
            ],
            [
             0.1111111111111111,
             "#46039f"
            ],
            [
             0.2222222222222222,
             "#7201a8"
            ],
            [
             0.3333333333333333,
             "#9c179e"
            ],
            [
             0.4444444444444444,
             "#bd3786"
            ],
            [
             0.5555555555555556,
             "#d8576b"
            ],
            [
             0.6666666666666666,
             "#ed7953"
            ],
            [
             0.7777777777777778,
             "#fb9f3a"
            ],
            [
             0.8888888888888888,
             "#fdca26"
            ],
            [
             1,
             "#f0f921"
            ]
           ],
           "sequentialminus": [
            [
             0,
             "#0d0887"
            ],
            [
             0.1111111111111111,
             "#46039f"
            ],
            [
             0.2222222222222222,
             "#7201a8"
            ],
            [
             0.3333333333333333,
             "#9c179e"
            ],
            [
             0.4444444444444444,
             "#bd3786"
            ],
            [
             0.5555555555555556,
             "#d8576b"
            ],
            [
             0.6666666666666666,
             "#ed7953"
            ],
            [
             0.7777777777777778,
             "#fb9f3a"
            ],
            [
             0.8888888888888888,
             "#fdca26"
            ],
            [
             1,
             "#f0f921"
            ]
           ]
          },
          "colorway": [
           "#636efa",
           "#EF553B",
           "#00cc96",
           "#ab63fa",
           "#FFA15A",
           "#19d3f3",
           "#FF6692",
           "#B6E880",
           "#FF97FF",
           "#FECB52"
          ],
          "font": {
           "color": "#2a3f5f"
          },
          "geo": {
           "bgcolor": "white",
           "lakecolor": "white",
           "landcolor": "#E5ECF6",
           "showlakes": true,
           "showland": true,
           "subunitcolor": "white"
          },
          "hoverlabel": {
           "align": "left"
          },
          "hovermode": "closest",
          "mapbox": {
           "style": "light"
          },
          "paper_bgcolor": "white",
          "plot_bgcolor": "#E5ECF6",
          "polar": {
           "angularaxis": {
            "gridcolor": "white",
            "linecolor": "white",
            "ticks": ""
           },
           "bgcolor": "#E5ECF6",
           "radialaxis": {
            "gridcolor": "white",
            "linecolor": "white",
            "ticks": ""
           }
          },
          "scene": {
           "xaxis": {
            "backgroundcolor": "#E5ECF6",
            "gridcolor": "white",
            "gridwidth": 2,
            "linecolor": "white",
            "showbackground": true,
            "ticks": "",
            "zerolinecolor": "white"
           },
           "yaxis": {
            "backgroundcolor": "#E5ECF6",
            "gridcolor": "white",
            "gridwidth": 2,
            "linecolor": "white",
            "showbackground": true,
            "ticks": "",
            "zerolinecolor": "white"
           },
           "zaxis": {
            "backgroundcolor": "#E5ECF6",
            "gridcolor": "white",
            "gridwidth": 2,
            "linecolor": "white",
            "showbackground": true,
            "ticks": "",
            "zerolinecolor": "white"
           }
          },
          "shapedefaults": {
           "line": {
            "color": "#2a3f5f"
           }
          },
          "ternary": {
           "aaxis": {
            "gridcolor": "white",
            "linecolor": "white",
            "ticks": ""
           },
           "baxis": {
            "gridcolor": "white",
            "linecolor": "white",
            "ticks": ""
           },
           "bgcolor": "#E5ECF6",
           "caxis": {
            "gridcolor": "white",
            "linecolor": "white",
            "ticks": ""
           }
          },
          "title": {
           "x": 0.05
          },
          "xaxis": {
           "automargin": true,
           "gridcolor": "white",
           "linecolor": "white",
           "ticks": "",
           "title": {
            "standoff": 15
           },
           "zerolinecolor": "white",
           "zerolinewidth": 2
          },
          "yaxis": {
           "automargin": true,
           "gridcolor": "white",
           "linecolor": "white",
           "ticks": "",
           "title": {
            "standoff": 15
           },
           "zerolinecolor": "white",
           "zerolinewidth": 2
          }
         }
        },
        "title": {
         "text": "Distribution of Audio Features"
        },
        "width": 800,
        "xaxis": {
         "anchor": "y",
         "domain": [
          0,
          0.45
         ]
        },
        "xaxis2": {
         "anchor": "y2",
         "domain": [
          0.55,
          1
         ]
        },
        "xaxis3": {
         "anchor": "y3",
         "domain": [
          0,
          0.45
         ]
        },
        "xaxis4": {
         "anchor": "y4",
         "domain": [
          0.55,
          1
         ]
        },
        "yaxis": {
         "anchor": "x",
         "domain": [
          0.625,
          1
         ]
        },
        "yaxis2": {
         "anchor": "x2",
         "domain": [
          0.625,
          1
         ]
        },
        "yaxis3": {
         "anchor": "x3",
         "domain": [
          0,
          0.375
         ]
        },
        "yaxis4": {
         "anchor": "x4",
         "domain": [
          0,
          0.375
         ]
        }
       }
      },
      "text/html": "<div>\n        \n        \n            <div id=\"a88caecc-5e8f-40ca-8061-40039596a64b\" class=\"plotly-graph-div\" style=\"height:600px; width:800px;\"></div>\n            <script type=\"text/javascript\">\n                require([\"plotly\"], function(Plotly) {\n                    window.PLOTLYENV=window.PLOTLYENV || {};\n                    \n                if (document.getElementById(\"a88caecc-5e8f-40ca-8061-40039596a64b\")) {\n                    Plotly.newPlot(\n                        'a88caecc-5e8f-40ca-8061-40039596a64b',\n                        [{\"nbinsx\": 40, \"type\": \"histogram\", \"x\": [0.654, 0.676, 0.617, 0.664, 0.629, 0.738, 0.837, 0.809, 0.509, 0.711, 0.459, 0.43, 0.846, 0.742, 0.875, 0.514, 0.774, 0.661, 0.769, 0.707, 0.579, 0.811, 0.73, 0.929, 0.617, 0.732, 0.863, 0.472, 0.828, 0.631, 0.695, 0.679, 0.608, 0.824, 0.726, 0.651, 0.607, 0.548, 0.778, 0.616, 0.794, 0.691, 0.468, 0.585, 0.704, 0.784, 0.836, 0.705, 0.586, 0.594, 0.808, 0.841, 0.824, 0.689, 0.537, 0.733, 0.788, 0.52, 0.598, 0.831, 0.51, 0.701, 0.778, 0.655, 0.464, 0.591, 0.561, 0.664, 0.538, 0.628, 0.592, 0.811, 0.667, 0.665, 0.708, 0.896, 0.263, 0.754, 0.676, 0.932, 0.876, 0.764, 0.413, 0.621, 0.724, 0.77, 0.768, 0.463, 0.698, 0.707, 0.836, 0.802, 0.775, 0.728, 0.915, 0.676, 0.883, 0.572, 0.412, 0.88, 0.547, 0.707, 0.721, 0.746, 0.784, 0.623, 0.621, 0.835, 0.607, 0.859, 0.843, 0.787, 0.883, 0.827, 0.523, 0.501, 0.775, 0.676, 0.735, 0.823, 0.878, 0.863, 0.951, 0.719, 0.612, 0.896, 0.732, 0.777, 0.761, 0.716, 0.505, 0.441, 0.599, 0.834, 0.893, 0.803, 0.858, 0.655, 0.867, 0.852, 0.484, 0.923, 0.86, 0.591, 0.687], \"xaxis\": \"x\", \"yaxis\": \"y\"}, {\"nbinsx\": 40, \"type\": \"histogram\", \"x\": [0.63, 0.771, 0.849, 0.572, 0.692, 0.678, 0.663, 0.545, 0.493, 0.774, 0.575, 0.7, 0.748, 0.731, 0.687, 0.73, 0.554, 0.633, 0.787, 0.955, 0.565, 0.512, 0.729, 0.7, 0.525, 0.707, 0.633, 0.65, 0.538, 0.591, 0.762, 0.728, 0.735, 0.588, 0.431, 0.788, 0.514, 0.805, 0.786, 0.849, 0.793, 0.732, 0.64, 0.641, 0.225, 0.43, 0.624, 0.69, 0.547, 0.6, 0.745, 0.728, 0.513, 0.689, 0.746, 0.389, 0.436, 0.841, 0.427, 0.499, 0.838, 0.5, 0.559, 0.719, 0.473, 0.815, 0.536, 0.561, 0.941, 0.867, 0.928, 0.553, 0.719, 0.621, 0.186, 0.72, 0.393, 0.583, 0.609, 0.578, 0.492, 0.32, 0.428, 0.882, 0.491, 0.655, 0.635, 0.653, 0.454, 0.532, 0.617, 0.591, 0.72, 0.431, 0.612, 0.529, 0.808, 0.519, 0.738, 0.751, 0.817, 0.622, 0.716, 0.69, 0.721, 0.721, 0.601, 0.466, 0.829, 0.477, 0.741, 0.673, 0.668, 0.469, 0.837, 0.405, 0.823, 0.815, 0.369, 0.552, 0.525, 0.631, 0.638, 0.611, 0.57, 0.586, 0.41, 0.658, 0.607, 0.537, 0.657, 0.327, 0.74, 0.454, 0.618, 0.715, 0.598, 0.722, 0.744, 0.698, 0.903, 0.604, 0.758, 0.585, 0.514], \"xaxis\": \"x2\", \"yaxis\": \"y2\"}, {\"nbinsx\": 40, \"type\": \"histogram\", \"x\": [-4.644, -3.675, -4.316, -6.099, -8.045, -6.596, -6.434, -6.678, -6.676, -4.068, -4.858, -5.35, -3.512, -4.362, -5.734, -5.934, -7.909, -5.986, -3.909, -4.593, -6.901, -6.381, -3.434, -5.595, -10.426, -5.849, -5.002, -6.676, -6.067, -5.785, -3.497, -3.092, -5.497, -6.4, -8.765, -4.561, -6.631, -5.732, -4.61, -4.897, -4.521, -3.715, -5.862, -4.269, -14.454, -8.756, -6.75, -6.667, -7.383, -6.712, -5.26, -3.37, -6.263, -5.517, -5.507, -8.468, -9.435, -3.048, -8.764, -8.442, -2.702, -8.82, -7.109, -7.4, -10.086, -4.725, -6.227, -7.031, -3.582, -3.555, -5.403, -6.644, -5.371, -12.599, -8.953, -6.262, -7.783, -7.34, -5.831, -4.478, -8.11, -7.209, -7.414, -5.01, -6.024, -6.976, -4.925, -5.515, -6.756, -10.65, -4.363, -4.895, -5.353, -9.966, -4.535, -11.178, -3.158, -7.092, -6.203, -4.258, -4.255, -6.951, -7.037, -7.956, -5.457, -4.584, -5.616, -8.949, -4.074, -6.116, -5.609, -4.577, -2.957, -9.141, -4.494, -5.679, -4.941, -4.294, -9.682, -7.57, -6.832, -4.689, -5.614, -5.01, -6.642, -6.687, -14.41, -5.191, -6.274, -7.648, -8.12, -19.167, -3.517, -9.75, -4.425, -3.28, -7.407, -4.726, -5.171, -7.206, -3.9, -6.671, -5.16, -6.35, -6.612], \"xaxis\": \"x3\", \"yaxis\": \"y3\"}, {\"nbinsx\": 40, \"type\": \"histogram\", \"x\": [0.43, 0.569, 0.695, 0.143, 0.453, 0.514, 0.293, 0.244, 0.264, 0.939, 0.183, 0.731, 0.597, 0.547, 0.864, 0.334, 0.349, 0.613, 0.836, 0.575, 0.631, 0.346, 0.467, 0.802, 0.377, 0.832, 0.545, 0.11, 0.56, 0.489, 0.553, 0.46, 0.773, 0.513, 0.348, 0.589, 0.414, 0.648, 0.241, 0.638, 0.677, 0.477, 0.499, 0.266, 0.243, 0.236, 0.7, 0.466, 0.35, 0.5, 0.829, 0.43, 0.179, 0.664, 0.252, 0.244, 0.341, 0.705, 0.0605, 0.511, 0.574, 0.409, 0.678, 0.435, 0.604, 0.306, 0.378, 0.713, 0.585, 0.597, 0.391, 0.86, 0.717, 0.389, 0.321, 0.966, 0.205, 0.77, 0.508, 0.623, 0.4, 0.575, 0.391, 0.573, 0.383, 0.584, 0.64, 0.233, 0.137, 0.55, 0.866, 0.309, 0.49, 0.629, 0.758, 0.397, 0.805, 0.35, 0.398, 0.884, 0.592, 0.223, 0.667, 0.497, 0.895, 0.719, 0.457, 0.562, 0.685, 0.153, 0.68, 0.786, 0.676, 0.196, 0.523, 0.446, 0.65, 0.796, 0.235, 0.418, 0.694, 0.817, 0.439, 0.489, 0.335, 0.642, 0.586, 0.633, 0.71, 0.28, 0.276, 0.63, 0.573, 0.837, 0.389, 0.574, 0.85, 0.298, 0.645, 0.324, 0.716, 0.826, 0.453, 0.324, 0.494], \"xaxis\": \"x4\", \"yaxis\": \"y4\"}],\n                        {\"annotations\": [{\"font\": {\"size\": 16}, \"showarrow\": false, \"text\": \"Danceability\", \"x\": 0.225, \"xanchor\": \"center\", \"xref\": \"paper\", \"y\": 1.0, \"yanchor\": \"bottom\", \"yref\": \"paper\"}, {\"font\": {\"size\": 16}, \"showarrow\": false, \"text\": \"Energy\", \"x\": 0.775, \"xanchor\": \"center\", \"xref\": \"paper\", \"y\": 1.0, \"yanchor\": \"bottom\", \"yref\": \"paper\"}, {\"font\": {\"size\": 16}, \"showarrow\": false, \"text\": \"Loudness\", \"x\": 0.225, \"xanchor\": \"center\", \"xref\": \"paper\", \"y\": 0.375, \"yanchor\": \"bottom\", \"yref\": \"paper\"}, {\"font\": {\"size\": 16}, \"showarrow\": false, \"text\": \"Valence\", \"x\": 0.775, \"xanchor\": \"center\", \"xref\": \"paper\", \"y\": 0.375, \"yanchor\": \"bottom\", \"yref\": \"paper\"}], \"height\": 600, \"template\": {\"data\": {\"bar\": [{\"error_x\": {\"color\": \"#2a3f5f\"}, \"error_y\": {\"color\": \"#2a3f5f\"}, \"marker\": {\"line\": {\"color\": \"#E5ECF6\", \"width\": 0.5}}, \"type\": \"bar\"}], \"barpolar\": [{\"marker\": {\"line\": {\"color\": \"#E5ECF6\", \"width\": 0.5}}, \"type\": \"barpolar\"}], \"carpet\": [{\"aaxis\": {\"endlinecolor\": \"#2a3f5f\", \"gridcolor\": \"white\", \"linecolor\": \"white\", \"minorgridcolor\": \"white\", \"startlinecolor\": \"#2a3f5f\"}, \"baxis\": {\"endlinecolor\": \"#2a3f5f\", \"gridcolor\": \"white\", \"linecolor\": \"white\", \"minorgridcolor\": \"white\", \"startlinecolor\": \"#2a3f5f\"}, \"type\": \"carpet\"}], \"choropleth\": [{\"colorbar\": {\"outlinewidth\": 0, \"ticks\": \"\"}, \"type\": \"choropleth\"}], \"contour\": [{\"colorbar\": {\"outlinewidth\": 0, \"ticks\": \"\"}, \"colorscale\": [[0.0, \"#0d0887\"], [0.1111111111111111, \"#46039f\"], [0.2222222222222222, \"#7201a8\"], [0.3333333333333333, \"#9c179e\"], [0.4444444444444444, \"#bd3786\"], [0.5555555555555556, \"#d8576b\"], [0.6666666666666666, \"#ed7953\"], [0.7777777777777778, \"#fb9f3a\"], [0.8888888888888888, \"#fdca26\"], [1.0, \"#f0f921\"]], \"type\": \"contour\"}], \"contourcarpet\": [{\"colorbar\": {\"outlinewidth\": 0, \"ticks\": \"\"}, \"type\": \"contourcarpet\"}], \"heatmap\": [{\"colorbar\": {\"outlinewidth\": 0, \"ticks\": \"\"}, \"colorscale\": [[0.0, \"#0d0887\"], [0.1111111111111111, \"#46039f\"], [0.2222222222222222, \"#7201a8\"], [0.3333333333333333, \"#9c179e\"], [0.4444444444444444, \"#bd3786\"], [0.5555555555555556, \"#d8576b\"], [0.6666666666666666, \"#ed7953\"], [0.7777777777777778, \"#fb9f3a\"], [0.8888888888888888, \"#fdca26\"], [1.0, \"#f0f921\"]], \"type\": \"heatmap\"}], \"heatmapgl\": [{\"colorbar\": {\"outlinewidth\": 0, \"ticks\": \"\"}, \"colorscale\": [[0.0, \"#0d0887\"], [0.1111111111111111, \"#46039f\"], [0.2222222222222222, \"#7201a8\"], [0.3333333333333333, \"#9c179e\"], [0.4444444444444444, \"#bd3786\"], [0.5555555555555556, \"#d8576b\"], [0.6666666666666666, \"#ed7953\"], [0.7777777777777778, \"#fb9f3a\"], [0.8888888888888888, \"#fdca26\"], [1.0, \"#f0f921\"]], \"type\": \"heatmapgl\"}], \"histogram\": [{\"marker\": {\"colorbar\": {\"outlinewidth\": 0, \"ticks\": \"\"}}, \"type\": \"histogram\"}], \"histogram2d\": [{\"colorbar\": {\"outlinewidth\": 0, \"ticks\": \"\"}, \"colorscale\": [[0.0, \"#0d0887\"], [0.1111111111111111, \"#46039f\"], [0.2222222222222222, \"#7201a8\"], [0.3333333333333333, \"#9c179e\"], [0.4444444444444444, \"#bd3786\"], [0.5555555555555556, \"#d8576b\"], [0.6666666666666666, \"#ed7953\"], [0.7777777777777778, \"#fb9f3a\"], [0.8888888888888888, \"#fdca26\"], [1.0, \"#f0f921\"]], \"type\": \"histogram2d\"}], \"histogram2dcontour\": [{\"colorbar\": {\"outlinewidth\": 0, \"ticks\": \"\"}, \"colorscale\": [[0.0, \"#0d0887\"], [0.1111111111111111, \"#46039f\"], [0.2222222222222222, \"#7201a8\"], [0.3333333333333333, \"#9c179e\"], [0.4444444444444444, \"#bd3786\"], [0.5555555555555556, \"#d8576b\"], [0.6666666666666666, \"#ed7953\"], [0.7777777777777778, \"#fb9f3a\"], [0.8888888888888888, \"#fdca26\"], [1.0, \"#f0f921\"]], \"type\": \"histogram2dcontour\"}], \"mesh3d\": [{\"colorbar\": {\"outlinewidth\": 0, \"ticks\": \"\"}, \"type\": \"mesh3d\"}], \"parcoords\": [{\"line\": {\"colorbar\": {\"outlinewidth\": 0, \"ticks\": \"\"}}, \"type\": \"parcoords\"}], \"pie\": [{\"automargin\": true, \"type\": \"pie\"}], \"scatter\": [{\"marker\": {\"colorbar\": {\"outlinewidth\": 0, \"ticks\": \"\"}}, \"type\": \"scatter\"}], \"scatter3d\": [{\"line\": {\"colorbar\": {\"outlinewidth\": 0, \"ticks\": \"\"}}, \"marker\": {\"colorbar\": {\"outlinewidth\": 0, \"ticks\": \"\"}}, \"type\": \"scatter3d\"}], \"scattercarpet\": [{\"marker\": {\"colorbar\": {\"outlinewidth\": 0, \"ticks\": \"\"}}, \"type\": \"scattercarpet\"}], \"scattergeo\": [{\"marker\": {\"colorbar\": {\"outlinewidth\": 0, \"ticks\": \"\"}}, \"type\": \"scattergeo\"}], \"scattergl\": [{\"marker\": {\"colorbar\": {\"outlinewidth\": 0, \"ticks\": \"\"}}, \"type\": \"scattergl\"}], \"scattermapbox\": [{\"marker\": {\"colorbar\": {\"outlinewidth\": 0, \"ticks\": \"\"}}, \"type\": \"scattermapbox\"}], \"scatterpolar\": [{\"marker\": {\"colorbar\": {\"outlinewidth\": 0, \"ticks\": \"\"}}, \"type\": \"scatterpolar\"}], \"scatterpolargl\": [{\"marker\": {\"colorbar\": {\"outlinewidth\": 0, \"ticks\": \"\"}}, \"type\": \"scatterpolargl\"}], \"scatterternary\": [{\"marker\": {\"colorbar\": {\"outlinewidth\": 0, \"ticks\": \"\"}}, \"type\": \"scatterternary\"}], \"surface\": [{\"colorbar\": {\"outlinewidth\": 0, \"ticks\": \"\"}, \"colorscale\": [[0.0, \"#0d0887\"], [0.1111111111111111, \"#46039f\"], [0.2222222222222222, \"#7201a8\"], [0.3333333333333333, \"#9c179e\"], [0.4444444444444444, \"#bd3786\"], [0.5555555555555556, \"#d8576b\"], [0.6666666666666666, \"#ed7953\"], [0.7777777777777778, \"#fb9f3a\"], [0.8888888888888888, \"#fdca26\"], [1.0, \"#f0f921\"]], \"type\": \"surface\"}], \"table\": [{\"cells\": {\"fill\": {\"color\": \"#EBF0F8\"}, \"line\": {\"color\": \"white\"}}, \"header\": {\"fill\": {\"color\": \"#C8D4E3\"}, \"line\": {\"color\": \"white\"}}, \"type\": \"table\"}]}, \"layout\": {\"annotationdefaults\": {\"arrowcolor\": \"#2a3f5f\", \"arrowhead\": 0, \"arrowwidth\": 1}, \"coloraxis\": {\"colorbar\": {\"outlinewidth\": 0, \"ticks\": \"\"}}, \"colorscale\": {\"diverging\": [[0, \"#8e0152\"], [0.1, \"#c51b7d\"], [0.2, \"#de77ae\"], [0.3, \"#f1b6da\"], [0.4, \"#fde0ef\"], [0.5, \"#f7f7f7\"], [0.6, \"#e6f5d0\"], [0.7, \"#b8e186\"], [0.8, \"#7fbc41\"], [0.9, \"#4d9221\"], [1, \"#276419\"]], \"sequential\": [[0.0, \"#0d0887\"], [0.1111111111111111, \"#46039f\"], [0.2222222222222222, \"#7201a8\"], [0.3333333333333333, \"#9c179e\"], [0.4444444444444444, \"#bd3786\"], [0.5555555555555556, \"#d8576b\"], [0.6666666666666666, \"#ed7953\"], [0.7777777777777778, \"#fb9f3a\"], [0.8888888888888888, \"#fdca26\"], [1.0, \"#f0f921\"]], \"sequentialminus\": [[0.0, \"#0d0887\"], [0.1111111111111111, \"#46039f\"], [0.2222222222222222, \"#7201a8\"], [0.3333333333333333, \"#9c179e\"], [0.4444444444444444, \"#bd3786\"], [0.5555555555555556, \"#d8576b\"], [0.6666666666666666, \"#ed7953\"], [0.7777777777777778, \"#fb9f3a\"], [0.8888888888888888, \"#fdca26\"], [1.0, \"#f0f921\"]]}, \"colorway\": [\"#636efa\", \"#EF553B\", \"#00cc96\", \"#ab63fa\", \"#FFA15A\", \"#19d3f3\", \"#FF6692\", \"#B6E880\", \"#FF97FF\", \"#FECB52\"], \"font\": {\"color\": \"#2a3f5f\"}, \"geo\": {\"bgcolor\": \"white\", \"lakecolor\": \"white\", \"landcolor\": \"#E5ECF6\", \"showlakes\": true, \"showland\": true, \"subunitcolor\": \"white\"}, \"hoverlabel\": {\"align\": \"left\"}, \"hovermode\": \"closest\", \"mapbox\": {\"style\": \"light\"}, \"paper_bgcolor\": \"white\", \"plot_bgcolor\": \"#E5ECF6\", \"polar\": {\"angularaxis\": {\"gridcolor\": \"white\", \"linecolor\": \"white\", \"ticks\": \"\"}, \"bgcolor\": \"#E5ECF6\", \"radialaxis\": {\"gridcolor\": \"white\", \"linecolor\": \"white\", \"ticks\": \"\"}}, \"scene\": {\"xaxis\": {\"backgroundcolor\": \"#E5ECF6\", \"gridcolor\": \"white\", \"gridwidth\": 2, \"linecolor\": \"white\", \"showbackground\": true, \"ticks\": \"\", \"zerolinecolor\": \"white\"}, \"yaxis\": {\"backgroundcolor\": \"#E5ECF6\", \"gridcolor\": \"white\", \"gridwidth\": 2, \"linecolor\": \"white\", \"showbackground\": true, \"ticks\": \"\", \"zerolinecolor\": \"white\"}, \"zaxis\": {\"backgroundcolor\": \"#E5ECF6\", \"gridcolor\": \"white\", \"gridwidth\": 2, \"linecolor\": \"white\", \"showbackground\": true, \"ticks\": \"\", \"zerolinecolor\": \"white\"}}, \"shapedefaults\": {\"line\": {\"color\": \"#2a3f5f\"}}, \"ternary\": {\"aaxis\": {\"gridcolor\": \"white\", \"linecolor\": \"white\", \"ticks\": \"\"}, \"baxis\": {\"gridcolor\": \"white\", \"linecolor\": \"white\", \"ticks\": \"\"}, \"bgcolor\": \"#E5ECF6\", \"caxis\": {\"gridcolor\": \"white\", \"linecolor\": \"white\", \"ticks\": \"\"}}, \"title\": {\"x\": 0.05}, \"xaxis\": {\"automargin\": true, \"gridcolor\": \"white\", \"linecolor\": \"white\", \"ticks\": \"\", \"title\": {\"standoff\": 15}, \"zerolinecolor\": \"white\", \"zerolinewidth\": 2}, \"yaxis\": {\"automargin\": true, \"gridcolor\": \"white\", \"linecolor\": \"white\", \"ticks\": \"\", \"title\": {\"standoff\": 15}, \"zerolinecolor\": \"white\", \"zerolinewidth\": 2}}}, \"title\": {\"text\": \"Distribution of Audio Features\"}, \"width\": 800, \"xaxis\": {\"anchor\": \"y\", \"domain\": [0.0, 0.45]}, \"xaxis2\": {\"anchor\": \"y2\", \"domain\": [0.55, 1.0]}, \"xaxis3\": {\"anchor\": \"y3\", \"domain\": [0.0, 0.45]}, \"xaxis4\": {\"anchor\": \"y4\", \"domain\": [0.55, 1.0]}, \"yaxis\": {\"anchor\": \"x\", \"domain\": [0.625, 1.0]}, \"yaxis2\": {\"anchor\": \"x2\", \"domain\": [0.625, 1.0]}, \"yaxis3\": {\"anchor\": \"x3\", \"domain\": [0.0, 0.375]}, \"yaxis4\": {\"anchor\": \"x4\", \"domain\": [0.0, 0.375]}},\n                        {\"responsive\": true}\n                    ).then(function(){\n                            \nvar gd = document.getElementById('a88caecc-5e8f-40ca-8061-40039596a64b');\nvar x = new MutationObserver(function (mutations, observer) {{\n        var display = window.getComputedStyle(gd).display;\n        if (!display || display === 'none') {{\n            console.log([gd, 'removed!']);\n            Plotly.purge(gd);\n            observer.disconnect();\n        }}\n}});\n\n// Listen for the removal of the full notebook cells\nvar notebookContainer = gd.closest('#notebook-container');\nif (notebookContainer) {{\n    x.observe(notebookContainer, {childList: true});\n}}\n\n// Listen for the clearing of the current output cell\nvar outputEl = gd.closest('.output');\nif (outputEl) {{\n    x.observe(outputEl, {childList: true});\n}}\n\n                        })\n                };\n                });\n            </script>\n        </div>"
     },
     "metadata": {}
    }
   ],
   "source": [
    "# make histogram distribution subplots\n",
    "fig = make_subplots(rows=2, cols=2, subplot_titles=(\"Danceability\", \"Energy\", \"Loudness\", \"Valence\"))\n",
    "fig.add_trace(\n",
    "    go.Histogram(x=temp['danceability'], nbinsx=40),\n",
    "    row=1,\n",
    "    col=1\n",
    ")\n",
    "fig.add_trace(\n",
    "    go.Histogram(x=temp['energy'], nbinsx=40),\n",
    "    row=1,\n",
    "    col=2\n",
    ")\n",
    "fig.add_trace(\n",
    "    go.Histogram(x=temp['loudness'], nbinsx=40),\n",
    "    row=2,\n",
    "    col=1\n",
    ")\n",
    "fig.add_trace(\n",
    "    go.Histogram(x=temp['valence'], nbinsx=40),\n",
    "    row=2,\n",
    "    col=2\n",
    ")\n",
    "\n",
    "\n",
    "fig.update_layout(height=600, width=800, title_text=\"Distribution of Audio Features\")\n",
    "fig.show()"
   ]
  },
  {
   "cell_type": "code",
   "execution_count": 11,
   "metadata": {},
   "outputs": [
    {
     "output_type": "execute_result",
     "data": {
      "text/plain": "1    75\n0    70\nName: mode, dtype: int64"
     },
     "metadata": {},
     "execution_count": 11
    }
   ],
   "source": [
    "temp['mode'].value_counts()"
   ]
  },
  {
   "cell_type": "code",
   "execution_count": 12,
   "metadata": {},
   "outputs": [
    {
     "output_type": "error",
     "ename": "KeyError",
     "evalue": "'type_x'",
     "traceback": [
      "\u001b[1;31m---------------------------------------------------------------------------\u001b[0m",
      "\u001b[1;31mKeyError\u001b[0m                                  Traceback (most recent call last)",
      "\u001b[1;32m~\\anaconda3\\envs\\project\\lib\\site-packages\\pandas\\core\\indexes\\base.py\u001b[0m in \u001b[0;36mget_loc\u001b[1;34m(self, key, method, tolerance)\u001b[0m\n\u001b[0;32m   2645\u001b[0m             \u001b[1;32mtry\u001b[0m\u001b[1;33m:\u001b[0m\u001b[1;33m\u001b[0m\u001b[1;33m\u001b[0m\u001b[0m\n\u001b[1;32m-> 2646\u001b[1;33m                 \u001b[1;32mreturn\u001b[0m \u001b[0mself\u001b[0m\u001b[1;33m.\u001b[0m\u001b[0m_engine\u001b[0m\u001b[1;33m.\u001b[0m\u001b[0mget_loc\u001b[0m\u001b[1;33m(\u001b[0m\u001b[0mkey\u001b[0m\u001b[1;33m)\u001b[0m\u001b[1;33m\u001b[0m\u001b[1;33m\u001b[0m\u001b[0m\n\u001b[0m\u001b[0;32m   2647\u001b[0m             \u001b[1;32mexcept\u001b[0m \u001b[0mKeyError\u001b[0m\u001b[1;33m:\u001b[0m\u001b[1;33m\u001b[0m\u001b[1;33m\u001b[0m\u001b[0m\n",
      "\u001b[1;32mpandas\\_libs\\index.pyx\u001b[0m in \u001b[0;36mpandas._libs.index.IndexEngine.get_loc\u001b[1;34m()\u001b[0m\n",
      "\u001b[1;32mpandas\\_libs\\index.pyx\u001b[0m in \u001b[0;36mpandas._libs.index.IndexEngine.get_loc\u001b[1;34m()\u001b[0m\n",
      "\u001b[1;32mpandas\\_libs\\hashtable_class_helper.pxi\u001b[0m in \u001b[0;36mpandas._libs.hashtable.PyObjectHashTable.get_item\u001b[1;34m()\u001b[0m\n",
      "\u001b[1;32mpandas\\_libs\\hashtable_class_helper.pxi\u001b[0m in \u001b[0;36mpandas._libs.hashtable.PyObjectHashTable.get_item\u001b[1;34m()\u001b[0m\n",
      "\u001b[1;31mKeyError\u001b[0m: 'type_x'",
      "\nDuring handling of the above exception, another exception occurred:\n",
      "\u001b[1;31mKeyError\u001b[0m                                  Traceback (most recent call last)",
      "\u001b[1;32m<ipython-input-12-99bb0ef2d48e>\u001b[0m in \u001b[0;36m<module>\u001b[1;34m\u001b[0m\n\u001b[0;32m      1\u001b[0m \u001b[1;31m# mode distribution\u001b[0m\u001b[1;33m\u001b[0m\u001b[1;33m\u001b[0m\u001b[1;33m\u001b[0m\u001b[0m\n\u001b[1;32m----> 2\u001b[1;33m \u001b[0mmajor\u001b[0m \u001b[1;33m=\u001b[0m \u001b[0mtemp\u001b[0m\u001b[1;33m[\u001b[0m\u001b[0mtemp\u001b[0m\u001b[1;33m[\u001b[0m\u001b[1;34m'mode'\u001b[0m\u001b[1;33m]\u001b[0m \u001b[1;33m==\u001b[0m \u001b[1;36m1\u001b[0m\u001b[1;33m]\u001b[0m\u001b[1;33m[\u001b[0m\u001b[1;34m'type_x'\u001b[0m\u001b[1;33m]\u001b[0m\u001b[1;33m.\u001b[0m\u001b[0mvalue_counts\u001b[0m\u001b[1;33m(\u001b[0m\u001b[1;33m)\u001b[0m\u001b[1;33m\u001b[0m\u001b[1;33m\u001b[0m\u001b[0m\n\u001b[0m\u001b[0;32m      3\u001b[0m \u001b[0mminor\u001b[0m \u001b[1;33m=\u001b[0m \u001b[0mtemp\u001b[0m\u001b[1;33m[\u001b[0m\u001b[0mtemp\u001b[0m\u001b[1;33m[\u001b[0m\u001b[1;34m'mode'\u001b[0m\u001b[1;33m]\u001b[0m \u001b[1;33m==\u001b[0m \u001b[1;36m0\u001b[0m\u001b[1;33m]\u001b[0m\u001b[1;33m[\u001b[0m\u001b[1;34m'type_x'\u001b[0m\u001b[1;33m]\u001b[0m\u001b[1;33m.\u001b[0m\u001b[0mvalue_counts\u001b[0m\u001b[1;33m(\u001b[0m\u001b[1;33m)\u001b[0m\u001b[1;33m\u001b[0m\u001b[1;33m\u001b[0m\u001b[0m\n\u001b[0;32m      4\u001b[0m \u001b[1;33m\u001b[0m\u001b[0m\n\u001b[0;32m      5\u001b[0m \u001b[0mfig\u001b[0m \u001b[1;33m=\u001b[0m \u001b[0mgo\u001b[0m\u001b[1;33m.\u001b[0m\u001b[0mFigure\u001b[0m\u001b[1;33m(\u001b[0m\u001b[1;33m)\u001b[0m\u001b[1;33m\u001b[0m\u001b[1;33m\u001b[0m\u001b[0m\n",
      "\u001b[1;32m~\\anaconda3\\envs\\project\\lib\\site-packages\\pandas\\core\\frame.py\u001b[0m in \u001b[0;36m__getitem__\u001b[1;34m(self, key)\u001b[0m\n\u001b[0;32m   2798\u001b[0m             \u001b[1;32mif\u001b[0m \u001b[0mself\u001b[0m\u001b[1;33m.\u001b[0m\u001b[0mcolumns\u001b[0m\u001b[1;33m.\u001b[0m\u001b[0mnlevels\u001b[0m \u001b[1;33m>\u001b[0m \u001b[1;36m1\u001b[0m\u001b[1;33m:\u001b[0m\u001b[1;33m\u001b[0m\u001b[1;33m\u001b[0m\u001b[0m\n\u001b[0;32m   2799\u001b[0m                 \u001b[1;32mreturn\u001b[0m \u001b[0mself\u001b[0m\u001b[1;33m.\u001b[0m\u001b[0m_getitem_multilevel\u001b[0m\u001b[1;33m(\u001b[0m\u001b[0mkey\u001b[0m\u001b[1;33m)\u001b[0m\u001b[1;33m\u001b[0m\u001b[1;33m\u001b[0m\u001b[0m\n\u001b[1;32m-> 2800\u001b[1;33m             \u001b[0mindexer\u001b[0m \u001b[1;33m=\u001b[0m \u001b[0mself\u001b[0m\u001b[1;33m.\u001b[0m\u001b[0mcolumns\u001b[0m\u001b[1;33m.\u001b[0m\u001b[0mget_loc\u001b[0m\u001b[1;33m(\u001b[0m\u001b[0mkey\u001b[0m\u001b[1;33m)\u001b[0m\u001b[1;33m\u001b[0m\u001b[1;33m\u001b[0m\u001b[0m\n\u001b[0m\u001b[0;32m   2801\u001b[0m             \u001b[1;32mif\u001b[0m \u001b[0mis_integer\u001b[0m\u001b[1;33m(\u001b[0m\u001b[0mindexer\u001b[0m\u001b[1;33m)\u001b[0m\u001b[1;33m:\u001b[0m\u001b[1;33m\u001b[0m\u001b[1;33m\u001b[0m\u001b[0m\n\u001b[0;32m   2802\u001b[0m                 \u001b[0mindexer\u001b[0m \u001b[1;33m=\u001b[0m \u001b[1;33m[\u001b[0m\u001b[0mindexer\u001b[0m\u001b[1;33m]\u001b[0m\u001b[1;33m\u001b[0m\u001b[1;33m\u001b[0m\u001b[0m\n",
      "\u001b[1;32m~\\anaconda3\\envs\\project\\lib\\site-packages\\pandas\\core\\indexes\\base.py\u001b[0m in \u001b[0;36mget_loc\u001b[1;34m(self, key, method, tolerance)\u001b[0m\n\u001b[0;32m   2646\u001b[0m                 \u001b[1;32mreturn\u001b[0m \u001b[0mself\u001b[0m\u001b[1;33m.\u001b[0m\u001b[0m_engine\u001b[0m\u001b[1;33m.\u001b[0m\u001b[0mget_loc\u001b[0m\u001b[1;33m(\u001b[0m\u001b[0mkey\u001b[0m\u001b[1;33m)\u001b[0m\u001b[1;33m\u001b[0m\u001b[1;33m\u001b[0m\u001b[0m\n\u001b[0;32m   2647\u001b[0m             \u001b[1;32mexcept\u001b[0m \u001b[0mKeyError\u001b[0m\u001b[1;33m:\u001b[0m\u001b[1;33m\u001b[0m\u001b[1;33m\u001b[0m\u001b[0m\n\u001b[1;32m-> 2648\u001b[1;33m                 \u001b[1;32mreturn\u001b[0m \u001b[0mself\u001b[0m\u001b[1;33m.\u001b[0m\u001b[0m_engine\u001b[0m\u001b[1;33m.\u001b[0m\u001b[0mget_loc\u001b[0m\u001b[1;33m(\u001b[0m\u001b[0mself\u001b[0m\u001b[1;33m.\u001b[0m\u001b[0m_maybe_cast_indexer\u001b[0m\u001b[1;33m(\u001b[0m\u001b[0mkey\u001b[0m\u001b[1;33m)\u001b[0m\u001b[1;33m)\u001b[0m\u001b[1;33m\u001b[0m\u001b[1;33m\u001b[0m\u001b[0m\n\u001b[0m\u001b[0;32m   2649\u001b[0m         \u001b[0mindexer\u001b[0m \u001b[1;33m=\u001b[0m \u001b[0mself\u001b[0m\u001b[1;33m.\u001b[0m\u001b[0mget_indexer\u001b[0m\u001b[1;33m(\u001b[0m\u001b[1;33m[\u001b[0m\u001b[0mkey\u001b[0m\u001b[1;33m]\u001b[0m\u001b[1;33m,\u001b[0m \u001b[0mmethod\u001b[0m\u001b[1;33m=\u001b[0m\u001b[0mmethod\u001b[0m\u001b[1;33m,\u001b[0m \u001b[0mtolerance\u001b[0m\u001b[1;33m=\u001b[0m\u001b[0mtolerance\u001b[0m\u001b[1;33m)\u001b[0m\u001b[1;33m\u001b[0m\u001b[1;33m\u001b[0m\u001b[0m\n\u001b[0;32m   2650\u001b[0m         \u001b[1;32mif\u001b[0m \u001b[0mindexer\u001b[0m\u001b[1;33m.\u001b[0m\u001b[0mndim\u001b[0m \u001b[1;33m>\u001b[0m \u001b[1;36m1\u001b[0m \u001b[1;32mor\u001b[0m \u001b[0mindexer\u001b[0m\u001b[1;33m.\u001b[0m\u001b[0msize\u001b[0m \u001b[1;33m>\u001b[0m \u001b[1;36m1\u001b[0m\u001b[1;33m:\u001b[0m\u001b[1;33m\u001b[0m\u001b[1;33m\u001b[0m\u001b[0m\n",
      "\u001b[1;32mpandas\\_libs\\index.pyx\u001b[0m in \u001b[0;36mpandas._libs.index.IndexEngine.get_loc\u001b[1;34m()\u001b[0m\n",
      "\u001b[1;32mpandas\\_libs\\index.pyx\u001b[0m in \u001b[0;36mpandas._libs.index.IndexEngine.get_loc\u001b[1;34m()\u001b[0m\n",
      "\u001b[1;32mpandas\\_libs\\hashtable_class_helper.pxi\u001b[0m in \u001b[0;36mpandas._libs.hashtable.PyObjectHashTable.get_item\u001b[1;34m()\u001b[0m\n",
      "\u001b[1;32mpandas\\_libs\\hashtable_class_helper.pxi\u001b[0m in \u001b[0;36mpandas._libs.hashtable.PyObjectHashTable.get_item\u001b[1;34m()\u001b[0m\n",
      "\u001b[1;31mKeyError\u001b[0m: 'type_x'"
     ]
    }
   ],
   "source": [
    "# mode distribution\n",
    "major = temp[temp['mode'] == 1]['type_x'].value_counts()\n",
    "minor = temp[temp['mode'] == 0]['type_x'].value_counts()\n",
    "\n",
    "fig = go.Figure()\n",
    "\n",
    "fig.add_trace(go.Histogram(y=major, name=\"Major\", marker_color='#ffdd00'))\n",
    "\n",
    "fig.add_trace(go.Histogram(y=minor, name=\"Minor\", marker_color='#0022cf'))\n",
    "\n",
    "fig.update_layout(\n",
    "    barmode='stack', \n",
    "    height=300, \n",
    "    width=300, \n",
    "    title_text=\"Track Modality\",\n",
    "    font_family=\"Rockwell\",\n",
    "    legend={'traceorder':'normal'}\n",
    "    )\n",
    "\n",
    "fig.show()"
   ]
  },
  {
   "cell_type": "code",
   "execution_count": null,
   "metadata": {},
   "outputs": [],
   "source": [
    "# convert key integers to name for visualization purpoes\n",
    "music_keys = {0: 'C',\n",
    "              1: 'C#/Db',\n",
    "              2: 'D',\n",
    "              3: 'D#/Cb',\n",
    "              4: 'E',\n",
    "              5: 'F',\n",
    "              6: 'F#/Gb',\n",
    "              7: 'G',\n",
    "              8: 'G#/Ab',\n",
    "              9: 'A',\n",
    "              10: 'A#/Bb',\n",
    "              11: 'B'}\n",
    "\n",
    "def convert_key(num):\n",
    "    return music_keys[num]\n",
    "\n",
    "temp['key_name'] = temp['key'].apply(convert_key)\n"
   ]
  },
  {
   "cell_type": "code",
   "execution_count": null,
   "metadata": {},
   "outputs": [],
   "source": [
    "# key and tempo\n",
    "\n",
    "fig = px.bar(x = temp['key_name'].value_counts().index, y = temp['key_name'].value_counts())\n",
    "\n",
    "fig.update_layout(\n",
    "    title_text=\"Key Distributions\",\n",
    "    font_family=\"Rockwell\",\n",
    "    yaxis=dict(title='Count'),\n",
    "    xaxis=dict(title='Musical Key')\n",
    "    \n",
    ")\n",
    "fig.show()"
   ]
  },
  {
   "cell_type": "code",
   "execution_count": null,
   "metadata": {},
   "outputs": [],
   "source": [
    "# What makes a song popular? \n",
    "# scatterplots of popularity vs other features\n",
    "temp1 = temp[['popularity', 'danceability',\n",
    "       'energy', 'loudness', 'speechiness', 'acousticness',\n",
    "       'instrumentalness', 'liveness', 'valence']]\n",
    "\n",
    "fig = make_subplots(rows=2, cols=4, subplot_titles=('danceability',\n",
    "       'energy', 'loudness', 'speechiness', 'acousticness',\n",
    "       'instrumentalness', 'liveness', 'valence'))\n",
    "\n",
    "fig.add_trace(\n",
    "    go.Scatter(x=temp['danceability'], y=temp['popularity'], mode='markers'),\n",
    "    row=1,\n",
    "    col=1\n",
    ")\n",
    "\n",
    "fig.add_trace(\n",
    "    go.Scatter(x=temp['energy'], y=temp['popularity'], mode='markers'),\n",
    "    row=1,\n",
    "    col=2\n",
    ")\n",
    "\n",
    "fig.add_trace(\n",
    "    go.Scatter(x=temp['loudness'], y=temp['popularity'], mode='markers'),\n",
    "    row=1,\n",
    "    col=3\n",
    ")\n",
    "\n",
    "fig.add_trace(\n",
    "    go.Scatter(x=temp['speechiness'], y=temp['popularity'], mode='markers'),\n",
    "    row=1,\n",
    "    col=4\n",
    ")\n",
    "\n",
    "fig.add_trace(\n",
    "    go.Scatter(x=temp['acousticness'], y=temp['popularity'], mode='markers'),\n",
    "    row=2,\n",
    "    col=1\n",
    ")\n",
    "fig.add_trace(\n",
    "    go.Scatter(x=temp['speechiness'], y=temp['popularity'], mode='markers'),\n",
    "    row=2,\n",
    "    col=2\n",
    ")\n",
    "\n",
    "fig.add_trace(\n",
    "    go.Scatter(x=temp['liveness'], y=temp['popularity'], mode='markers'),\n",
    "    row=2,\n",
    "    col=3\n",
    ")\n",
    "\n",
    "fig.add_trace(\n",
    "    go.Scatter(x=temp['valence'], y=temp['popularity'], mode='markers'),\n",
    "    row=2,\n",
    "    col=4\n",
    ")\n",
    "\n",
    "fig.update_layout(\n",
    "    title=\"Popularity vs Audio Features\",\n",
    "    yaxis=dict(title='Popularity'),\n",
    "    showlegend=False\n",
    ")\n",
    "fig.show()\n"
   ]
  },
  {
   "cell_type": "code",
   "execution_count": null,
   "metadata": {},
   "outputs": [],
   "source": []
  },
  {
   "cell_type": "markdown",
   "metadata": {},
   "source": [
    "# Audio Features Heatmap"
   ]
  },
  {
   "cell_type": "code",
   "execution_count": null,
   "metadata": {},
   "outputs": [],
   "source": [
    "temp2 = temp[['popularity','duration_ms', 'time_signature', 'danceability', 'energy',\n",
    "       'key', 'loudness', 'mode', 'speechiness', 'acousticness',\n",
    "       'instrumentalness', 'liveness', 'valence', 'tempo']]\n",
    "\n",
    "# calculate af correations\n",
    "corr2 = temp2.corr() "
   ]
  },
  {
   "cell_type": "code",
   "execution_count": null,
   "metadata": {},
   "outputs": [],
   "source": [
    "fig = px.imshow(\n",
    "    corr2,\n",
    "    labels=dict(color=\"Correlation\"),\n",
    "    x=temp2.columns,\n",
    "    y=temp2.columns,\n",
    "    color_continuous_scale='plasma'\n",
    "    )\n",
    "\n",
    "fig.update_layout(\n",
    "    title=\"Heatmap of Audio Features\")\n",
    "\n",
    "fig.show()"
   ]
  },
  {
   "cell_type": "markdown",
   "metadata": {},
   "source": [
    "# Radar Chart for indivd song's Audio Features"
   ]
  },
  {
   "cell_type": "code",
   "execution_count": null,
   "metadata": {},
   "outputs": [],
   "source": [
    "# Test Radar Chart - chart for individ songs only\n",
    "song1 = temp2[['danceability', 'energy', 'speechiness', 'acousticness', 'instrumentalness', 'liveness', 'valence']].iloc[4]\n",
    "TEST = pd.DataFrame(dict(\n",
    "    r=song1.values,\n",
    "    theta=list(song1.index)))\n",
    "fig = px.line_polar(TEST, r='r', theta='theta', line_close=True)\n",
    "fig.update_traces(fill='toself')\n",
    "fig.show()"
   ]
  },
  {
   "cell_type": "markdown",
   "metadata": {},
   "source": [
    "# Histograms for aggregate Audio Features and Popularity"
   ]
  },
  {
   "cell_type": "code",
   "execution_count": null,
   "metadata": {},
   "outputs": [],
   "source": [
    "# # stack or overlap two+ distribs\n",
    "# fig = go.Figure()\n",
    "\n",
    "# fig.add_trace(go.Histogram(x=temp1['danceability'], nbinsx=50))\n",
    "# fig.add_trace(go.Histogram(x=temp2['energy'], nbinsx=50))\n",
    "# # Overlay both histograms\n",
    "# fig.update_layout(barmode='stack')   # change to either 'stack' or 'overlay'\n",
    "# # Reduce opacity to see both histograms\n",
    "# # fig.update_traces(opacity=0.75)\n",
    "# fig.show()"
   ]
  },
  {
   "cell_type": "code",
   "execution_count": null,
   "metadata": {},
   "outputs": [],
   "source": [
    "# feature = 'danceability'\n",
    "# title = f\"Histogram of {feature}\"\n",
    "# fig = px.histogram(temp1, title=title, x=feature, nbins=30, histnorm='probability density')\n",
    "# fig.show()\n"
   ]
  },
  {
   "cell_type": "markdown",
   "metadata": {},
   "source": [
    "# Artist data visuaizations"
   ]
  },
  {
   "cell_type": "code",
   "execution_count": null,
   "metadata": {},
   "outputs": [],
   "source": [
    "# # artist counts (who has the most num of songs?)\n",
    "# plt.figure(figsize=[8,6])\n",
    "# ax = sns.countplot(x=\"artist_name\", data=tracks, order=tracks['artist_name'].value_counts()[0:10].index)\n",
    "# plt.xlabel('Artist Name')\n",
    "# plt.title('Top 10 Artists')\n",
    "# ax.set_xticklabels(ax.get_xticklabels(), rotation=45)\n",
    "# # plt.savefig(\"IMAGENAME.png\", format=\"png\")"
   ]
  },
  {
   "cell_type": "code",
   "execution_count": null,
   "metadata": {},
   "outputs": [],
   "source": [
    "x = temp['artist_name'].value_counts().iloc[0:10].index\n",
    "y = temp['artist_name'].value_counts().iloc[0:10]\n",
    "fig = px.bar(temp, x=x, y=y, color=x)\n",
    "fig.update_layout(\n",
    "    showlegend=False,\n",
    "    title=\"Top 10 Artists on the Billboard 100 by Song Count\",\n",
    "    yaxis=dict(title='Count'),\n",
    "    xaxis=dict(title='Artist')\n",
    ")\n",
    "fig.show()"
   ]
  },
  {
   "cell_type": "markdown",
   "metadata": {},
   "source": [
    "## Genres Wordcloud\n",
    "All artists combined"
   ]
  },
  {
   "cell_type": "code",
   "execution_count": null,
   "metadata": {},
   "outputs": [],
   "source": [
    "# list of strings\n",
    "genre_list = [row for row in artists['genre'].str.strip(to_strip=\".!? \\n\\t\\'\")]  \n",
    "genre_text = \" \".join(str(l) for l in genre_list)\n",
    "genre_text2 = re.sub('[^A-Za-z]+', ' ', genre_text).strip()\n",
    "\n",
    "wordcloud = WordCloud(stopwords=STOPWORDS, background_color=\"white\").generate(genre_text2)\n",
    "plt.figure(figsize=[12,10])\n",
    "plt.imshow(wordcloud, interpolation='bilinear')\n",
    "plt.axis(\"off\")\n",
    "plt.title('Top Genres')\n",
    "plt.savefig(\"genre_wordcloud.png\", format=\"png\")"
   ]
  },
  {
   "cell_type": "markdown",
   "metadata": {},
   "source": [
    "## Lyrics Wordcloud\n",
    "### All songs combined"
   ]
  },
  {
   "cell_type": "code",
   "execution_count": null,
   "metadata": {},
   "outputs": [],
   "source": [
    "# list of strings\n",
    "lyric_list = [row for row in lyrics['text'].str.strip(to_strip=\".!? \\n\\t\\'\")]  "
   ]
  },
  {
   "cell_type": "code",
   "execution_count": null,
   "metadata": {},
   "outputs": [],
   "source": [
    "lyric_text = \" \".join(str(l) for l in lyric_list)\n",
    "lyric_text2 = re.sub('[^A-Za-z]+', ' ', lyric_text).strip()"
   ]
  },
  {
   "cell_type": "code",
   "execution_count": null,
   "metadata": {},
   "outputs": [],
   "source": [
    "# Lyric wordcloud with updated/custom stopwords\n",
    "sw2 = set(STOPWORDS)\n",
    "sw2.update(['intro', 'verse', 'chorus', 'bridge', 'don'])\n",
    "\n",
    "wordcloud2 = WordCloud(stopwords=sw2, background_color=\"white\").generate(lyric_text2)\n",
    "\n",
    "plt.figure(figsize=[12,10])\n",
    "plt.imshow(wordcloud2, interpolation='bilinear')\n",
    "plt.axis(\"off\")\n",
    "plt.title('Top Words in Lyrics')\n",
    "plt.savefig(\"lyrics_wordcloud.png\", format=\"png\")\n"
   ]
  },
  {
   "cell_type": "markdown",
   "metadata": {},
   "source": [
    "# Bar Charts"
   ]
  },
  {
   "cell_type": "code",
   "execution_count": 58,
   "metadata": {},
   "outputs": [],
   "source": [
    "top15 = artists.sort_values(by='followers', ascending=False).iloc[0:15]\n",
    "\n"
   ]
  },
  {
   "cell_type": "code",
   "execution_count": 200,
   "metadata": {},
   "outputs": [
    {
     "output_type": "display_data",
     "data": {
      "application/vnd.plotly.v1+json": {
       "config": {
        "plotlyServerURL": "https://plot.ly"
       },
       "data": [
        {
         "alignmentgroup": "True",
         "hovertemplate": "color=Drake<br>x=%{x}<br>y=%{y}<extra></extra>",
         "legendgroup": "Drake",
         "marker": {
          "color": "#636efa"
         },
         "name": "Drake",
         "offsetgroup": "Drake",
         "orientation": "v",
         "showlegend": true,
         "textposition": "auto",
         "type": "bar",
         "x": [
          "Drake"
         ],
         "xaxis": "x",
         "y": [
          46240942
         ],
         "yaxis": "y"
        },
        {
         "alignmentgroup": "True",
         "hovertemplate": "color=Justin Bieber<br>x=%{x}<br>y=%{y}<extra></extra>",
         "legendgroup": "Justin Bieber",
         "marker": {
          "color": "#EF553B"
         },
         "name": "Justin Bieber",
         "offsetgroup": "Justin Bieber",
         "orientation": "v",
         "showlegend": true,
         "textposition": "auto",
         "type": "bar",
         "x": [
          "Justin Bieber"
         ],
         "xaxis": "x",
         "y": [
          34535442
         ],
         "yaxis": "y"
        },
        {
         "alignmentgroup": "True",
         "hovertemplate": "color=Eminem<br>x=%{x}<br>y=%{y}<extra></extra>",
         "legendgroup": "Eminem",
         "marker": {
          "color": "#00cc96"
         },
         "name": "Eminem",
         "offsetgroup": "Eminem",
         "orientation": "v",
         "showlegend": true,
         "textposition": "auto",
         "type": "bar",
         "x": [
          "Eminem"
         ],
         "xaxis": "x",
         "y": [
          34526340
         ],
         "yaxis": "y"
        },
        {
         "alignmentgroup": "True",
         "hovertemplate": "color=Taylor Swift<br>x=%{x}<br>y=%{y}<extra></extra>",
         "legendgroup": "Taylor Swift",
         "marker": {
          "color": "#ab63fa"
         },
         "name": "Taylor Swift",
         "offsetgroup": "Taylor Swift",
         "orientation": "v",
         "showlegend": true,
         "textposition": "auto",
         "type": "bar",
         "x": [
          "Taylor Swift"
         ],
         "xaxis": "x",
         "y": [
          28745960
         ],
         "yaxis": "y"
        },
        {
         "alignmentgroup": "True",
         "hovertemplate": "color=Billie Eilish<br>x=%{x}<br>y=%{y}<extra></extra>",
         "legendgroup": "Billie Eilish",
         "marker": {
          "color": "#FFA15A"
         },
         "name": "Billie Eilish",
         "offsetgroup": "Billie Eilish",
         "orientation": "v",
         "showlegend": true,
         "textposition": "auto",
         "type": "bar",
         "x": [
          "Billie Eilish"
         ],
         "xaxis": "x",
         "y": [
          25325174
         ],
         "yaxis": "y"
        },
        {
         "alignmentgroup": "True",
         "hovertemplate": "color=Post Malone<br>x=%{x}<br>y=%{y}<extra></extra>",
         "legendgroup": "Post Malone",
         "marker": {
          "color": "#19d3f3"
         },
         "name": "Post Malone",
         "offsetgroup": "Post Malone",
         "orientation": "v",
         "showlegend": true,
         "textposition": "auto",
         "type": "bar",
         "x": [
          "Post Malone"
         ],
         "xaxis": "x",
         "y": [
          24725887
         ],
         "yaxis": "y"
        },
        {
         "alignmentgroup": "True",
         "hovertemplate": "color=Maroon 5<br>x=%{x}<br>y=%{y}<extra></extra>",
         "legendgroup": "Maroon 5",
         "marker": {
          "color": "#FF6692"
         },
         "name": "Maroon 5",
         "offsetgroup": "Maroon 5",
         "orientation": "v",
         "showlegend": true,
         "textposition": "auto",
         "type": "bar",
         "x": [
          "Maroon 5"
         ],
         "xaxis": "x",
         "y": [
          24017288
         ],
         "yaxis": "y"
        },
        {
         "alignmentgroup": "True",
         "hovertemplate": "color=Bad Bunny<br>x=%{x}<br>y=%{y}<extra></extra>",
         "legendgroup": "Bad Bunny",
         "marker": {
          "color": "#B6E880"
         },
         "name": "Bad Bunny",
         "offsetgroup": "Bad Bunny",
         "orientation": "v",
         "showlegend": true,
         "textposition": "auto",
         "type": "bar",
         "x": [
          "Bad Bunny"
         ],
         "xaxis": "x",
         "y": [
          20963670
         ],
         "yaxis": "y"
        },
        {
         "alignmentgroup": "True",
         "hovertemplate": "color=Selena Gomez<br>x=%{x}<br>y=%{y}<extra></extra>",
         "legendgroup": "Selena Gomez",
         "marker": {
          "color": "#FF97FF"
         },
         "name": "Selena Gomez",
         "offsetgroup": "Selena Gomez",
         "orientation": "v",
         "showlegend": true,
         "textposition": "auto",
         "type": "bar",
         "x": [
          "Selena Gomez"
         ],
         "xaxis": "x",
         "y": [
          20386844
         ],
         "yaxis": "y"
        },
        {
         "alignmentgroup": "True",
         "hovertemplate": "color=The Weeknd<br>x=%{x}<br>y=%{y}<extra></extra>",
         "legendgroup": "The Weeknd",
         "marker": {
          "color": "#FECB52"
         },
         "name": "The Weeknd",
         "offsetgroup": "The Weeknd",
         "orientation": "v",
         "showlegend": true,
         "textposition": "auto",
         "type": "bar",
         "x": [
          "The Weeknd"
         ],
         "xaxis": "x",
         "y": [
          20183430
         ],
         "yaxis": "y"
        },
        {
         "alignmentgroup": "True",
         "hovertemplate": "color=Demi Lovato<br>x=%{x}<br>y=%{y}<extra></extra>",
         "legendgroup": "Demi Lovato",
         "marker": {
          "color": "#636efa"
         },
         "name": "Demi Lovato",
         "offsetgroup": "Demi Lovato",
         "orientation": "v",
         "showlegend": true,
         "textposition": "auto",
         "type": "bar",
         "x": [
          "Demi Lovato"
         ],
         "xaxis": "x",
         "y": [
          16994848
         ],
         "yaxis": "y"
        },
        {
         "alignmentgroup": "True",
         "hovertemplate": "color=Twenty One Pilots<br>x=%{x}<br>y=%{y}<extra></extra>",
         "legendgroup": "Twenty One Pilots",
         "marker": {
          "color": "#EF553B"
         },
         "name": "Twenty One Pilots",
         "offsetgroup": "Twenty One Pilots",
         "orientation": "v",
         "showlegend": true,
         "textposition": "auto",
         "type": "bar",
         "x": [
          "Twenty One Pilots"
         ],
         "xaxis": "x",
         "y": [
          16771676
         ],
         "yaxis": "y"
        },
        {
         "alignmentgroup": "True",
         "hovertemplate": "color=Dua Lipa<br>x=%{x}<br>y=%{y}<extra></extra>",
         "legendgroup": "Dua Lipa",
         "marker": {
          "color": "#00cc96"
         },
         "name": "Dua Lipa",
         "offsetgroup": "Dua Lipa",
         "orientation": "v",
         "showlegend": true,
         "textposition": "auto",
         "type": "bar",
         "x": [
          "Dua Lipa"
         ],
         "xaxis": "x",
         "y": [
          16617621
         ],
         "yaxis": "y"
        },
        {
         "alignmentgroup": "True",
         "hovertemplate": "color=Camila Cabello<br>x=%{x}<br>y=%{y}<extra></extra>",
         "legendgroup": "Camila Cabello",
         "marker": {
          "color": "#ab63fa"
         },
         "name": "Camila Cabello",
         "offsetgroup": "Camila Cabello",
         "orientation": "v",
         "showlegend": true,
         "textposition": "auto",
         "type": "bar",
         "x": [
          "Camila Cabello"
         ],
         "xaxis": "x",
         "y": [
          16086187
         ],
         "yaxis": "y"
        },
        {
         "alignmentgroup": "True",
         "hovertemplate": "color=Lady Gaga<br>x=%{x}<br>y=%{y}<extra></extra>",
         "legendgroup": "Lady Gaga",
         "marker": {
          "color": "#FFA15A"
         },
         "name": "Lady Gaga",
         "offsetgroup": "Lady Gaga",
         "orientation": "v",
         "showlegend": true,
         "textposition": "auto",
         "type": "bar",
         "x": [
          "Lady Gaga"
         ],
         "xaxis": "x",
         "y": [
          11466221
         ],
         "yaxis": "y"
        }
       ],
       "layout": {
        "barmode": "relative",
        "legend": {
         "title": {
          "text": "color"
         },
         "tracegroupgap": 0
        },
        "margin": {
         "t": 60
        },
        "showlegend": false,
        "template": {
         "data": {
          "bar": [
           {
            "error_x": {
             "color": "#2a3f5f"
            },
            "error_y": {
             "color": "#2a3f5f"
            },
            "marker": {
             "line": {
              "color": "#E5ECF6",
              "width": 0.5
             }
            },
            "type": "bar"
           }
          ],
          "barpolar": [
           {
            "marker": {
             "line": {
              "color": "#E5ECF6",
              "width": 0.5
             }
            },
            "type": "barpolar"
           }
          ],
          "carpet": [
           {
            "aaxis": {
             "endlinecolor": "#2a3f5f",
             "gridcolor": "white",
             "linecolor": "white",
             "minorgridcolor": "white",
             "startlinecolor": "#2a3f5f"
            },
            "baxis": {
             "endlinecolor": "#2a3f5f",
             "gridcolor": "white",
             "linecolor": "white",
             "minorgridcolor": "white",
             "startlinecolor": "#2a3f5f"
            },
            "type": "carpet"
           }
          ],
          "choropleth": [
           {
            "colorbar": {
             "outlinewidth": 0,
             "ticks": ""
            },
            "type": "choropleth"
           }
          ],
          "contour": [
           {
            "colorbar": {
             "outlinewidth": 0,
             "ticks": ""
            },
            "colorscale": [
             [
              0,
              "#0d0887"
             ],
             [
              0.1111111111111111,
              "#46039f"
             ],
             [
              0.2222222222222222,
              "#7201a8"
             ],
             [
              0.3333333333333333,
              "#9c179e"
             ],
             [
              0.4444444444444444,
              "#bd3786"
             ],
             [
              0.5555555555555556,
              "#d8576b"
             ],
             [
              0.6666666666666666,
              "#ed7953"
             ],
             [
              0.7777777777777778,
              "#fb9f3a"
             ],
             [
              0.8888888888888888,
              "#fdca26"
             ],
             [
              1,
              "#f0f921"
             ]
            ],
            "type": "contour"
           }
          ],
          "contourcarpet": [
           {
            "colorbar": {
             "outlinewidth": 0,
             "ticks": ""
            },
            "type": "contourcarpet"
           }
          ],
          "heatmap": [
           {
            "colorbar": {
             "outlinewidth": 0,
             "ticks": ""
            },
            "colorscale": [
             [
              0,
              "#0d0887"
             ],
             [
              0.1111111111111111,
              "#46039f"
             ],
             [
              0.2222222222222222,
              "#7201a8"
             ],
             [
              0.3333333333333333,
              "#9c179e"
             ],
             [
              0.4444444444444444,
              "#bd3786"
             ],
             [
              0.5555555555555556,
              "#d8576b"
             ],
             [
              0.6666666666666666,
              "#ed7953"
             ],
             [
              0.7777777777777778,
              "#fb9f3a"
             ],
             [
              0.8888888888888888,
              "#fdca26"
             ],
             [
              1,
              "#f0f921"
             ]
            ],
            "type": "heatmap"
           }
          ],
          "heatmapgl": [
           {
            "colorbar": {
             "outlinewidth": 0,
             "ticks": ""
            },
            "colorscale": [
             [
              0,
              "#0d0887"
             ],
             [
              0.1111111111111111,
              "#46039f"
             ],
             [
              0.2222222222222222,
              "#7201a8"
             ],
             [
              0.3333333333333333,
              "#9c179e"
             ],
             [
              0.4444444444444444,
              "#bd3786"
             ],
             [
              0.5555555555555556,
              "#d8576b"
             ],
             [
              0.6666666666666666,
              "#ed7953"
             ],
             [
              0.7777777777777778,
              "#fb9f3a"
             ],
             [
              0.8888888888888888,
              "#fdca26"
             ],
             [
              1,
              "#f0f921"
             ]
            ],
            "type": "heatmapgl"
           }
          ],
          "histogram": [
           {
            "marker": {
             "colorbar": {
              "outlinewidth": 0,
              "ticks": ""
             }
            },
            "type": "histogram"
           }
          ],
          "histogram2d": [
           {
            "colorbar": {
             "outlinewidth": 0,
             "ticks": ""
            },
            "colorscale": [
             [
              0,
              "#0d0887"
             ],
             [
              0.1111111111111111,
              "#46039f"
             ],
             [
              0.2222222222222222,
              "#7201a8"
             ],
             [
              0.3333333333333333,
              "#9c179e"
             ],
             [
              0.4444444444444444,
              "#bd3786"
             ],
             [
              0.5555555555555556,
              "#d8576b"
             ],
             [
              0.6666666666666666,
              "#ed7953"
             ],
             [
              0.7777777777777778,
              "#fb9f3a"
             ],
             [
              0.8888888888888888,
              "#fdca26"
             ],
             [
              1,
              "#f0f921"
             ]
            ],
            "type": "histogram2d"
           }
          ],
          "histogram2dcontour": [
           {
            "colorbar": {
             "outlinewidth": 0,
             "ticks": ""
            },
            "colorscale": [
             [
              0,
              "#0d0887"
             ],
             [
              0.1111111111111111,
              "#46039f"
             ],
             [
              0.2222222222222222,
              "#7201a8"
             ],
             [
              0.3333333333333333,
              "#9c179e"
             ],
             [
              0.4444444444444444,
              "#bd3786"
             ],
             [
              0.5555555555555556,
              "#d8576b"
             ],
             [
              0.6666666666666666,
              "#ed7953"
             ],
             [
              0.7777777777777778,
              "#fb9f3a"
             ],
             [
              0.8888888888888888,
              "#fdca26"
             ],
             [
              1,
              "#f0f921"
             ]
            ],
            "type": "histogram2dcontour"
           }
          ],
          "mesh3d": [
           {
            "colorbar": {
             "outlinewidth": 0,
             "ticks": ""
            },
            "type": "mesh3d"
           }
          ],
          "parcoords": [
           {
            "line": {
             "colorbar": {
              "outlinewidth": 0,
              "ticks": ""
             }
            },
            "type": "parcoords"
           }
          ],
          "pie": [
           {
            "automargin": true,
            "type": "pie"
           }
          ],
          "scatter": [
           {
            "marker": {
             "colorbar": {
              "outlinewidth": 0,
              "ticks": ""
             }
            },
            "type": "scatter"
           }
          ],
          "scatter3d": [
           {
            "line": {
             "colorbar": {
              "outlinewidth": 0,
              "ticks": ""
             }
            },
            "marker": {
             "colorbar": {
              "outlinewidth": 0,
              "ticks": ""
             }
            },
            "type": "scatter3d"
           }
          ],
          "scattercarpet": [
           {
            "marker": {
             "colorbar": {
              "outlinewidth": 0,
              "ticks": ""
             }
            },
            "type": "scattercarpet"
           }
          ],
          "scattergeo": [
           {
            "marker": {
             "colorbar": {
              "outlinewidth": 0,
              "ticks": ""
             }
            },
            "type": "scattergeo"
           }
          ],
          "scattergl": [
           {
            "marker": {
             "colorbar": {
              "outlinewidth": 0,
              "ticks": ""
             }
            },
            "type": "scattergl"
           }
          ],
          "scattermapbox": [
           {
            "marker": {
             "colorbar": {
              "outlinewidth": 0,
              "ticks": ""
             }
            },
            "type": "scattermapbox"
           }
          ],
          "scatterpolar": [
           {
            "marker": {
             "colorbar": {
              "outlinewidth": 0,
              "ticks": ""
             }
            },
            "type": "scatterpolar"
           }
          ],
          "scatterpolargl": [
           {
            "marker": {
             "colorbar": {
              "outlinewidth": 0,
              "ticks": ""
             }
            },
            "type": "scatterpolargl"
           }
          ],
          "scatterternary": [
           {
            "marker": {
             "colorbar": {
              "outlinewidth": 0,
              "ticks": ""
             }
            },
            "type": "scatterternary"
           }
          ],
          "surface": [
           {
            "colorbar": {
             "outlinewidth": 0,
             "ticks": ""
            },
            "colorscale": [
             [
              0,
              "#0d0887"
             ],
             [
              0.1111111111111111,
              "#46039f"
             ],
             [
              0.2222222222222222,
              "#7201a8"
             ],
             [
              0.3333333333333333,
              "#9c179e"
             ],
             [
              0.4444444444444444,
              "#bd3786"
             ],
             [
              0.5555555555555556,
              "#d8576b"
             ],
             [
              0.6666666666666666,
              "#ed7953"
             ],
             [
              0.7777777777777778,
              "#fb9f3a"
             ],
             [
              0.8888888888888888,
              "#fdca26"
             ],
             [
              1,
              "#f0f921"
             ]
            ],
            "type": "surface"
           }
          ],
          "table": [
           {
            "cells": {
             "fill": {
              "color": "#EBF0F8"
             },
             "line": {
              "color": "white"
             }
            },
            "header": {
             "fill": {
              "color": "#C8D4E3"
             },
             "line": {
              "color": "white"
             }
            },
            "type": "table"
           }
          ]
         },
         "layout": {
          "annotationdefaults": {
           "arrowcolor": "#2a3f5f",
           "arrowhead": 0,
           "arrowwidth": 1
          },
          "coloraxis": {
           "colorbar": {
            "outlinewidth": 0,
            "ticks": ""
           }
          },
          "colorscale": {
           "diverging": [
            [
             0,
             "#8e0152"
            ],
            [
             0.1,
             "#c51b7d"
            ],
            [
             0.2,
             "#de77ae"
            ],
            [
             0.3,
             "#f1b6da"
            ],
            [
             0.4,
             "#fde0ef"
            ],
            [
             0.5,
             "#f7f7f7"
            ],
            [
             0.6,
             "#e6f5d0"
            ],
            [
             0.7,
             "#b8e186"
            ],
            [
             0.8,
             "#7fbc41"
            ],
            [
             0.9,
             "#4d9221"
            ],
            [
             1,
             "#276419"
            ]
           ],
           "sequential": [
            [
             0,
             "#0d0887"
            ],
            [
             0.1111111111111111,
             "#46039f"
            ],
            [
             0.2222222222222222,
             "#7201a8"
            ],
            [
             0.3333333333333333,
             "#9c179e"
            ],
            [
             0.4444444444444444,
             "#bd3786"
            ],
            [
             0.5555555555555556,
             "#d8576b"
            ],
            [
             0.6666666666666666,
             "#ed7953"
            ],
            [
             0.7777777777777778,
             "#fb9f3a"
            ],
            [
             0.8888888888888888,
             "#fdca26"
            ],
            [
             1,
             "#f0f921"
            ]
           ],
           "sequentialminus": [
            [
             0,
             "#0d0887"
            ],
            [
             0.1111111111111111,
             "#46039f"
            ],
            [
             0.2222222222222222,
             "#7201a8"
            ],
            [
             0.3333333333333333,
             "#9c179e"
            ],
            [
             0.4444444444444444,
             "#bd3786"
            ],
            [
             0.5555555555555556,
             "#d8576b"
            ],
            [
             0.6666666666666666,
             "#ed7953"
            ],
            [
             0.7777777777777778,
             "#fb9f3a"
            ],
            [
             0.8888888888888888,
             "#fdca26"
            ],
            [
             1,
             "#f0f921"
            ]
           ]
          },
          "colorway": [
           "#636efa",
           "#EF553B",
           "#00cc96",
           "#ab63fa",
           "#FFA15A",
           "#19d3f3",
           "#FF6692",
           "#B6E880",
           "#FF97FF",
           "#FECB52"
          ],
          "font": {
           "color": "#2a3f5f"
          },
          "geo": {
           "bgcolor": "white",
           "lakecolor": "white",
           "landcolor": "#E5ECF6",
           "showlakes": true,
           "showland": true,
           "subunitcolor": "white"
          },
          "hoverlabel": {
           "align": "left"
          },
          "hovermode": "closest",
          "mapbox": {
           "style": "light"
          },
          "paper_bgcolor": "white",
          "plot_bgcolor": "#E5ECF6",
          "polar": {
           "angularaxis": {
            "gridcolor": "white",
            "linecolor": "white",
            "ticks": ""
           },
           "bgcolor": "#E5ECF6",
           "radialaxis": {
            "gridcolor": "white",
            "linecolor": "white",
            "ticks": ""
           }
          },
          "scene": {
           "xaxis": {
            "backgroundcolor": "#E5ECF6",
            "gridcolor": "white",
            "gridwidth": 2,
            "linecolor": "white",
            "showbackground": true,
            "ticks": "",
            "zerolinecolor": "white"
           },
           "yaxis": {
            "backgroundcolor": "#E5ECF6",
            "gridcolor": "white",
            "gridwidth": 2,
            "linecolor": "white",
            "showbackground": true,
            "ticks": "",
            "zerolinecolor": "white"
           },
           "zaxis": {
            "backgroundcolor": "#E5ECF6",
            "gridcolor": "white",
            "gridwidth": 2,
            "linecolor": "white",
            "showbackground": true,
            "ticks": "",
            "zerolinecolor": "white"
           }
          },
          "shapedefaults": {
           "line": {
            "color": "#2a3f5f"
           }
          },
          "ternary": {
           "aaxis": {
            "gridcolor": "white",
            "linecolor": "white",
            "ticks": ""
           },
           "baxis": {
            "gridcolor": "white",
            "linecolor": "white",
            "ticks": ""
           },
           "bgcolor": "#E5ECF6",
           "caxis": {
            "gridcolor": "white",
            "linecolor": "white",
            "ticks": ""
           }
          },
          "title": {
           "x": 0.05
          },
          "xaxis": {
           "automargin": true,
           "gridcolor": "white",
           "linecolor": "white",
           "ticks": "",
           "title": {
            "standoff": 15
           },
           "zerolinecolor": "white",
           "zerolinewidth": 2
          },
          "yaxis": {
           "automargin": true,
           "gridcolor": "white",
           "linecolor": "white",
           "ticks": "",
           "title": {
            "standoff": 15
           },
           "zerolinecolor": "white",
           "zerolinewidth": 2
          }
         }
        },
        "title": {
         "text": "Top 15 Billboard Artists by Number of Spotify Followers"
        },
        "xaxis": {
         "anchor": "y",
         "domain": [
          0,
          1
         ],
         "title": {
          "text": "Artist"
         }
        },
        "yaxis": {
         "anchor": "x",
         "domain": [
          0,
          1
         ],
         "title": {
          "text": "Follower Count"
         }
        }
       }
      },
      "text/html": "<div>\n        \n        \n            <div id=\"d99f95c6-e3e2-46d7-8673-dadb33338391\" class=\"plotly-graph-div\" style=\"height:525px; width:100%;\"></div>\n            <script type=\"text/javascript\">\n                require([\"plotly\"], function(Plotly) {\n                    window.PLOTLYENV=window.PLOTLYENV || {};\n                    \n                if (document.getElementById(\"d99f95c6-e3e2-46d7-8673-dadb33338391\")) {\n                    Plotly.newPlot(\n                        'd99f95c6-e3e2-46d7-8673-dadb33338391',\n                        [{\"alignmentgroup\": \"True\", \"hovertemplate\": \"color=Drake<br>x=%{x}<br>y=%{y}<extra></extra>\", \"legendgroup\": \"Drake\", \"marker\": {\"color\": \"#636efa\"}, \"name\": \"Drake\", \"offsetgroup\": \"Drake\", \"orientation\": \"v\", \"showlegend\": true, \"textposition\": \"auto\", \"type\": \"bar\", \"x\": [\"Drake\"], \"xaxis\": \"x\", \"y\": [46240942], \"yaxis\": \"y\"}, {\"alignmentgroup\": \"True\", \"hovertemplate\": \"color=Justin Bieber<br>x=%{x}<br>y=%{y}<extra></extra>\", \"legendgroup\": \"Justin Bieber\", \"marker\": {\"color\": \"#EF553B\"}, \"name\": \"Justin Bieber\", \"offsetgroup\": \"Justin Bieber\", \"orientation\": \"v\", \"showlegend\": true, \"textposition\": \"auto\", \"type\": \"bar\", \"x\": [\"Justin Bieber\"], \"xaxis\": \"x\", \"y\": [34535442], \"yaxis\": \"y\"}, {\"alignmentgroup\": \"True\", \"hovertemplate\": \"color=Eminem<br>x=%{x}<br>y=%{y}<extra></extra>\", \"legendgroup\": \"Eminem\", \"marker\": {\"color\": \"#00cc96\"}, \"name\": \"Eminem\", \"offsetgroup\": \"Eminem\", \"orientation\": \"v\", \"showlegend\": true, \"textposition\": \"auto\", \"type\": \"bar\", \"x\": [\"Eminem\"], \"xaxis\": \"x\", \"y\": [34526340], \"yaxis\": \"y\"}, {\"alignmentgroup\": \"True\", \"hovertemplate\": \"color=Taylor Swift<br>x=%{x}<br>y=%{y}<extra></extra>\", \"legendgroup\": \"Taylor Swift\", \"marker\": {\"color\": \"#ab63fa\"}, \"name\": \"Taylor Swift\", \"offsetgroup\": \"Taylor Swift\", \"orientation\": \"v\", \"showlegend\": true, \"textposition\": \"auto\", \"type\": \"bar\", \"x\": [\"Taylor Swift\"], \"xaxis\": \"x\", \"y\": [28745960], \"yaxis\": \"y\"}, {\"alignmentgroup\": \"True\", \"hovertemplate\": \"color=Billie Eilish<br>x=%{x}<br>y=%{y}<extra></extra>\", \"legendgroup\": \"Billie Eilish\", \"marker\": {\"color\": \"#FFA15A\"}, \"name\": \"Billie Eilish\", \"offsetgroup\": \"Billie Eilish\", \"orientation\": \"v\", \"showlegend\": true, \"textposition\": \"auto\", \"type\": \"bar\", \"x\": [\"Billie Eilish\"], \"xaxis\": \"x\", \"y\": [25325174], \"yaxis\": \"y\"}, {\"alignmentgroup\": \"True\", \"hovertemplate\": \"color=Post Malone<br>x=%{x}<br>y=%{y}<extra></extra>\", \"legendgroup\": \"Post Malone\", \"marker\": {\"color\": \"#19d3f3\"}, \"name\": \"Post Malone\", \"offsetgroup\": \"Post Malone\", \"orientation\": \"v\", \"showlegend\": true, \"textposition\": \"auto\", \"type\": \"bar\", \"x\": [\"Post Malone\"], \"xaxis\": \"x\", \"y\": [24725887], \"yaxis\": \"y\"}, {\"alignmentgroup\": \"True\", \"hovertemplate\": \"color=Maroon 5<br>x=%{x}<br>y=%{y}<extra></extra>\", \"legendgroup\": \"Maroon 5\", \"marker\": {\"color\": \"#FF6692\"}, \"name\": \"Maroon 5\", \"offsetgroup\": \"Maroon 5\", \"orientation\": \"v\", \"showlegend\": true, \"textposition\": \"auto\", \"type\": \"bar\", \"x\": [\"Maroon 5\"], \"xaxis\": \"x\", \"y\": [24017288], \"yaxis\": \"y\"}, {\"alignmentgroup\": \"True\", \"hovertemplate\": \"color=Bad Bunny<br>x=%{x}<br>y=%{y}<extra></extra>\", \"legendgroup\": \"Bad Bunny\", \"marker\": {\"color\": \"#B6E880\"}, \"name\": \"Bad Bunny\", \"offsetgroup\": \"Bad Bunny\", \"orientation\": \"v\", \"showlegend\": true, \"textposition\": \"auto\", \"type\": \"bar\", \"x\": [\"Bad Bunny\"], \"xaxis\": \"x\", \"y\": [20963670], \"yaxis\": \"y\"}, {\"alignmentgroup\": \"True\", \"hovertemplate\": \"color=Selena Gomez<br>x=%{x}<br>y=%{y}<extra></extra>\", \"legendgroup\": \"Selena Gomez\", \"marker\": {\"color\": \"#FF97FF\"}, \"name\": \"Selena Gomez\", \"offsetgroup\": \"Selena Gomez\", \"orientation\": \"v\", \"showlegend\": true, \"textposition\": \"auto\", \"type\": \"bar\", \"x\": [\"Selena Gomez\"], \"xaxis\": \"x\", \"y\": [20386844], \"yaxis\": \"y\"}, {\"alignmentgroup\": \"True\", \"hovertemplate\": \"color=The Weeknd<br>x=%{x}<br>y=%{y}<extra></extra>\", \"legendgroup\": \"The Weeknd\", \"marker\": {\"color\": \"#FECB52\"}, \"name\": \"The Weeknd\", \"offsetgroup\": \"The Weeknd\", \"orientation\": \"v\", \"showlegend\": true, \"textposition\": \"auto\", \"type\": \"bar\", \"x\": [\"The Weeknd\"], \"xaxis\": \"x\", \"y\": [20183430], \"yaxis\": \"y\"}, {\"alignmentgroup\": \"True\", \"hovertemplate\": \"color=Demi Lovato<br>x=%{x}<br>y=%{y}<extra></extra>\", \"legendgroup\": \"Demi Lovato\", \"marker\": {\"color\": \"#636efa\"}, \"name\": \"Demi Lovato\", \"offsetgroup\": \"Demi Lovato\", \"orientation\": \"v\", \"showlegend\": true, \"textposition\": \"auto\", \"type\": \"bar\", \"x\": [\"Demi Lovato\"], \"xaxis\": \"x\", \"y\": [16994848], \"yaxis\": \"y\"}, {\"alignmentgroup\": \"True\", \"hovertemplate\": \"color=Twenty One Pilots<br>x=%{x}<br>y=%{y}<extra></extra>\", \"legendgroup\": \"Twenty One Pilots\", \"marker\": {\"color\": \"#EF553B\"}, \"name\": \"Twenty One Pilots\", \"offsetgroup\": \"Twenty One Pilots\", \"orientation\": \"v\", \"showlegend\": true, \"textposition\": \"auto\", \"type\": \"bar\", \"x\": [\"Twenty One Pilots\"], \"xaxis\": \"x\", \"y\": [16771676], \"yaxis\": \"y\"}, {\"alignmentgroup\": \"True\", \"hovertemplate\": \"color=Dua Lipa<br>x=%{x}<br>y=%{y}<extra></extra>\", \"legendgroup\": \"Dua Lipa\", \"marker\": {\"color\": \"#00cc96\"}, \"name\": \"Dua Lipa\", \"offsetgroup\": \"Dua Lipa\", \"orientation\": \"v\", \"showlegend\": true, \"textposition\": \"auto\", \"type\": \"bar\", \"x\": [\"Dua Lipa\"], \"xaxis\": \"x\", \"y\": [16617621], \"yaxis\": \"y\"}, {\"alignmentgroup\": \"True\", \"hovertemplate\": \"color=Camila Cabello<br>x=%{x}<br>y=%{y}<extra></extra>\", \"legendgroup\": \"Camila Cabello\", \"marker\": {\"color\": \"#ab63fa\"}, \"name\": \"Camila Cabello\", \"offsetgroup\": \"Camila Cabello\", \"orientation\": \"v\", \"showlegend\": true, \"textposition\": \"auto\", \"type\": \"bar\", \"x\": [\"Camila Cabello\"], \"xaxis\": \"x\", \"y\": [16086187], \"yaxis\": \"y\"}, {\"alignmentgroup\": \"True\", \"hovertemplate\": \"color=Lady Gaga<br>x=%{x}<br>y=%{y}<extra></extra>\", \"legendgroup\": \"Lady Gaga\", \"marker\": {\"color\": \"#FFA15A\"}, \"name\": \"Lady Gaga\", \"offsetgroup\": \"Lady Gaga\", \"orientation\": \"v\", \"showlegend\": true, \"textposition\": \"auto\", \"type\": \"bar\", \"x\": [\"Lady Gaga\"], \"xaxis\": \"x\", \"y\": [11466221], \"yaxis\": \"y\"}],\n                        {\"barmode\": \"relative\", \"legend\": {\"title\": {\"text\": \"color\"}, \"tracegroupgap\": 0}, \"margin\": {\"t\": 60}, \"showlegend\": false, \"template\": {\"data\": {\"bar\": [{\"error_x\": {\"color\": \"#2a3f5f\"}, \"error_y\": {\"color\": \"#2a3f5f\"}, \"marker\": {\"line\": {\"color\": \"#E5ECF6\", \"width\": 0.5}}, \"type\": \"bar\"}], \"barpolar\": [{\"marker\": {\"line\": {\"color\": \"#E5ECF6\", \"width\": 0.5}}, \"type\": \"barpolar\"}], \"carpet\": [{\"aaxis\": {\"endlinecolor\": \"#2a3f5f\", \"gridcolor\": \"white\", \"linecolor\": \"white\", \"minorgridcolor\": \"white\", \"startlinecolor\": \"#2a3f5f\"}, \"baxis\": {\"endlinecolor\": \"#2a3f5f\", \"gridcolor\": \"white\", \"linecolor\": \"white\", \"minorgridcolor\": \"white\", \"startlinecolor\": \"#2a3f5f\"}, \"type\": \"carpet\"}], \"choropleth\": [{\"colorbar\": {\"outlinewidth\": 0, \"ticks\": \"\"}, \"type\": \"choropleth\"}], \"contour\": [{\"colorbar\": {\"outlinewidth\": 0, \"ticks\": \"\"}, \"colorscale\": [[0.0, \"#0d0887\"], [0.1111111111111111, \"#46039f\"], [0.2222222222222222, \"#7201a8\"], [0.3333333333333333, \"#9c179e\"], [0.4444444444444444, \"#bd3786\"], [0.5555555555555556, \"#d8576b\"], [0.6666666666666666, \"#ed7953\"], [0.7777777777777778, \"#fb9f3a\"], [0.8888888888888888, \"#fdca26\"], [1.0, \"#f0f921\"]], \"type\": \"contour\"}], \"contourcarpet\": [{\"colorbar\": {\"outlinewidth\": 0, \"ticks\": \"\"}, \"type\": \"contourcarpet\"}], \"heatmap\": [{\"colorbar\": {\"outlinewidth\": 0, \"ticks\": \"\"}, \"colorscale\": [[0.0, \"#0d0887\"], [0.1111111111111111, \"#46039f\"], [0.2222222222222222, \"#7201a8\"], [0.3333333333333333, \"#9c179e\"], [0.4444444444444444, \"#bd3786\"], [0.5555555555555556, \"#d8576b\"], [0.6666666666666666, \"#ed7953\"], [0.7777777777777778, \"#fb9f3a\"], [0.8888888888888888, \"#fdca26\"], [1.0, \"#f0f921\"]], \"type\": \"heatmap\"}], \"heatmapgl\": [{\"colorbar\": {\"outlinewidth\": 0, \"ticks\": \"\"}, \"colorscale\": [[0.0, \"#0d0887\"], [0.1111111111111111, \"#46039f\"], [0.2222222222222222, \"#7201a8\"], [0.3333333333333333, \"#9c179e\"], [0.4444444444444444, \"#bd3786\"], [0.5555555555555556, \"#d8576b\"], [0.6666666666666666, \"#ed7953\"], [0.7777777777777778, \"#fb9f3a\"], [0.8888888888888888, \"#fdca26\"], [1.0, \"#f0f921\"]], \"type\": \"heatmapgl\"}], \"histogram\": [{\"marker\": {\"colorbar\": {\"outlinewidth\": 0, \"ticks\": \"\"}}, \"type\": \"histogram\"}], \"histogram2d\": [{\"colorbar\": {\"outlinewidth\": 0, \"ticks\": \"\"}, \"colorscale\": [[0.0, \"#0d0887\"], [0.1111111111111111, \"#46039f\"], [0.2222222222222222, \"#7201a8\"], [0.3333333333333333, \"#9c179e\"], [0.4444444444444444, \"#bd3786\"], [0.5555555555555556, \"#d8576b\"], [0.6666666666666666, \"#ed7953\"], [0.7777777777777778, \"#fb9f3a\"], [0.8888888888888888, \"#fdca26\"], [1.0, \"#f0f921\"]], \"type\": \"histogram2d\"}], \"histogram2dcontour\": [{\"colorbar\": {\"outlinewidth\": 0, \"ticks\": \"\"}, \"colorscale\": [[0.0, \"#0d0887\"], [0.1111111111111111, \"#46039f\"], [0.2222222222222222, \"#7201a8\"], [0.3333333333333333, \"#9c179e\"], [0.4444444444444444, \"#bd3786\"], [0.5555555555555556, \"#d8576b\"], [0.6666666666666666, \"#ed7953\"], [0.7777777777777778, \"#fb9f3a\"], [0.8888888888888888, \"#fdca26\"], [1.0, \"#f0f921\"]], \"type\": \"histogram2dcontour\"}], \"mesh3d\": [{\"colorbar\": {\"outlinewidth\": 0, \"ticks\": \"\"}, \"type\": \"mesh3d\"}], \"parcoords\": [{\"line\": {\"colorbar\": {\"outlinewidth\": 0, \"ticks\": \"\"}}, \"type\": \"parcoords\"}], \"pie\": [{\"automargin\": true, \"type\": \"pie\"}], \"scatter\": [{\"marker\": {\"colorbar\": {\"outlinewidth\": 0, \"ticks\": \"\"}}, \"type\": \"scatter\"}], \"scatter3d\": [{\"line\": {\"colorbar\": {\"outlinewidth\": 0, \"ticks\": \"\"}}, \"marker\": {\"colorbar\": {\"outlinewidth\": 0, \"ticks\": \"\"}}, \"type\": \"scatter3d\"}], \"scattercarpet\": [{\"marker\": {\"colorbar\": {\"outlinewidth\": 0, \"ticks\": \"\"}}, \"type\": \"scattercarpet\"}], \"scattergeo\": [{\"marker\": {\"colorbar\": {\"outlinewidth\": 0, \"ticks\": \"\"}}, \"type\": \"scattergeo\"}], \"scattergl\": [{\"marker\": {\"colorbar\": {\"outlinewidth\": 0, \"ticks\": \"\"}}, \"type\": \"scattergl\"}], \"scattermapbox\": [{\"marker\": {\"colorbar\": {\"outlinewidth\": 0, \"ticks\": \"\"}}, \"type\": \"scattermapbox\"}], \"scatterpolar\": [{\"marker\": {\"colorbar\": {\"outlinewidth\": 0, \"ticks\": \"\"}}, \"type\": \"scatterpolar\"}], \"scatterpolargl\": [{\"marker\": {\"colorbar\": {\"outlinewidth\": 0, \"ticks\": \"\"}}, \"type\": \"scatterpolargl\"}], \"scatterternary\": [{\"marker\": {\"colorbar\": {\"outlinewidth\": 0, \"ticks\": \"\"}}, \"type\": \"scatterternary\"}], \"surface\": [{\"colorbar\": {\"outlinewidth\": 0, \"ticks\": \"\"}, \"colorscale\": [[0.0, \"#0d0887\"], [0.1111111111111111, \"#46039f\"], [0.2222222222222222, \"#7201a8\"], [0.3333333333333333, \"#9c179e\"], [0.4444444444444444, \"#bd3786\"], [0.5555555555555556, \"#d8576b\"], [0.6666666666666666, \"#ed7953\"], [0.7777777777777778, \"#fb9f3a\"], [0.8888888888888888, \"#fdca26\"], [1.0, \"#f0f921\"]], \"type\": \"surface\"}], \"table\": [{\"cells\": {\"fill\": {\"color\": \"#EBF0F8\"}, \"line\": {\"color\": \"white\"}}, \"header\": {\"fill\": {\"color\": \"#C8D4E3\"}, \"line\": {\"color\": \"white\"}}, \"type\": \"table\"}]}, \"layout\": {\"annotationdefaults\": {\"arrowcolor\": \"#2a3f5f\", \"arrowhead\": 0, \"arrowwidth\": 1}, \"coloraxis\": {\"colorbar\": {\"outlinewidth\": 0, \"ticks\": \"\"}}, \"colorscale\": {\"diverging\": [[0, \"#8e0152\"], [0.1, \"#c51b7d\"], [0.2, \"#de77ae\"], [0.3, \"#f1b6da\"], [0.4, \"#fde0ef\"], [0.5, \"#f7f7f7\"], [0.6, \"#e6f5d0\"], [0.7, \"#b8e186\"], [0.8, \"#7fbc41\"], [0.9, \"#4d9221\"], [1, \"#276419\"]], \"sequential\": [[0.0, \"#0d0887\"], [0.1111111111111111, \"#46039f\"], [0.2222222222222222, \"#7201a8\"], [0.3333333333333333, \"#9c179e\"], [0.4444444444444444, \"#bd3786\"], [0.5555555555555556, \"#d8576b\"], [0.6666666666666666, \"#ed7953\"], [0.7777777777777778, \"#fb9f3a\"], [0.8888888888888888, \"#fdca26\"], [1.0, \"#f0f921\"]], \"sequentialminus\": [[0.0, \"#0d0887\"], [0.1111111111111111, \"#46039f\"], [0.2222222222222222, \"#7201a8\"], [0.3333333333333333, \"#9c179e\"], [0.4444444444444444, \"#bd3786\"], [0.5555555555555556, \"#d8576b\"], [0.6666666666666666, \"#ed7953\"], [0.7777777777777778, \"#fb9f3a\"], [0.8888888888888888, \"#fdca26\"], [1.0, \"#f0f921\"]]}, \"colorway\": [\"#636efa\", \"#EF553B\", \"#00cc96\", \"#ab63fa\", \"#FFA15A\", \"#19d3f3\", \"#FF6692\", \"#B6E880\", \"#FF97FF\", \"#FECB52\"], \"font\": {\"color\": \"#2a3f5f\"}, \"geo\": {\"bgcolor\": \"white\", \"lakecolor\": \"white\", \"landcolor\": \"#E5ECF6\", \"showlakes\": true, \"showland\": true, \"subunitcolor\": \"white\"}, \"hoverlabel\": {\"align\": \"left\"}, \"hovermode\": \"closest\", \"mapbox\": {\"style\": \"light\"}, \"paper_bgcolor\": \"white\", \"plot_bgcolor\": \"#E5ECF6\", \"polar\": {\"angularaxis\": {\"gridcolor\": \"white\", \"linecolor\": \"white\", \"ticks\": \"\"}, \"bgcolor\": \"#E5ECF6\", \"radialaxis\": {\"gridcolor\": \"white\", \"linecolor\": \"white\", \"ticks\": \"\"}}, \"scene\": {\"xaxis\": {\"backgroundcolor\": \"#E5ECF6\", \"gridcolor\": \"white\", \"gridwidth\": 2, \"linecolor\": \"white\", \"showbackground\": true, \"ticks\": \"\", \"zerolinecolor\": \"white\"}, \"yaxis\": {\"backgroundcolor\": \"#E5ECF6\", \"gridcolor\": \"white\", \"gridwidth\": 2, \"linecolor\": \"white\", \"showbackground\": true, \"ticks\": \"\", \"zerolinecolor\": \"white\"}, \"zaxis\": {\"backgroundcolor\": \"#E5ECF6\", \"gridcolor\": \"white\", \"gridwidth\": 2, \"linecolor\": \"white\", \"showbackground\": true, \"ticks\": \"\", \"zerolinecolor\": \"white\"}}, \"shapedefaults\": {\"line\": {\"color\": \"#2a3f5f\"}}, \"ternary\": {\"aaxis\": {\"gridcolor\": \"white\", \"linecolor\": \"white\", \"ticks\": \"\"}, \"baxis\": {\"gridcolor\": \"white\", \"linecolor\": \"white\", \"ticks\": \"\"}, \"bgcolor\": \"#E5ECF6\", \"caxis\": {\"gridcolor\": \"white\", \"linecolor\": \"white\", \"ticks\": \"\"}}, \"title\": {\"x\": 0.05}, \"xaxis\": {\"automargin\": true, \"gridcolor\": \"white\", \"linecolor\": \"white\", \"ticks\": \"\", \"title\": {\"standoff\": 15}, \"zerolinecolor\": \"white\", \"zerolinewidth\": 2}, \"yaxis\": {\"automargin\": true, \"gridcolor\": \"white\", \"linecolor\": \"white\", \"ticks\": \"\", \"title\": {\"standoff\": 15}, \"zerolinecolor\": \"white\", \"zerolinewidth\": 2}}}, \"title\": {\"text\": \"Top 15 Billboard Artists by Number of Spotify Followers\"}, \"xaxis\": {\"anchor\": \"y\", \"domain\": [0.0, 1.0], \"title\": {\"text\": \"Artist\"}}, \"yaxis\": {\"anchor\": \"x\", \"domain\": [0.0, 1.0], \"title\": {\"text\": \"Follower Count\"}}},\n                        {\"responsive\": true}\n                    ).then(function(){\n                            \nvar gd = document.getElementById('d99f95c6-e3e2-46d7-8673-dadb33338391');\nvar x = new MutationObserver(function (mutations, observer) {{\n        var display = window.getComputedStyle(gd).display;\n        if (!display || display === 'none') {{\n            console.log([gd, 'removed!']);\n            Plotly.purge(gd);\n            observer.disconnect();\n        }}\n}});\n\n// Listen for the removal of the full notebook cells\nvar notebookContainer = gd.closest('#notebook-container');\nif (notebookContainer) {{\n    x.observe(notebookContainer, {childList: true});\n}}\n\n// Listen for the clearing of the current output cell\nvar outputEl = gd.closest('.output');\nif (outputEl) {{\n    x.observe(outputEl, {childList: true});\n}}\n\n                        })\n                };\n                });\n            </script>\n        </div>"
     },
     "metadata": {}
    }
   ],
   "source": [
    "# bar chart number followers top 15 artists\n",
    "fig = px.bar(x=top15['name'], y=top15['followers'], color=top15['name'])\n",
    "fig.update_layout(\n",
    "    title_text=\"Top 15 Artists by Number of Spotify Followers\",\n",
    "    showlegend=False,\n",
    "    yaxis=dict(title='Follower Count'),\n",
    "    xaxis=dict(title='Artist')\n",
    "    )\n",
    "\n",
    "fig.show()"
   ]
  },
  {
   "cell_type": "code",
   "execution_count": 73,
   "metadata": {},
   "outputs": [
    {
     "output_type": "stream",
     "name": "stdout",
     "text": "Number of unique artists: 94 \n\nDaBaby                        12\nRod Wave                      10\nLil Baby                       6\nYoungBoy Never Broke Again     5\nThe Weeknd                     4\nLil Uzi Vert                   4\nMegan Thee Stallion            3\nKane Brown                     3\nJhené Aiko                     2\nBad Bunny                      2\nLewis Capaldi                  2\nFuture                         2\nThomas Rhett                   2\nMorgan Wallen                  2\nDoja Cat                       2\nName: artist_name, dtype: int64\n"
    }
   ],
   "source": [
    "# How many unique artists?\n",
    "print(\"Number of unique artists:\", temp['artist_name'].nunique(), \"\\n\")\n",
    "# Top 15 artists song counts\n",
    "print(temp['artist_name'].value_counts().iloc[0:15])"
   ]
  },
  {
   "cell_type": "markdown",
   "metadata": {},
   "source": [
    "# Time Series Analysis\n",
    "### How do BB100 rankings change over time?"
   ]
  },
  {
   "cell_type": "code",
   "execution_count": 193,
   "metadata": {},
   "outputs": [],
   "source": [
    "to_graph = bb100.sort_values(by='Num_Weeks_on_Chart', ascending=False).iloc[0:45]"
   ]
  },
  {
   "cell_type": "code",
   "execution_count": 194,
   "metadata": {},
   "outputs": [],
   "source": [
    "N = to_graph['Song'].nunique()"
   ]
  },
  {
   "cell_type": "code",
   "execution_count": 195,
   "metadata": {},
   "outputs": [
    {
     "output_type": "display_data",
     "data": {
      "application/vnd.plotly.v1+json": {
       "config": {
        "plotlyServerURL": "https://plot.ly"
       },
       "data": [
        {
         "hovertemplate": "Song=Someone You Loved<br>Curr_Week=%{x}<br>Rank_Default=%{y}<extra></extra>",
         "legendgroup": "Someone You Loved",
         "line": {
          "color": "#636efa",
          "dash": "solid",
          "shape": "spline"
         },
         "mode": "lines",
         "name": "Someone You Loved",
         "showlegend": true,
         "type": "scatter",
         "x": [
          "2020-05-03",
          "2020-04-26",
          "2020-04-19",
          "2020-04-12"
         ],
         "xaxis": "x",
         "y": [
          -2,
          -4,
          0,
          -1
         ],
         "yaxis": "y"
        },
        {
         "hovertemplate": "Song=No Guidance<br>Curr_Week=%{x}<br>Rank_Default=%{y}<extra></extra>",
         "legendgroup": "No Guidance",
         "line": {
          "color": "#EF553B",
          "dash": "solid",
          "shape": "spline"
         },
         "mode": "lines",
         "name": "No Guidance",
         "showlegend": true,
         "type": "scatter",
         "x": [
          "2020-04-26",
          "2020-04-19",
          "2020-04-12"
         ],
         "xaxis": "x",
         "y": [
          -8,
          -2,
          -3
         ],
         "yaxis": "y"
        },
        {
         "hovertemplate": "Song=Ballin'<br>Curr_Week=%{x}<br>Rank_Default=%{y}<extra></extra>",
         "legendgroup": "Ballin'",
         "line": {
          "color": "#00cc96",
          "dash": "solid",
          "shape": "spline"
         },
         "mode": "lines",
         "name": "Ballin'",
         "showlegend": true,
         "type": "scatter",
         "x": [
          "2020-05-03",
          "2020-04-26",
          "2020-04-19",
          "2020-04-12"
         ],
         "xaxis": "x",
         "y": [
          0,
          -5,
          -1,
          -2
         ],
         "yaxis": "y"
        },
        {
         "hovertemplate": "Song=Goosebumps<br>Curr_Week=%{x}<br>Rank_Default=%{y}<extra></extra>",
         "legendgroup": "Goosebumps",
         "line": {
          "color": "#ab63fa",
          "dash": "solid",
          "shape": "spline"
         },
         "mode": "lines",
         "name": "Goosebumps",
         "showlegend": true,
         "type": "scatter",
         "x": [
          "2020-05-03"
         ],
         "xaxis": "x",
         "y": [
          0
         ],
         "yaxis": "y"
        },
        {
         "hovertemplate": "Song=Circles<br>Curr_Week=%{x}<br>Rank_Default=%{y}<extra></extra>",
         "legendgroup": "Circles",
         "line": {
          "color": "#FFA15A",
          "dash": "solid",
          "shape": "spline"
         },
         "mode": "lines",
         "name": "Circles",
         "showlegend": true,
         "type": "scatter",
         "x": [
          "2020-05-03",
          "2020-04-26",
          "2020-04-19",
          "2020-04-12"
         ],
         "xaxis": "x",
         "y": [
          -2,
          1,
          -1,
          -2
         ],
         "yaxis": "y"
        },
        {
         "hovertemplate": "Song=Hot Girl Bummer<br>Curr_Week=%{x}<br>Rank_Default=%{y}<extra></extra>",
         "legendgroup": "Hot Girl Bummer",
         "line": {
          "color": "#19d3f3",
          "dash": "solid",
          "shape": "spline"
         },
         "mode": "lines",
         "name": "Hot Girl Bummer",
         "showlegend": true,
         "type": "scatter",
         "x": [
          "2020-05-03",
          "2020-04-26",
          "2020-04-19",
          "2020-04-12"
         ],
         "xaxis": "x",
         "y": [
          -3,
          -4,
          -3,
          -1
         ],
         "yaxis": "y"
        },
        {
         "hovertemplate": "Song=Memories<br>Curr_Week=%{x}<br>Rank_Default=%{y}<extra></extra>",
         "legendgroup": "Memories",
         "line": {
          "color": "#FF6692",
          "dash": "solid",
          "shape": "spline"
         },
         "mode": "lines",
         "name": "Memories",
         "showlegend": true,
         "type": "scatter",
         "x": [
          "2020-05-03",
          "2020-04-26",
          "2020-04-19",
          "2020-04-12"
         ],
         "xaxis": "x",
         "y": [
          -3,
          -3,
          0,
          -2
         ],
         "yaxis": "y"
        },
        {
         "hovertemplate": "Song=The Bones<br>Curr_Week=%{x}<br>Rank_Default=%{y}<extra></extra>",
         "legendgroup": "The Bones",
         "line": {
          "color": "#B6E880",
          "dash": "solid",
          "shape": "spline"
         },
         "mode": "lines",
         "name": "The Bones",
         "showlegend": true,
         "type": "scatter",
         "x": [
          "2020-05-03",
          "2020-04-26",
          "2020-04-19",
          "2020-04-12"
         ],
         "xaxis": "x",
         "y": [
          -2,
          0,
          -1,
          2
         ],
         "yaxis": "y"
        },
        {
         "hovertemplate": "Song=Dance Monkey<br>Curr_Week=%{x}<br>Rank_Default=%{y}<extra></extra>",
         "legendgroup": "Dance Monkey",
         "line": {
          "color": "#FF97FF",
          "dash": "solid",
          "shape": "spline"
         },
         "mode": "lines",
         "name": "Dance Monkey",
         "showlegend": true,
         "type": "scatter",
         "x": [
          "2020-05-03",
          "2020-04-26",
          "2020-04-19",
          "2020-04-12"
         ],
         "xaxis": "x",
         "y": [
          -3,
          -7,
          -3,
          -1
         ],
         "yaxis": "y"
        },
        {
         "hovertemplate": "Song=10,000 Hours<br>Curr_Week=%{x}<br>Rank_Default=%{y}<extra></extra>",
         "legendgroup": "10,000 Hours",
         "line": {
          "color": "#FECB52",
          "dash": "solid",
          "shape": "spline"
         },
         "mode": "lines",
         "name": "10,000 Hours",
         "showlegend": true,
         "type": "scatter",
         "x": [
          "2020-05-03",
          "2020-04-26",
          "2020-04-19",
          "2020-04-12"
         ],
         "xaxis": "x",
         "y": [
          -5,
          -7,
          0,
          -6
         ],
         "yaxis": "y"
        },
        {
         "hovertemplate": "Song=BOP<br>Curr_Week=%{x}<br>Rank_Default=%{y}<extra></extra>",
         "legendgroup": "BOP",
         "line": {
          "color": "#636efa",
          "dash": "solid",
          "shape": "spline"
         },
         "mode": "lines",
         "name": "BOP",
         "showlegend": true,
         "type": "scatter",
         "x": [
          "2020-04-26",
          "2020-04-19",
          "2020-04-12"
         ],
         "xaxis": "x",
         "y": [
          -4,
          -4,
          -6
         ],
         "yaxis": "y"
        },
        {
         "hovertemplate": "Song=Roxanne<br>Curr_Week=%{x}<br>Rank_Default=%{y}<extra></extra>",
         "legendgroup": "Roxanne",
         "line": {
          "color": "#EF553B",
          "dash": "solid",
          "shape": "spline"
         },
         "mode": "lines",
         "name": "Roxanne",
         "showlegend": true,
         "type": "scatter",
         "x": [
          "2020-05-03",
          "2020-04-26"
         ],
         "xaxis": "x",
         "y": [
          -7,
          -7
         ],
         "yaxis": "y"
        },
        {
         "hovertemplate": "Song=Don't Start Now<br>Curr_Week=%{x}<br>Rank_Default=%{y}<extra></extra>",
         "legendgroup": "Don't Start Now",
         "line": {
          "color": "#00cc96",
          "dash": "solid",
          "shape": "spline"
         },
         "mode": "lines",
         "name": "Don't Start Now",
         "showlegend": true,
         "type": "scatter",
         "x": [
          "2020-05-03",
          "2020-04-26"
         ],
         "xaxis": "x",
         "y": [
          -3,
          0
         ],
         "yaxis": "y"
        },
        {
         "hovertemplate": "Song=Everything I Wanted<br>Curr_Week=%{x}<br>Rank_Default=%{y}<extra></extra>",
         "legendgroup": "Everything I Wanted",
         "line": {
          "color": "#ab63fa",
          "dash": "solid",
          "shape": "spline"
         },
         "mode": "lines",
         "name": "Everything I Wanted",
         "showlegend": true,
         "type": "scatter",
         "x": [
          "2020-05-03"
         ],
         "xaxis": "x",
         "y": [
          -5
         ],
         "yaxis": "y"
        },
        {
         "hovertemplate": "Song=Heart On Ice<br>Curr_Week=%{x}<br>Rank_Default=%{y}<extra></extra>",
         "legendgroup": "Heart On Ice",
         "line": {
          "color": "#FFA15A",
          "dash": "solid",
          "shape": "spline"
         },
         "mode": "lines",
         "name": "Heart On Ice",
         "showlegend": true,
         "type": "scatter",
         "x": [
          "2020-05-03"
         ],
         "xaxis": "x",
         "y": [
          -2
         ],
         "yaxis": "y"
        }
       ],
       "layout": {
        "legend": {
         "title": {
          "text": "Song"
         },
         "tracegroupgap": 0
        },
        "margin": {
         "t": 60
        },
        "template": {
         "data": {
          "bar": [
           {
            "error_x": {
             "color": "#2a3f5f"
            },
            "error_y": {
             "color": "#2a3f5f"
            },
            "marker": {
             "line": {
              "color": "#E5ECF6",
              "width": 0.5
             }
            },
            "type": "bar"
           }
          ],
          "barpolar": [
           {
            "marker": {
             "line": {
              "color": "#E5ECF6",
              "width": 0.5
             }
            },
            "type": "barpolar"
           }
          ],
          "carpet": [
           {
            "aaxis": {
             "endlinecolor": "#2a3f5f",
             "gridcolor": "white",
             "linecolor": "white",
             "minorgridcolor": "white",
             "startlinecolor": "#2a3f5f"
            },
            "baxis": {
             "endlinecolor": "#2a3f5f",
             "gridcolor": "white",
             "linecolor": "white",
             "minorgridcolor": "white",
             "startlinecolor": "#2a3f5f"
            },
            "type": "carpet"
           }
          ],
          "choropleth": [
           {
            "colorbar": {
             "outlinewidth": 0,
             "ticks": ""
            },
            "type": "choropleth"
           }
          ],
          "contour": [
           {
            "colorbar": {
             "outlinewidth": 0,
             "ticks": ""
            },
            "colorscale": [
             [
              0,
              "#0d0887"
             ],
             [
              0.1111111111111111,
              "#46039f"
             ],
             [
              0.2222222222222222,
              "#7201a8"
             ],
             [
              0.3333333333333333,
              "#9c179e"
             ],
             [
              0.4444444444444444,
              "#bd3786"
             ],
             [
              0.5555555555555556,
              "#d8576b"
             ],
             [
              0.6666666666666666,
              "#ed7953"
             ],
             [
              0.7777777777777778,
              "#fb9f3a"
             ],
             [
              0.8888888888888888,
              "#fdca26"
             ],
             [
              1,
              "#f0f921"
             ]
            ],
            "type": "contour"
           }
          ],
          "contourcarpet": [
           {
            "colorbar": {
             "outlinewidth": 0,
             "ticks": ""
            },
            "type": "contourcarpet"
           }
          ],
          "heatmap": [
           {
            "colorbar": {
             "outlinewidth": 0,
             "ticks": ""
            },
            "colorscale": [
             [
              0,
              "#0d0887"
             ],
             [
              0.1111111111111111,
              "#46039f"
             ],
             [
              0.2222222222222222,
              "#7201a8"
             ],
             [
              0.3333333333333333,
              "#9c179e"
             ],
             [
              0.4444444444444444,
              "#bd3786"
             ],
             [
              0.5555555555555556,
              "#d8576b"
             ],
             [
              0.6666666666666666,
              "#ed7953"
             ],
             [
              0.7777777777777778,
              "#fb9f3a"
             ],
             [
              0.8888888888888888,
              "#fdca26"
             ],
             [
              1,
              "#f0f921"
             ]
            ],
            "type": "heatmap"
           }
          ],
          "heatmapgl": [
           {
            "colorbar": {
             "outlinewidth": 0,
             "ticks": ""
            },
            "colorscale": [
             [
              0,
              "#0d0887"
             ],
             [
              0.1111111111111111,
              "#46039f"
             ],
             [
              0.2222222222222222,
              "#7201a8"
             ],
             [
              0.3333333333333333,
              "#9c179e"
             ],
             [
              0.4444444444444444,
              "#bd3786"
             ],
             [
              0.5555555555555556,
              "#d8576b"
             ],
             [
              0.6666666666666666,
              "#ed7953"
             ],
             [
              0.7777777777777778,
              "#fb9f3a"
             ],
             [
              0.8888888888888888,
              "#fdca26"
             ],
             [
              1,
              "#f0f921"
             ]
            ],
            "type": "heatmapgl"
           }
          ],
          "histogram": [
           {
            "marker": {
             "colorbar": {
              "outlinewidth": 0,
              "ticks": ""
             }
            },
            "type": "histogram"
           }
          ],
          "histogram2d": [
           {
            "colorbar": {
             "outlinewidth": 0,
             "ticks": ""
            },
            "colorscale": [
             [
              0,
              "#0d0887"
             ],
             [
              0.1111111111111111,
              "#46039f"
             ],
             [
              0.2222222222222222,
              "#7201a8"
             ],
             [
              0.3333333333333333,
              "#9c179e"
             ],
             [
              0.4444444444444444,
              "#bd3786"
             ],
             [
              0.5555555555555556,
              "#d8576b"
             ],
             [
              0.6666666666666666,
              "#ed7953"
             ],
             [
              0.7777777777777778,
              "#fb9f3a"
             ],
             [
              0.8888888888888888,
              "#fdca26"
             ],
             [
              1,
              "#f0f921"
             ]
            ],
            "type": "histogram2d"
           }
          ],
          "histogram2dcontour": [
           {
            "colorbar": {
             "outlinewidth": 0,
             "ticks": ""
            },
            "colorscale": [
             [
              0,
              "#0d0887"
             ],
             [
              0.1111111111111111,
              "#46039f"
             ],
             [
              0.2222222222222222,
              "#7201a8"
             ],
             [
              0.3333333333333333,
              "#9c179e"
             ],
             [
              0.4444444444444444,
              "#bd3786"
             ],
             [
              0.5555555555555556,
              "#d8576b"
             ],
             [
              0.6666666666666666,
              "#ed7953"
             ],
             [
              0.7777777777777778,
              "#fb9f3a"
             ],
             [
              0.8888888888888888,
              "#fdca26"
             ],
             [
              1,
              "#f0f921"
             ]
            ],
            "type": "histogram2dcontour"
           }
          ],
          "mesh3d": [
           {
            "colorbar": {
             "outlinewidth": 0,
             "ticks": ""
            },
            "type": "mesh3d"
           }
          ],
          "parcoords": [
           {
            "line": {
             "colorbar": {
              "outlinewidth": 0,
              "ticks": ""
             }
            },
            "type": "parcoords"
           }
          ],
          "pie": [
           {
            "automargin": true,
            "type": "pie"
           }
          ],
          "scatter": [
           {
            "marker": {
             "colorbar": {
              "outlinewidth": 0,
              "ticks": ""
             }
            },
            "type": "scatter"
           }
          ],
          "scatter3d": [
           {
            "line": {
             "colorbar": {
              "outlinewidth": 0,
              "ticks": ""
             }
            },
            "marker": {
             "colorbar": {
              "outlinewidth": 0,
              "ticks": ""
             }
            },
            "type": "scatter3d"
           }
          ],
          "scattercarpet": [
           {
            "marker": {
             "colorbar": {
              "outlinewidth": 0,
              "ticks": ""
             }
            },
            "type": "scattercarpet"
           }
          ],
          "scattergeo": [
           {
            "marker": {
             "colorbar": {
              "outlinewidth": 0,
              "ticks": ""
             }
            },
            "type": "scattergeo"
           }
          ],
          "scattergl": [
           {
            "marker": {
             "colorbar": {
              "outlinewidth": 0,
              "ticks": ""
             }
            },
            "type": "scattergl"
           }
          ],
          "scattermapbox": [
           {
            "marker": {
             "colorbar": {
              "outlinewidth": 0,
              "ticks": ""
             }
            },
            "type": "scattermapbox"
           }
          ],
          "scatterpolar": [
           {
            "marker": {
             "colorbar": {
              "outlinewidth": 0,
              "ticks": ""
             }
            },
            "type": "scatterpolar"
           }
          ],
          "scatterpolargl": [
           {
            "marker": {
             "colorbar": {
              "outlinewidth": 0,
              "ticks": ""
             }
            },
            "type": "scatterpolargl"
           }
          ],
          "scatterternary": [
           {
            "marker": {
             "colorbar": {
              "outlinewidth": 0,
              "ticks": ""
             }
            },
            "type": "scatterternary"
           }
          ],
          "surface": [
           {
            "colorbar": {
             "outlinewidth": 0,
             "ticks": ""
            },
            "colorscale": [
             [
              0,
              "#0d0887"
             ],
             [
              0.1111111111111111,
              "#46039f"
             ],
             [
              0.2222222222222222,
              "#7201a8"
             ],
             [
              0.3333333333333333,
              "#9c179e"
             ],
             [
              0.4444444444444444,
              "#bd3786"
             ],
             [
              0.5555555555555556,
              "#d8576b"
             ],
             [
              0.6666666666666666,
              "#ed7953"
             ],
             [
              0.7777777777777778,
              "#fb9f3a"
             ],
             [
              0.8888888888888888,
              "#fdca26"
             ],
             [
              1,
              "#f0f921"
             ]
            ],
            "type": "surface"
           }
          ],
          "table": [
           {
            "cells": {
             "fill": {
              "color": "#EBF0F8"
             },
             "line": {
              "color": "white"
             }
            },
            "header": {
             "fill": {
              "color": "#C8D4E3"
             },
             "line": {
              "color": "white"
             }
            },
            "type": "table"
           }
          ]
         },
         "layout": {
          "annotationdefaults": {
           "arrowcolor": "#2a3f5f",
           "arrowhead": 0,
           "arrowwidth": 1
          },
          "coloraxis": {
           "colorbar": {
            "outlinewidth": 0,
            "ticks": ""
           }
          },
          "colorscale": {
           "diverging": [
            [
             0,
             "#8e0152"
            ],
            [
             0.1,
             "#c51b7d"
            ],
            [
             0.2,
             "#de77ae"
            ],
            [
             0.3,
             "#f1b6da"
            ],
            [
             0.4,
             "#fde0ef"
            ],
            [
             0.5,
             "#f7f7f7"
            ],
            [
             0.6,
             "#e6f5d0"
            ],
            [
             0.7,
             "#b8e186"
            ],
            [
             0.8,
             "#7fbc41"
            ],
            [
             0.9,
             "#4d9221"
            ],
            [
             1,
             "#276419"
            ]
           ],
           "sequential": [
            [
             0,
             "#0d0887"
            ],
            [
             0.1111111111111111,
             "#46039f"
            ],
            [
             0.2222222222222222,
             "#7201a8"
            ],
            [
             0.3333333333333333,
             "#9c179e"
            ],
            [
             0.4444444444444444,
             "#bd3786"
            ],
            [
             0.5555555555555556,
             "#d8576b"
            ],
            [
             0.6666666666666666,
             "#ed7953"
            ],
            [
             0.7777777777777778,
             "#fb9f3a"
            ],
            [
             0.8888888888888888,
             "#fdca26"
            ],
            [
             1,
             "#f0f921"
            ]
           ],
           "sequentialminus": [
            [
             0,
             "#0d0887"
            ],
            [
             0.1111111111111111,
             "#46039f"
            ],
            [
             0.2222222222222222,
             "#7201a8"
            ],
            [
             0.3333333333333333,
             "#9c179e"
            ],
            [
             0.4444444444444444,
             "#bd3786"
            ],
            [
             0.5555555555555556,
             "#d8576b"
            ],
            [
             0.6666666666666666,
             "#ed7953"
            ],
            [
             0.7777777777777778,
             "#fb9f3a"
            ],
            [
             0.8888888888888888,
             "#fdca26"
            ],
            [
             1,
             "#f0f921"
            ]
           ]
          },
          "colorway": [
           "#636efa",
           "#EF553B",
           "#00cc96",
           "#ab63fa",
           "#FFA15A",
           "#19d3f3",
           "#FF6692",
           "#B6E880",
           "#FF97FF",
           "#FECB52"
          ],
          "font": {
           "color": "#2a3f5f"
          },
          "geo": {
           "bgcolor": "white",
           "lakecolor": "white",
           "landcolor": "#E5ECF6",
           "showlakes": true,
           "showland": true,
           "subunitcolor": "white"
          },
          "hoverlabel": {
           "align": "left"
          },
          "hovermode": "closest",
          "mapbox": {
           "style": "light"
          },
          "paper_bgcolor": "white",
          "plot_bgcolor": "#E5ECF6",
          "polar": {
           "angularaxis": {
            "gridcolor": "white",
            "linecolor": "white",
            "ticks": ""
           },
           "bgcolor": "#E5ECF6",
           "radialaxis": {
            "gridcolor": "white",
            "linecolor": "white",
            "ticks": ""
           }
          },
          "scene": {
           "xaxis": {
            "backgroundcolor": "#E5ECF6",
            "gridcolor": "white",
            "gridwidth": 2,
            "linecolor": "white",
            "showbackground": true,
            "ticks": "",
            "zerolinecolor": "white"
           },
           "yaxis": {
            "backgroundcolor": "#E5ECF6",
            "gridcolor": "white",
            "gridwidth": 2,
            "linecolor": "white",
            "showbackground": true,
            "ticks": "",
            "zerolinecolor": "white"
           },
           "zaxis": {
            "backgroundcolor": "#E5ECF6",
            "gridcolor": "white",
            "gridwidth": 2,
            "linecolor": "white",
            "showbackground": true,
            "ticks": "",
            "zerolinecolor": "white"
           }
          },
          "shapedefaults": {
           "line": {
            "color": "#2a3f5f"
           }
          },
          "ternary": {
           "aaxis": {
            "gridcolor": "white",
            "linecolor": "white",
            "ticks": ""
           },
           "baxis": {
            "gridcolor": "white",
            "linecolor": "white",
            "ticks": ""
           },
           "bgcolor": "#E5ECF6",
           "caxis": {
            "gridcolor": "white",
            "linecolor": "white",
            "ticks": ""
           }
          },
          "title": {
           "x": 0.05
          },
          "xaxis": {
           "automargin": true,
           "gridcolor": "white",
           "linecolor": "white",
           "ticks": "",
           "title": {
            "standoff": 15
           },
           "zerolinecolor": "white",
           "zerolinewidth": 2
          },
          "yaxis": {
           "automargin": true,
           "gridcolor": "white",
           "linecolor": "white",
           "ticks": "",
           "title": {
            "standoff": 15
           },
           "zerolinecolor": "white",
           "zerolinewidth": 2
          }
         }
        },
        "title": {
         "text": "Billboard Rankings for Current Top 15 Songs"
        },
        "xaxis": {
         "anchor": "y",
         "domain": [
          0,
          1
         ],
         "title": {
          "text": "Week"
         }
        },
        "yaxis": {
         "anchor": "x",
         "domain": [
          0,
          1
         ],
         "title": {
          "text": "Ranking"
         }
        }
       }
      },
      "text/html": "<div>\n        \n        \n            <div id=\"e4d47b85-bc13-487d-98cf-1b9c31a7f810\" class=\"plotly-graph-div\" style=\"height:525px; width:100%;\"></div>\n            <script type=\"text/javascript\">\n                require([\"plotly\"], function(Plotly) {\n                    window.PLOTLYENV=window.PLOTLYENV || {};\n                    \n                if (document.getElementById(\"e4d47b85-bc13-487d-98cf-1b9c31a7f810\")) {\n                    Plotly.newPlot(\n                        'e4d47b85-bc13-487d-98cf-1b9c31a7f810',\n                        [{\"hovertemplate\": \"Song=Someone You Loved<br>Curr_Week=%{x}<br>Rank_Default=%{y}<extra></extra>\", \"legendgroup\": \"Someone You Loved\", \"line\": {\"color\": \"#636efa\", \"dash\": \"solid\", \"shape\": \"spline\"}, \"mode\": \"lines\", \"name\": \"Someone You Loved\", \"showlegend\": true, \"type\": \"scatter\", \"x\": [\"2020-05-03\", \"2020-04-26\", \"2020-04-19\", \"2020-04-12\"], \"xaxis\": \"x\", \"y\": [-2.0, -4.0, 0.0, -1.0], \"yaxis\": \"y\"}, {\"hovertemplate\": \"Song=No Guidance<br>Curr_Week=%{x}<br>Rank_Default=%{y}<extra></extra>\", \"legendgroup\": \"No Guidance\", \"line\": {\"color\": \"#EF553B\", \"dash\": \"solid\", \"shape\": \"spline\"}, \"mode\": \"lines\", \"name\": \"No Guidance\", \"showlegend\": true, \"type\": \"scatter\", \"x\": [\"2020-04-26\", \"2020-04-19\", \"2020-04-12\"], \"xaxis\": \"x\", \"y\": [-8.0, -2.0, -3.0], \"yaxis\": \"y\"}, {\"hovertemplate\": \"Song=Ballin'<br>Curr_Week=%{x}<br>Rank_Default=%{y}<extra></extra>\", \"legendgroup\": \"Ballin'\", \"line\": {\"color\": \"#00cc96\", \"dash\": \"solid\", \"shape\": \"spline\"}, \"mode\": \"lines\", \"name\": \"Ballin'\", \"showlegend\": true, \"type\": \"scatter\", \"x\": [\"2020-05-03\", \"2020-04-26\", \"2020-04-19\", \"2020-04-12\"], \"xaxis\": \"x\", \"y\": [0.0, -5.0, -1.0, -2.0], \"yaxis\": \"y\"}, {\"hovertemplate\": \"Song=Goosebumps<br>Curr_Week=%{x}<br>Rank_Default=%{y}<extra></extra>\", \"legendgroup\": \"Goosebumps\", \"line\": {\"color\": \"#ab63fa\", \"dash\": \"solid\", \"shape\": \"spline\"}, \"mode\": \"lines\", \"name\": \"Goosebumps\", \"showlegend\": true, \"type\": \"scatter\", \"x\": [\"2020-05-03\"], \"xaxis\": \"x\", \"y\": [0.0], \"yaxis\": \"y\"}, {\"hovertemplate\": \"Song=Circles<br>Curr_Week=%{x}<br>Rank_Default=%{y}<extra></extra>\", \"legendgroup\": \"Circles\", \"line\": {\"color\": \"#FFA15A\", \"dash\": \"solid\", \"shape\": \"spline\"}, \"mode\": \"lines\", \"name\": \"Circles\", \"showlegend\": true, \"type\": \"scatter\", \"x\": [\"2020-05-03\", \"2020-04-26\", \"2020-04-19\", \"2020-04-12\"], \"xaxis\": \"x\", \"y\": [-2.0, 1.0, -1.0, -2.0], \"yaxis\": \"y\"}, {\"hovertemplate\": \"Song=Hot Girl Bummer<br>Curr_Week=%{x}<br>Rank_Default=%{y}<extra></extra>\", \"legendgroup\": \"Hot Girl Bummer\", \"line\": {\"color\": \"#19d3f3\", \"dash\": \"solid\", \"shape\": \"spline\"}, \"mode\": \"lines\", \"name\": \"Hot Girl Bummer\", \"showlegend\": true, \"type\": \"scatter\", \"x\": [\"2020-05-03\", \"2020-04-26\", \"2020-04-19\", \"2020-04-12\"], \"xaxis\": \"x\", \"y\": [-3.0, -4.0, -3.0, -1.0], \"yaxis\": \"y\"}, {\"hovertemplate\": \"Song=Memories<br>Curr_Week=%{x}<br>Rank_Default=%{y}<extra></extra>\", \"legendgroup\": \"Memories\", \"line\": {\"color\": \"#FF6692\", \"dash\": \"solid\", \"shape\": \"spline\"}, \"mode\": \"lines\", \"name\": \"Memories\", \"showlegend\": true, \"type\": \"scatter\", \"x\": [\"2020-05-03\", \"2020-04-26\", \"2020-04-19\", \"2020-04-12\"], \"xaxis\": \"x\", \"y\": [-3.0, -3.0, 0.0, -2.0], \"yaxis\": \"y\"}, {\"hovertemplate\": \"Song=The Bones<br>Curr_Week=%{x}<br>Rank_Default=%{y}<extra></extra>\", \"legendgroup\": \"The Bones\", \"line\": {\"color\": \"#B6E880\", \"dash\": \"solid\", \"shape\": \"spline\"}, \"mode\": \"lines\", \"name\": \"The Bones\", \"showlegend\": true, \"type\": \"scatter\", \"x\": [\"2020-05-03\", \"2020-04-26\", \"2020-04-19\", \"2020-04-12\"], \"xaxis\": \"x\", \"y\": [-2.0, 0.0, -1.0, 2.0], \"yaxis\": \"y\"}, {\"hovertemplate\": \"Song=Dance Monkey<br>Curr_Week=%{x}<br>Rank_Default=%{y}<extra></extra>\", \"legendgroup\": \"Dance Monkey\", \"line\": {\"color\": \"#FF97FF\", \"dash\": \"solid\", \"shape\": \"spline\"}, \"mode\": \"lines\", \"name\": \"Dance Monkey\", \"showlegend\": true, \"type\": \"scatter\", \"x\": [\"2020-05-03\", \"2020-04-26\", \"2020-04-19\", \"2020-04-12\"], \"xaxis\": \"x\", \"y\": [-3.0, -7.0, -3.0, -1.0], \"yaxis\": \"y\"}, {\"hovertemplate\": \"Song=10,000 Hours<br>Curr_Week=%{x}<br>Rank_Default=%{y}<extra></extra>\", \"legendgroup\": \"10,000 Hours\", \"line\": {\"color\": \"#FECB52\", \"dash\": \"solid\", \"shape\": \"spline\"}, \"mode\": \"lines\", \"name\": \"10,000 Hours\", \"showlegend\": true, \"type\": \"scatter\", \"x\": [\"2020-05-03\", \"2020-04-26\", \"2020-04-19\", \"2020-04-12\"], \"xaxis\": \"x\", \"y\": [-5.0, -7.0, 0.0, -6.0], \"yaxis\": \"y\"}, {\"hovertemplate\": \"Song=BOP<br>Curr_Week=%{x}<br>Rank_Default=%{y}<extra></extra>\", \"legendgroup\": \"BOP\", \"line\": {\"color\": \"#636efa\", \"dash\": \"solid\", \"shape\": \"spline\"}, \"mode\": \"lines\", \"name\": \"BOP\", \"showlegend\": true, \"type\": \"scatter\", \"x\": [\"2020-04-26\", \"2020-04-19\", \"2020-04-12\"], \"xaxis\": \"x\", \"y\": [-4.0, -4.0, -6.0], \"yaxis\": \"y\"}, {\"hovertemplate\": \"Song=Roxanne<br>Curr_Week=%{x}<br>Rank_Default=%{y}<extra></extra>\", \"legendgroup\": \"Roxanne\", \"line\": {\"color\": \"#EF553B\", \"dash\": \"solid\", \"shape\": \"spline\"}, \"mode\": \"lines\", \"name\": \"Roxanne\", \"showlegend\": true, \"type\": \"scatter\", \"x\": [\"2020-05-03\", \"2020-04-26\"], \"xaxis\": \"x\", \"y\": [-7.0, -7.0], \"yaxis\": \"y\"}, {\"hovertemplate\": \"Song=Don't Start Now<br>Curr_Week=%{x}<br>Rank_Default=%{y}<extra></extra>\", \"legendgroup\": \"Don't Start Now\", \"line\": {\"color\": \"#00cc96\", \"dash\": \"solid\", \"shape\": \"spline\"}, \"mode\": \"lines\", \"name\": \"Don't Start Now\", \"showlegend\": true, \"type\": \"scatter\", \"x\": [\"2020-05-03\", \"2020-04-26\"], \"xaxis\": \"x\", \"y\": [-3.0, 0.0], \"yaxis\": \"y\"}, {\"hovertemplate\": \"Song=Everything I Wanted<br>Curr_Week=%{x}<br>Rank_Default=%{y}<extra></extra>\", \"legendgroup\": \"Everything I Wanted\", \"line\": {\"color\": \"#ab63fa\", \"dash\": \"solid\", \"shape\": \"spline\"}, \"mode\": \"lines\", \"name\": \"Everything I Wanted\", \"showlegend\": true, \"type\": \"scatter\", \"x\": [\"2020-05-03\"], \"xaxis\": \"x\", \"y\": [-5.0], \"yaxis\": \"y\"}, {\"hovertemplate\": \"Song=Heart On Ice<br>Curr_Week=%{x}<br>Rank_Default=%{y}<extra></extra>\", \"legendgroup\": \"Heart On Ice\", \"line\": {\"color\": \"#FFA15A\", \"dash\": \"solid\", \"shape\": \"spline\"}, \"mode\": \"lines\", \"name\": \"Heart On Ice\", \"showlegend\": true, \"type\": \"scatter\", \"x\": [\"2020-05-03\"], \"xaxis\": \"x\", \"y\": [-2.0], \"yaxis\": \"y\"}],\n                        {\"legend\": {\"title\": {\"text\": \"Song\"}, \"tracegroupgap\": 0}, \"margin\": {\"t\": 60}, \"template\": {\"data\": {\"bar\": [{\"error_x\": {\"color\": \"#2a3f5f\"}, \"error_y\": {\"color\": \"#2a3f5f\"}, \"marker\": {\"line\": {\"color\": \"#E5ECF6\", \"width\": 0.5}}, \"type\": \"bar\"}], \"barpolar\": [{\"marker\": {\"line\": {\"color\": \"#E5ECF6\", \"width\": 0.5}}, \"type\": \"barpolar\"}], \"carpet\": [{\"aaxis\": {\"endlinecolor\": \"#2a3f5f\", \"gridcolor\": \"white\", \"linecolor\": \"white\", \"minorgridcolor\": \"white\", \"startlinecolor\": \"#2a3f5f\"}, \"baxis\": {\"endlinecolor\": \"#2a3f5f\", \"gridcolor\": \"white\", \"linecolor\": \"white\", \"minorgridcolor\": \"white\", \"startlinecolor\": \"#2a3f5f\"}, \"type\": \"carpet\"}], \"choropleth\": [{\"colorbar\": {\"outlinewidth\": 0, \"ticks\": \"\"}, \"type\": \"choropleth\"}], \"contour\": [{\"colorbar\": {\"outlinewidth\": 0, \"ticks\": \"\"}, \"colorscale\": [[0.0, \"#0d0887\"], [0.1111111111111111, \"#46039f\"], [0.2222222222222222, \"#7201a8\"], [0.3333333333333333, \"#9c179e\"], [0.4444444444444444, \"#bd3786\"], [0.5555555555555556, \"#d8576b\"], [0.6666666666666666, \"#ed7953\"], [0.7777777777777778, \"#fb9f3a\"], [0.8888888888888888, \"#fdca26\"], [1.0, \"#f0f921\"]], \"type\": \"contour\"}], \"contourcarpet\": [{\"colorbar\": {\"outlinewidth\": 0, \"ticks\": \"\"}, \"type\": \"contourcarpet\"}], \"heatmap\": [{\"colorbar\": {\"outlinewidth\": 0, \"ticks\": \"\"}, \"colorscale\": [[0.0, \"#0d0887\"], [0.1111111111111111, \"#46039f\"], [0.2222222222222222, \"#7201a8\"], [0.3333333333333333, \"#9c179e\"], [0.4444444444444444, \"#bd3786\"], [0.5555555555555556, \"#d8576b\"], [0.6666666666666666, \"#ed7953\"], [0.7777777777777778, \"#fb9f3a\"], [0.8888888888888888, \"#fdca26\"], [1.0, \"#f0f921\"]], \"type\": \"heatmap\"}], \"heatmapgl\": [{\"colorbar\": {\"outlinewidth\": 0, \"ticks\": \"\"}, \"colorscale\": [[0.0, \"#0d0887\"], [0.1111111111111111, \"#46039f\"], [0.2222222222222222, \"#7201a8\"], [0.3333333333333333, \"#9c179e\"], [0.4444444444444444, \"#bd3786\"], [0.5555555555555556, \"#d8576b\"], [0.6666666666666666, \"#ed7953\"], [0.7777777777777778, \"#fb9f3a\"], [0.8888888888888888, \"#fdca26\"], [1.0, \"#f0f921\"]], \"type\": \"heatmapgl\"}], \"histogram\": [{\"marker\": {\"colorbar\": {\"outlinewidth\": 0, \"ticks\": \"\"}}, \"type\": \"histogram\"}], \"histogram2d\": [{\"colorbar\": {\"outlinewidth\": 0, \"ticks\": \"\"}, \"colorscale\": [[0.0, \"#0d0887\"], [0.1111111111111111, \"#46039f\"], [0.2222222222222222, \"#7201a8\"], [0.3333333333333333, \"#9c179e\"], [0.4444444444444444, \"#bd3786\"], [0.5555555555555556, \"#d8576b\"], [0.6666666666666666, \"#ed7953\"], [0.7777777777777778, \"#fb9f3a\"], [0.8888888888888888, \"#fdca26\"], [1.0, \"#f0f921\"]], \"type\": \"histogram2d\"}], \"histogram2dcontour\": [{\"colorbar\": {\"outlinewidth\": 0, \"ticks\": \"\"}, \"colorscale\": [[0.0, \"#0d0887\"], [0.1111111111111111, \"#46039f\"], [0.2222222222222222, \"#7201a8\"], [0.3333333333333333, \"#9c179e\"], [0.4444444444444444, \"#bd3786\"], [0.5555555555555556, \"#d8576b\"], [0.6666666666666666, \"#ed7953\"], [0.7777777777777778, \"#fb9f3a\"], [0.8888888888888888, \"#fdca26\"], [1.0, \"#f0f921\"]], \"type\": \"histogram2dcontour\"}], \"mesh3d\": [{\"colorbar\": {\"outlinewidth\": 0, \"ticks\": \"\"}, \"type\": \"mesh3d\"}], \"parcoords\": [{\"line\": {\"colorbar\": {\"outlinewidth\": 0, \"ticks\": \"\"}}, \"type\": \"parcoords\"}], \"pie\": [{\"automargin\": true, \"type\": \"pie\"}], \"scatter\": [{\"marker\": {\"colorbar\": {\"outlinewidth\": 0, \"ticks\": \"\"}}, \"type\": \"scatter\"}], \"scatter3d\": [{\"line\": {\"colorbar\": {\"outlinewidth\": 0, \"ticks\": \"\"}}, \"marker\": {\"colorbar\": {\"outlinewidth\": 0, \"ticks\": \"\"}}, \"type\": \"scatter3d\"}], \"scattercarpet\": [{\"marker\": {\"colorbar\": {\"outlinewidth\": 0, \"ticks\": \"\"}}, \"type\": \"scattercarpet\"}], \"scattergeo\": [{\"marker\": {\"colorbar\": {\"outlinewidth\": 0, \"ticks\": \"\"}}, \"type\": \"scattergeo\"}], \"scattergl\": [{\"marker\": {\"colorbar\": {\"outlinewidth\": 0, \"ticks\": \"\"}}, \"type\": \"scattergl\"}], \"scattermapbox\": [{\"marker\": {\"colorbar\": {\"outlinewidth\": 0, \"ticks\": \"\"}}, \"type\": \"scattermapbox\"}], \"scatterpolar\": [{\"marker\": {\"colorbar\": {\"outlinewidth\": 0, \"ticks\": \"\"}}, \"type\": \"scatterpolar\"}], \"scatterpolargl\": [{\"marker\": {\"colorbar\": {\"outlinewidth\": 0, \"ticks\": \"\"}}, \"type\": \"scatterpolargl\"}], \"scatterternary\": [{\"marker\": {\"colorbar\": {\"outlinewidth\": 0, \"ticks\": \"\"}}, \"type\": \"scatterternary\"}], \"surface\": [{\"colorbar\": {\"outlinewidth\": 0, \"ticks\": \"\"}, \"colorscale\": [[0.0, \"#0d0887\"], [0.1111111111111111, \"#46039f\"], [0.2222222222222222, \"#7201a8\"], [0.3333333333333333, \"#9c179e\"], [0.4444444444444444, \"#bd3786\"], [0.5555555555555556, \"#d8576b\"], [0.6666666666666666, \"#ed7953\"], [0.7777777777777778, \"#fb9f3a\"], [0.8888888888888888, \"#fdca26\"], [1.0, \"#f0f921\"]], \"type\": \"surface\"}], \"table\": [{\"cells\": {\"fill\": {\"color\": \"#EBF0F8\"}, \"line\": {\"color\": \"white\"}}, \"header\": {\"fill\": {\"color\": \"#C8D4E3\"}, \"line\": {\"color\": \"white\"}}, \"type\": \"table\"}]}, \"layout\": {\"annotationdefaults\": {\"arrowcolor\": \"#2a3f5f\", \"arrowhead\": 0, \"arrowwidth\": 1}, \"coloraxis\": {\"colorbar\": {\"outlinewidth\": 0, \"ticks\": \"\"}}, \"colorscale\": {\"diverging\": [[0, \"#8e0152\"], [0.1, \"#c51b7d\"], [0.2, \"#de77ae\"], [0.3, \"#f1b6da\"], [0.4, \"#fde0ef\"], [0.5, \"#f7f7f7\"], [0.6, \"#e6f5d0\"], [0.7, \"#b8e186\"], [0.8, \"#7fbc41\"], [0.9, \"#4d9221\"], [1, \"#276419\"]], \"sequential\": [[0.0, \"#0d0887\"], [0.1111111111111111, \"#46039f\"], [0.2222222222222222, \"#7201a8\"], [0.3333333333333333, \"#9c179e\"], [0.4444444444444444, \"#bd3786\"], [0.5555555555555556, \"#d8576b\"], [0.6666666666666666, \"#ed7953\"], [0.7777777777777778, \"#fb9f3a\"], [0.8888888888888888, \"#fdca26\"], [1.0, \"#f0f921\"]], \"sequentialminus\": [[0.0, \"#0d0887\"], [0.1111111111111111, \"#46039f\"], [0.2222222222222222, \"#7201a8\"], [0.3333333333333333, \"#9c179e\"], [0.4444444444444444, \"#bd3786\"], [0.5555555555555556, \"#d8576b\"], [0.6666666666666666, \"#ed7953\"], [0.7777777777777778, \"#fb9f3a\"], [0.8888888888888888, \"#fdca26\"], [1.0, \"#f0f921\"]]}, \"colorway\": [\"#636efa\", \"#EF553B\", \"#00cc96\", \"#ab63fa\", \"#FFA15A\", \"#19d3f3\", \"#FF6692\", \"#B6E880\", \"#FF97FF\", \"#FECB52\"], \"font\": {\"color\": \"#2a3f5f\"}, \"geo\": {\"bgcolor\": \"white\", \"lakecolor\": \"white\", \"landcolor\": \"#E5ECF6\", \"showlakes\": true, \"showland\": true, \"subunitcolor\": \"white\"}, \"hoverlabel\": {\"align\": \"left\"}, \"hovermode\": \"closest\", \"mapbox\": {\"style\": \"light\"}, \"paper_bgcolor\": \"white\", \"plot_bgcolor\": \"#E5ECF6\", \"polar\": {\"angularaxis\": {\"gridcolor\": \"white\", \"linecolor\": \"white\", \"ticks\": \"\"}, \"bgcolor\": \"#E5ECF6\", \"radialaxis\": {\"gridcolor\": \"white\", \"linecolor\": \"white\", \"ticks\": \"\"}}, \"scene\": {\"xaxis\": {\"backgroundcolor\": \"#E5ECF6\", \"gridcolor\": \"white\", \"gridwidth\": 2, \"linecolor\": \"white\", \"showbackground\": true, \"ticks\": \"\", \"zerolinecolor\": \"white\"}, \"yaxis\": {\"backgroundcolor\": \"#E5ECF6\", \"gridcolor\": \"white\", \"gridwidth\": 2, \"linecolor\": \"white\", \"showbackground\": true, \"ticks\": \"\", \"zerolinecolor\": \"white\"}, \"zaxis\": {\"backgroundcolor\": \"#E5ECF6\", \"gridcolor\": \"white\", \"gridwidth\": 2, \"linecolor\": \"white\", \"showbackground\": true, \"ticks\": \"\", \"zerolinecolor\": \"white\"}}, \"shapedefaults\": {\"line\": {\"color\": \"#2a3f5f\"}}, \"ternary\": {\"aaxis\": {\"gridcolor\": \"white\", \"linecolor\": \"white\", \"ticks\": \"\"}, \"baxis\": {\"gridcolor\": \"white\", \"linecolor\": \"white\", \"ticks\": \"\"}, \"bgcolor\": \"#E5ECF6\", \"caxis\": {\"gridcolor\": \"white\", \"linecolor\": \"white\", \"ticks\": \"\"}}, \"title\": {\"x\": 0.05}, \"xaxis\": {\"automargin\": true, \"gridcolor\": \"white\", \"linecolor\": \"white\", \"ticks\": \"\", \"title\": {\"standoff\": 15}, \"zerolinecolor\": \"white\", \"zerolinewidth\": 2}, \"yaxis\": {\"automargin\": true, \"gridcolor\": \"white\", \"linecolor\": \"white\", \"ticks\": \"\", \"title\": {\"standoff\": 15}, \"zerolinecolor\": \"white\", \"zerolinewidth\": 2}}}, \"title\": {\"text\": \"Billboard Rankings for Current Top 15 Songs\"}, \"xaxis\": {\"anchor\": \"y\", \"domain\": [0.0, 1.0], \"title\": {\"text\": \"Week\"}}, \"yaxis\": {\"anchor\": \"x\", \"domain\": [0.0, 1.0], \"title\": {\"text\": \"Ranking\"}}},\n                        {\"responsive\": true}\n                    ).then(function(){\n                            \nvar gd = document.getElementById('e4d47b85-bc13-487d-98cf-1b9c31a7f810');\nvar x = new MutationObserver(function (mutations, observer) {{\n        var display = window.getComputedStyle(gd).display;\n        if (!display || display === 'none') {{\n            console.log([gd, 'removed!']);\n            Plotly.purge(gd);\n            observer.disconnect();\n        }}\n}});\n\n// Listen for the removal of the full notebook cells\nvar notebookContainer = gd.closest('#notebook-container');\nif (notebookContainer) {{\n    x.observe(notebookContainer, {childList: true});\n}}\n\n// Listen for the clearing of the current output cell\nvar outputEl = gd.closest('.output');\nif (outputEl) {{\n    x.observe(outputEl, {childList: true});\n}}\n\n                        })\n                };\n                });\n            </script>\n        </div>"
     },
     "metadata": {}
    }
   ],
   "source": [
    "fig = px.line(to_graph, x='Curr_Week', y='Rank_Default', color='Song', line_shape='spline')\n",
    "fig.update_layout(\n",
    "    title_text=f\"Billboard Rankings for Current Top {N} Songs\",\n",
    "    yaxis=dict(title='Ranking'),\n",
    "    xaxis=dict(title='Week')\n",
    "    )\n",
    "fig.show()"
   ]
  },
  {
   "cell_type": "code",
   "execution_count": null,
   "metadata": {},
   "outputs": [],
   "source": []
  }
 ],
 "metadata": {
  "kernelspec": {
   "display_name": "Python 3.7.6 64-bit ('project': conda)",
   "language": "python",
   "name": "python37664bitprojectcondaa873f3d9bba64b29b68d9aa1b82199f8"
  },
  "language_info": {
   "codemirror_mode": {
    "name": "ipython",
    "version": 3
   },
   "file_extension": ".py",
   "mimetype": "text/x-python",
   "name": "python",
   "nbconvert_exporter": "python",
   "pygments_lexer": "ipython3",
   "version": "3.7.6-final"
  }
 },
 "nbformat": 4,
 "nbformat_minor": 4
}