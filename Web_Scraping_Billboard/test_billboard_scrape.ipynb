{
 "nbformat": 4,
 "nbformat_minor": 2,
 "metadata": {
  "language_info": {
   "name": "python",
   "codemirror_mode": {
    "name": "ipython",
    "version": 3
   },
   "version": "3.7.6-final"
  },
  "orig_nbformat": 2,
  "file_extension": ".py",
  "mimetype": "text/x-python",
  "name": "python",
  "npconvert_exporter": "python",
  "pygments_lexer": "ipython3",
  "version": 3,
  "kernelspec": {
   "name": "python3",
   "display_name": "Python 3"
  }
 },
 "cells": [
  {
   "cell_type": "markdown",
   "metadata": {},
   "source": [
    "## Web Scraping the Billboard Top 100 Songs chart \n",
    "## With BeautifulSoup and Requests"
   ]
  },
  {
   "cell_type": "code",
   "execution_count": 16,
   "metadata": {},
   "outputs": [],
   "source": [
    "import requests\n",
    "from bs4 import BeautifulSoup\n",
    "import re\n",
    "import pickle\n",
    "import numpy as np\n",
    "import pandas as pd\n",
    "import datetime"
   ]
  },
  {
   "cell_type": "code",
   "execution_count": 17,
   "metadata": {},
   "outputs": [],
   "source": [
    "# takes you to the most recent week\n",
    "base_url = 'https://www.billboard.com/charts/hot-100/'"
   ]
  },
  {
   "cell_type": "code",
   "execution_count": 18,
   "metadata": {},
   "outputs": [
    {
     "output_type": "stream",
     "name": "stdout",
     "text": "['2020-04-21', '2020-04-14', '2020-04-07', '2020-03-31', '2020-03-24', '2020-03-17', '2020-03-10', '2020-03-03', '2020-02-25', '2020-02-18', '2020-02-11', '2020-02-04']\n"
    }
   ],
   "source": [
    "# get dates for the past 12 weeks\n",
    "today = datetime.datetime.today()\n",
    "numweeks = 12\n",
    "date_list = [today - datetime.timedelta(weeks=x) for x in range(numweeks)]\n",
    "dates = [d.strftime('%Y-%m-%d') for d in date_list]\n",
    "print(dates)\n",
    ""
   ]
  },
  {
   "cell_type": "code",
   "execution_count": 19,
   "metadata": {},
   "outputs": [],
   "source": [
    "page = requests.get(base_url)\n",
    "soup = BeautifulSoup(page.content, 'html.parser')"
   ]
  },
  {
   "cell_type": "code",
   "execution_count": 20,
   "metadata": {},
   "outputs": [],
   "source": [
    "songs = soup.find_all('span', attrs={'class':'chart-element__information__song'})\n",
    "artists = soup.find_all('span', attrs={'class':'chart-element__information__artist'})"
   ]
  },
  {
   "cell_type": "code",
   "execution_count": 21,
   "metadata": {},
   "outputs": [],
   "source": [
    "# Default ranking\n",
    "delta_default = soup.find_all('span', attrs={'class':'chart-element__information__delta__text text--default'})\n",
    "# Last week ranking\n",
    "delta_last = soup.find_all('span', attrs={'class':'chart-element__information__delta__text text--last'})\n",
    "# Peak ranking\n",
    "delta_peak = soup.find_all('span', attrs={'class':'chart-element__information__delta__text text--peak'})\n",
    "# Num weeks on chart\n",
    "delta_week = soup.find_all('span', attrs={'class':'chart-element__information__delta__text text--week'})"
   ]
  },
  {
   "cell_type": "code",
   "execution_count": 22,
   "metadata": {},
   "outputs": [
    {
     "output_type": "stream",
     "name": "stdout",
     "text": "100\n100\n100\n100\n100\n100\n"
    }
   ],
   "source": [
    "# make sure all same length\n",
    "vars = [songs, artists, delta_default, delta_last, delta_peak, delta_week]\n",
    "for v in vars:\n",
    "    print(len(v))"
   ]
  },
  {
   "cell_type": "code",
   "execution_count": 23,
   "metadata": {},
   "outputs": [],
   "source": [
    "songs_list = [s.text for s in songs]\n",
    "artists_list = [a.text for a in artists]\n",
    "delta_default_list = [d.text for d in delta_default]\n",
    "delta_last_list = [d.text for d in delta_last]\n",
    "delta_peak_list = [d.text for d in delta_peak]\n",
    "delta_week_list = [d.text for d in delta_week]\n",
    ""
   ]
  },
  {
   "cell_type": "code",
   "execution_count": null,
   "metadata": {},
   "outputs": [],
   "source": []
  },
  {
   "cell_type": "code",
   "execution_count": 24,
   "metadata": {},
   "outputs": [],
   "source": [
    "song_tuples = list(zip(songs_list, artists_list, delta_default_list, delta_last_list, delta_peak_list, delta_week_list))"
   ]
  },
  {
   "cell_type": "code",
   "execution_count": 25,
   "metadata": {},
   "outputs": [],
   "source": [
    "columns = [\"Song\", \"Artist\", \"Rank_Default\", \"Rank_LastWeek\", \"Rank_Peak\", \"Num_Weeks_on_Chart\"]"
   ]
  },
  {
   "cell_type": "code",
   "execution_count": 85,
   "metadata": {},
   "outputs": [
    {
     "output_type": "stream",
     "name": "stdout",
     "text": "(100, 6)\n              Song       Artist Rank_Default Rank_LastWeek    Rank_Peak  \\\n0  Blinding Lights   The Weeknd           +1   2 Last Week  1 Peak Rank   \n1     Toosie Slide        Drake           -1   1 Last Week  1 Peak Rank   \n2          The Box  Roddy Ricch            -   3 Last Week  1 Peak Rank   \n3  Don't Start Now     Dua Lipa            -   4 Last Week  2 Peak Rank   \n4           Say So     Doja Cat           +3   8 Last Week  5 Peak Rank   \n\n  Num_Weeks_on_Chart  \n0  20 Weeks on Chart  \n1   2 Weeks on Chart  \n2  19 Weeks on Chart  \n3  24 Weeks on Chart  \n4  15 Weeks on Chart  \n"
    }
   ],
   "source": [
    "songs_df = pd.DataFrame(song_tuples, columns=columns)\n",
    "print(songs_df.shape)\n",
    "print(songs_df.head())"
   ]
  },
  {
   "cell_type": "code",
   "execution_count": 86,
   "metadata": {},
   "outputs": [],
   "source": [
    "# extract only numbers from all 'rankings' columns - convert all to integers\n",
    "songs_df['Rank_LastWeek'] = songs_df['Rank_LastWeek'].str.extract('(\\d+)')\n",
    "songs_df['Rank_LastWeek'] = pd.to_numeric(songs_df['Rank_LastWeek'])\n",
    "\n",
    "songs_df['Rank_Peak'] = songs_df['Rank_Peak'].str.extract('(\\d+)')\n",
    "songs_df['Rank_Peak'] = pd.to_numeric(songs_df['Rank_Peak'])\n",
    "\n",
    "songs_df['Num_Weeks_on_Chart'] = songs_df['Num_Weeks_on_Chart'].str.extract('(\\d+)')\n",
    "songs_df['Num_Weeks_on_Chart'] = pd.to_numeric(songs_df['Num_Weeks_on_Chart'])\n",
    ""
   ]
  },
  {
   "cell_type": "code",
   "execution_count": 87,
   "metadata": {},
   "outputs": [
    {
     "output_type": "execute_result",
     "data": {
      "text/plain": "              Song       Artist Rank_Default  Rank_LastWeek  Rank_Peak  \\\n0  Blinding Lights   The Weeknd           +1            2.0          1   \n1     Toosie Slide        Drake           -1            1.0          1   \n2          The Box  Roddy Ricch            -            3.0          1   \n3  Don't Start Now     Dua Lipa            -            4.0          2   \n4           Say So     Doja Cat           +3            8.0          5   \n\n   Num_Weeks_on_Chart  \n0                  20  \n1                   2  \n2                  19  \n3                  24  \n4                  15  ",
      "text/html": "<div>\n<style scoped>\n    .dataframe tbody tr th:only-of-type {\n        vertical-align: middle;\n    }\n\n    .dataframe tbody tr th {\n        vertical-align: top;\n    }\n\n    .dataframe thead th {\n        text-align: right;\n    }\n</style>\n<table border=\"1\" class=\"dataframe\">\n  <thead>\n    <tr style=\"text-align: right;\">\n      <th></th>\n      <th>Song</th>\n      <th>Artist</th>\n      <th>Rank_Default</th>\n      <th>Rank_LastWeek</th>\n      <th>Rank_Peak</th>\n      <th>Num_Weeks_on_Chart</th>\n    </tr>\n  </thead>\n  <tbody>\n    <tr>\n      <th>0</th>\n      <td>Blinding Lights</td>\n      <td>The Weeknd</td>\n      <td>+1</td>\n      <td>2.0</td>\n      <td>1</td>\n      <td>20</td>\n    </tr>\n    <tr>\n      <th>1</th>\n      <td>Toosie Slide</td>\n      <td>Drake</td>\n      <td>-1</td>\n      <td>1.0</td>\n      <td>1</td>\n      <td>2</td>\n    </tr>\n    <tr>\n      <th>2</th>\n      <td>The Box</td>\n      <td>Roddy Ricch</td>\n      <td>-</td>\n      <td>3.0</td>\n      <td>1</td>\n      <td>19</td>\n    </tr>\n    <tr>\n      <th>3</th>\n      <td>Don't Start Now</td>\n      <td>Dua Lipa</td>\n      <td>-</td>\n      <td>4.0</td>\n      <td>2</td>\n      <td>24</td>\n    </tr>\n    <tr>\n      <th>4</th>\n      <td>Say So</td>\n      <td>Doja Cat</td>\n      <td>+3</td>\n      <td>8.0</td>\n      <td>5</td>\n      <td>15</td>\n    </tr>\n  </tbody>\n</table>\n</div>"
     },
     "metadata": {},
     "execution_count": 87
    }
   ],
   "source": [
    "songs_df.head()"
   ]
  },
  {
   "cell_type": "code",
   "execution_count": 88,
   "metadata": {},
   "outputs": [],
   "source": [
    "# Rank_Default: convert to integers convert +n to just n and -n to neg numebrs\n",
    "songs_df['Rank_Default'] = songs_df['Rank_Default'].map(lambda x: x.lstrip('+'))\n",
    "songs_df['Rank_Default'] = songs_df['Rank_Default'].str.replace('^-$', '', regex=True)\n",
    "songs_df['Rank_Default'] = songs_df['Rank_Default'].str.strip()\n",
    "songs_df['Rank_Default'] = pd.to_numeric(songs_df['Rank_Default'])"
   ]
  },
  {
   "cell_type": "code",
   "execution_count": 65,
   "metadata": {},
   "outputs": [],
   "source": []
  },
  {
   "cell_type": "code",
   "execution_count": 89,
   "metadata": {},
   "outputs": [
    {
     "output_type": "stream",
     "name": "stdout",
     "text": "<class 'pandas.core.frame.DataFrame'>\nRangeIndex: 100 entries, 0 to 99\nData columns (total 6 columns):\n #   Column              Non-Null Count  Dtype  \n---  ------              --------------  -----  \n 0   Song                100 non-null    object \n 1   Artist              100 non-null    object \n 2   Rank_Default        70 non-null     float64\n 3   Rank_LastWeek       86 non-null     float64\n 4   Rank_Peak           100 non-null    int64  \n 5   Num_Weeks_on_Chart  100 non-null    int64  \ndtypes: float64(2), int64(2), object(2)\nmemory usage: 4.8+ KB\n"
    }
   ],
   "source": [
    "songs_df.info()"
   ]
  },
  {
   "cell_type": "code",
   "execution_count": 90,
   "metadata": {},
   "outputs": [
    {
     "output_type": "execute_result",
     "data": {
      "text/plain": "              Song       Artist  Rank_Default  Rank_LastWeek  Rank_Peak  \\\n0  Blinding Lights   The Weeknd           1.0            2.0          1   \n1     Toosie Slide        Drake          -1.0            1.0          1   \n2          The Box  Roddy Ricch           NaN            3.0          1   \n3  Don't Start Now     Dua Lipa           NaN            4.0          2   \n4           Say So     Doja Cat           3.0            8.0          5   \n\n   Num_Weeks_on_Chart  \n0                  20  \n1                   2  \n2                  19  \n3                  24  \n4                  15  ",
      "text/html": "<div>\n<style scoped>\n    .dataframe tbody tr th:only-of-type {\n        vertical-align: middle;\n    }\n\n    .dataframe tbody tr th {\n        vertical-align: top;\n    }\n\n    .dataframe thead th {\n        text-align: right;\n    }\n</style>\n<table border=\"1\" class=\"dataframe\">\n  <thead>\n    <tr style=\"text-align: right;\">\n      <th></th>\n      <th>Song</th>\n      <th>Artist</th>\n      <th>Rank_Default</th>\n      <th>Rank_LastWeek</th>\n      <th>Rank_Peak</th>\n      <th>Num_Weeks_on_Chart</th>\n    </tr>\n  </thead>\n  <tbody>\n    <tr>\n      <th>0</th>\n      <td>Blinding Lights</td>\n      <td>The Weeknd</td>\n      <td>1.0</td>\n      <td>2.0</td>\n      <td>1</td>\n      <td>20</td>\n    </tr>\n    <tr>\n      <th>1</th>\n      <td>Toosie Slide</td>\n      <td>Drake</td>\n      <td>-1.0</td>\n      <td>1.0</td>\n      <td>1</td>\n      <td>2</td>\n    </tr>\n    <tr>\n      <th>2</th>\n      <td>The Box</td>\n      <td>Roddy Ricch</td>\n      <td>NaN</td>\n      <td>3.0</td>\n      <td>1</td>\n      <td>19</td>\n    </tr>\n    <tr>\n      <th>3</th>\n      <td>Don't Start Now</td>\n      <td>Dua Lipa</td>\n      <td>NaN</td>\n      <td>4.0</td>\n      <td>2</td>\n      <td>24</td>\n    </tr>\n    <tr>\n      <th>4</th>\n      <td>Say So</td>\n      <td>Doja Cat</td>\n      <td>3.0</td>\n      <td>8.0</td>\n      <td>5</td>\n      <td>15</td>\n    </tr>\n  </tbody>\n</table>\n</div>"
     },
     "metadata": {},
     "execution_count": 90
    }
   ],
   "source": [
    "songs_df.head()"
   ]
  },
  {
   "cell_type": "code",
   "execution_count": 93,
   "metadata": {},
   "outputs": [
    {
     "output_type": "execute_result",
     "data": {
      "text/plain": "Song                   0\nArtist                 0\nRank_Default          30\nRank_LastWeek         14\nRank_Peak              0\nNum_Weeks_on_Chart     0\ndtype: int64"
     },
     "metadata": {},
     "execution_count": 93
    }
   ],
   "source": [
    "# count how many missing values in each col\n",
    "songs_df.isnull().sum()"
   ]
  },
  {
   "cell_type": "code",
   "execution_count": 94,
   "metadata": {},
   "outputs": [],
   "source": [
    "# replace missing values with zeroes\n",
    "songs_df.fillna(0, inplace=True)"
   ]
  },
  {
   "cell_type": "code",
   "execution_count": 98,
   "metadata": {},
   "outputs": [
    {
     "output_type": "stream",
     "name": "stdout",
     "text": "<class 'pandas.core.frame.DataFrame'>\nRangeIndex: 100 entries, 0 to 99\nData columns (total 6 columns):\n #   Column              Non-Null Count  Dtype  \n---  ------              --------------  -----  \n 0   Song                100 non-null    object \n 1   Artist              100 non-null    object \n 2   Rank_Default        100 non-null    float64\n 3   Rank_LastWeek       100 non-null    float64\n 4   Rank_Peak           100 non-null    int64  \n 5   Num_Weeks_on_Chart  100 non-null    int64  \ndtypes: float64(2), int64(2), object(2)\nmemory usage: 4.8+ KB\n"
    },
    {
     "output_type": "execute_result",
     "data": {
      "text/plain": "       Rank_Default  Rank_LastWeek   Rank_Peak  Num_Weeks_on_Chart\ncount    100.000000     100.000000  100.000000          100.000000\nmean      -0.220000      39.150000   34.360000           11.980000\nstd        6.029523      30.184743   26.836023           10.236575\nmin      -29.000000       0.000000    1.000000            1.000000\n25%       -2.000000      11.750000   12.000000            4.000000\n50%        0.000000      36.500000   27.500000           10.000000\n75%        2.000000      62.250000   53.250000           17.500000\nmax       14.000000     100.000000  100.000000           49.000000",
      "text/html": "<div>\n<style scoped>\n    .dataframe tbody tr th:only-of-type {\n        vertical-align: middle;\n    }\n\n    .dataframe tbody tr th {\n        vertical-align: top;\n    }\n\n    .dataframe thead th {\n        text-align: right;\n    }\n</style>\n<table border=\"1\" class=\"dataframe\">\n  <thead>\n    <tr style=\"text-align: right;\">\n      <th></th>\n      <th>Rank_Default</th>\n      <th>Rank_LastWeek</th>\n      <th>Rank_Peak</th>\n      <th>Num_Weeks_on_Chart</th>\n    </tr>\n  </thead>\n  <tbody>\n    <tr>\n      <th>count</th>\n      <td>100.000000</td>\n      <td>100.000000</td>\n      <td>100.000000</td>\n      <td>100.000000</td>\n    </tr>\n    <tr>\n      <th>mean</th>\n      <td>-0.220000</td>\n      <td>39.150000</td>\n      <td>34.360000</td>\n      <td>11.980000</td>\n    </tr>\n    <tr>\n      <th>std</th>\n      <td>6.029523</td>\n      <td>30.184743</td>\n      <td>26.836023</td>\n      <td>10.236575</td>\n    </tr>\n    <tr>\n      <th>min</th>\n      <td>-29.000000</td>\n      <td>0.000000</td>\n      <td>1.000000</td>\n      <td>1.000000</td>\n    </tr>\n    <tr>\n      <th>25%</th>\n      <td>-2.000000</td>\n      <td>11.750000</td>\n      <td>12.000000</td>\n      <td>4.000000</td>\n    </tr>\n    <tr>\n      <th>50%</th>\n      <td>0.000000</td>\n      <td>36.500000</td>\n      <td>27.500000</td>\n      <td>10.000000</td>\n    </tr>\n    <tr>\n      <th>75%</th>\n      <td>2.000000</td>\n      <td>62.250000</td>\n      <td>53.250000</td>\n      <td>17.500000</td>\n    </tr>\n    <tr>\n      <th>max</th>\n      <td>14.000000</td>\n      <td>100.000000</td>\n      <td>100.000000</td>\n      <td>49.000000</td>\n    </tr>\n  </tbody>\n</table>\n</div>"
     },
     "metadata": {},
     "execution_count": 98
    }
   ],
   "source": [
    "# final df\n",
    "songs_df.info()\n",
    "songs_df.describe()\n",
    ""
   ]
  },
  {
   "cell_type": "code",
   "execution_count": 99,
   "metadata": {},
   "outputs": [],
   "source": [
    "songs_df.to_csv('billboard_top100.csv', index=None)"
   ]
  },
  {
   "cell_type": "code",
   "execution_count": null,
   "metadata": {},
   "outputs": [],
   "source": []
  },
  {
   "cell_type": "code",
   "execution_count": null,
   "metadata": {},
   "outputs": [],
   "source": []
  }
 ]
}