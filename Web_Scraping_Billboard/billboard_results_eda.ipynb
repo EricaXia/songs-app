{
 "cells": [
  {
   "cell_type": "code",
   "execution_count": 24,
   "metadata": {},
   "outputs": [],
   "source": [
    "import pandas as pd\n",
    "import os\n",
    "import numpy as np"
   ]
  },
  {
   "cell_type": "code",
   "execution_count": 25,
   "metadata": {},
   "outputs": [],
   "source": [
    "os.chdir('c:\\\\Users\\\\erica\\\\OneDrive - University of Southern California\\\\Classes\\\\INF_510\\\\Final_Project')"
   ]
  },
  {
   "cell_type": "code",
   "execution_count": 26,
   "metadata": {},
   "outputs": [
    {
     "output_type": "execute_result",
     "data": {
      "text/plain": "'c:\\\\Users\\\\erica\\\\OneDrive - University of Southern California\\\\Classes\\\\INF_510\\\\Final_Project'"
     },
     "metadata": {},
     "execution_count": 26
    }
   ],
   "source": [
    "os.getcwd()"
   ]
  },
  {
   "cell_type": "code",
   "execution_count": 27,
   "metadata": {},
   "outputs": [],
   "source": [
    "df1 = pd.read_csv(r'data\\2020-03-31_billboard_100.csv')"
   ]
  },
  {
   "cell_type": "code",
   "execution_count": 28,
   "metadata": {},
   "outputs": [],
   "source": [
    "df2 = pd.read_csv(r'data\\2020-04-07_billboard_100.csv')"
   ]
  },
  {
   "cell_type": "code",
   "execution_count": 29,
   "metadata": {},
   "outputs": [],
   "source": [
    "df3 = pd.read_csv(r'data\\2020-04-14_billboard_100.csv')"
   ]
  },
  {
   "cell_type": "code",
   "execution_count": 30,
   "metadata": {},
   "outputs": [],
   "source": [
    "df4 = pd.read_csv(r'data\\2020-04-21_billboard_100.csv')"
   ]
  },
  {
   "cell_type": "code",
   "execution_count": 31,
   "metadata": {},
   "outputs": [
    {
     "output_type": "execute_result",
     "data": {
      "text/plain": "(100, 6)"
     },
     "metadata": {},
     "execution_count": 31
    }
   ],
   "source": [
    "df4.shape"
   ]
  },
  {
   "cell_type": "code",
   "execution_count": 32,
   "metadata": {},
   "outputs": [],
   "source": [
    "df1.drop(columns=['Rank_Default', 'Rank_LastWeek', 'Rank_Peak','Num_Weeks_on_Chart'], inplace=True, )\n",
    "df2.drop(columns=['Rank_Default', 'Rank_LastWeek', 'Rank_Peak','Num_Weeks_on_Chart'], inplace=True, )\n",
    "df3.drop(columns=['Rank_Default', 'Rank_LastWeek', 'Rank_Peak','Num_Weeks_on_Chart'], inplace=True, )\n",
    "df4.drop(columns=['Rank_Default', 'Rank_LastWeek', 'Rank_Peak','Num_Weeks_on_Chart'], inplace=True, )"
   ]
  },
  {
   "cell_type": "code",
   "execution_count": 34,
   "metadata": {},
   "outputs": [
    {
     "output_type": "execute_result",
     "data": {
      "text/plain": "              Song       Artist\n0  Blinding Lights   The Weeknd\n1          The Box  Roddy Ricch\n2  Don't Start Now     Dua Lipa\n3        Heartless   The Weeknd\n4          Circles  Post Malone",
      "text/html": "<div>\n<style scoped>\n    .dataframe tbody tr th:only-of-type {\n        vertical-align: middle;\n    }\n\n    .dataframe tbody tr th {\n        vertical-align: top;\n    }\n\n    .dataframe thead th {\n        text-align: right;\n    }\n</style>\n<table border=\"1\" class=\"dataframe\">\n  <thead>\n    <tr style=\"text-align: right;\">\n      <th></th>\n      <th>Song</th>\n      <th>Artist</th>\n    </tr>\n  </thead>\n  <tbody>\n    <tr>\n      <th>0</th>\n      <td>Blinding Lights</td>\n      <td>The Weeknd</td>\n    </tr>\n    <tr>\n      <th>1</th>\n      <td>The Box</td>\n      <td>Roddy Ricch</td>\n    </tr>\n    <tr>\n      <th>2</th>\n      <td>Don't Start Now</td>\n      <td>Dua Lipa</td>\n    </tr>\n    <tr>\n      <th>3</th>\n      <td>Heartless</td>\n      <td>The Weeknd</td>\n    </tr>\n    <tr>\n      <th>4</th>\n      <td>Circles</td>\n      <td>Post Malone</td>\n    </tr>\n  </tbody>\n</table>\n</div>"
     },
     "metadata": {},
     "execution_count": 34
    }
   ],
   "source": [
    "df1.head()"
   ]
  },
  {
   "cell_type": "code",
   "execution_count": 38,
   "metadata": {},
   "outputs": [],
   "source": [
    "dfs = [df1, df2, df3, df4]"
   ]
  },
  {
   "cell_type": "code",
   "execution_count": 39,
   "metadata": {},
   "outputs": [],
   "source": [
    "res = pd.concat(dfs, join='inner', axis=0)"
   ]
  },
  {
   "cell_type": "code",
   "execution_count": 40,
   "metadata": {},
   "outputs": [
    {
     "output_type": "execute_result",
     "data": {
      "text/plain": "(400, 2)"
     },
     "metadata": {},
     "execution_count": 40
    }
   ],
   "source": [
    "res.shape"
   ]
  },
  {
   "cell_type": "code",
   "execution_count": 41,
   "metadata": {},
   "outputs": [
    {
     "output_type": "execute_result",
     "data": {
      "text/plain": "              Song       Artist\n0  Blinding Lights   The Weeknd\n1          The Box  Roddy Ricch\n2  Don't Start Now     Dua Lipa\n3        Heartless   The Weeknd\n4          Circles  Post Malone",
      "text/html": "<div>\n<style scoped>\n    .dataframe tbody tr th:only-of-type {\n        vertical-align: middle;\n    }\n\n    .dataframe tbody tr th {\n        vertical-align: top;\n    }\n\n    .dataframe thead th {\n        text-align: right;\n    }\n</style>\n<table border=\"1\" class=\"dataframe\">\n  <thead>\n    <tr style=\"text-align: right;\">\n      <th></th>\n      <th>Song</th>\n      <th>Artist</th>\n    </tr>\n  </thead>\n  <tbody>\n    <tr>\n      <th>0</th>\n      <td>Blinding Lights</td>\n      <td>The Weeknd</td>\n    </tr>\n    <tr>\n      <th>1</th>\n      <td>The Box</td>\n      <td>Roddy Ricch</td>\n    </tr>\n    <tr>\n      <th>2</th>\n      <td>Don't Start Now</td>\n      <td>Dua Lipa</td>\n    </tr>\n    <tr>\n      <th>3</th>\n      <td>Heartless</td>\n      <td>The Weeknd</td>\n    </tr>\n    <tr>\n      <th>4</th>\n      <td>Circles</td>\n      <td>Post Malone</td>\n    </tr>\n  </tbody>\n</table>\n</div>"
     },
     "metadata": {},
     "execution_count": 41
    }
   ],
   "source": [
    "res.head()"
   ]
  },
  {
   "cell_type": "code",
   "execution_count": 43,
   "metadata": {},
   "outputs": [],
   "source": [
    "res2 = res[~res.duplicated()]"
   ]
  },
  {
   "cell_type": "code",
   "execution_count": 44,
   "metadata": {},
   "outputs": [
    {
     "output_type": "execute_result",
     "data": {
      "text/plain": "(143, 2)"
     },
     "metadata": {},
     "execution_count": 44
    }
   ],
   "source": [
    "res2.shape"
   ]
  },
  {
   "cell_type": "code",
   "execution_count": 45,
   "metadata": {},
   "outputs": [
    {
     "output_type": "execute_result",
     "data": {
      "text/plain": "              Song       Artist\n0  Blinding Lights   The Weeknd\n1          The Box  Roddy Ricch\n2  Don't Start Now     Dua Lipa\n3        Heartless   The Weeknd\n4          Circles  Post Malone",
      "text/html": "<div>\n<style scoped>\n    .dataframe tbody tr th:only-of-type {\n        vertical-align: middle;\n    }\n\n    .dataframe tbody tr th {\n        vertical-align: top;\n    }\n\n    .dataframe thead th {\n        text-align: right;\n    }\n</style>\n<table border=\"1\" class=\"dataframe\">\n  <thead>\n    <tr style=\"text-align: right;\">\n      <th></th>\n      <th>Song</th>\n      <th>Artist</th>\n    </tr>\n  </thead>\n  <tbody>\n    <tr>\n      <th>0</th>\n      <td>Blinding Lights</td>\n      <td>The Weeknd</td>\n    </tr>\n    <tr>\n      <th>1</th>\n      <td>The Box</td>\n      <td>Roddy Ricch</td>\n    </tr>\n    <tr>\n      <th>2</th>\n      <td>Don't Start Now</td>\n      <td>Dua Lipa</td>\n    </tr>\n    <tr>\n      <th>3</th>\n      <td>Heartless</td>\n      <td>The Weeknd</td>\n    </tr>\n    <tr>\n      <th>4</th>\n      <td>Circles</td>\n      <td>Post Malone</td>\n    </tr>\n  </tbody>\n</table>\n</div>"
     },
     "metadata": {},
     "execution_count": 45
    }
   ],
   "source": [
    "res2.head()"
   ]
  },
  {
   "cell_type": "code",
   "execution_count": null,
   "metadata": {},
   "outputs": [],
   "source": []
  }
 ],
 "metadata": {
  "language_info": {
   "codemirror_mode": {
    "name": "ipython",
    "version": 3
   },
   "file_extension": ".py",
   "mimetype": "text/x-python",
   "name": "python",
   "nbconvert_exporter": "python",
   "pygments_lexer": "ipython3",
   "version": "3.7.6-final"
  },
  "orig_nbformat": 2,
  "kernelspec": {
   "name": "python37664bitckidscondaeba5e997e95d433391cca1cee29345d7",
   "display_name": "Python 3.7.6 64-bit ('ckids': conda)"
  }
 },
 "nbformat": 4,
 "nbformat_minor": 2
}