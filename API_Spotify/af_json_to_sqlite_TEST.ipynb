{
 "cells": [
  {
   "cell_type": "code",
   "execution_count": 1,
   "metadata": {},
   "outputs": [],
   "source": [
    "import pandas as pd\n",
    "import numpy as np\n",
    "import json\n",
    "import re\n",
    "import sqlite3\n",
    "import os\n",
    "from glob import glob"
   ]
  },
  {
   "cell_type": "code",
   "execution_count": 2,
   "metadata": {},
   "outputs": [],
   "source": [
    "conn = sqlite3.connect('music.db')\n",
    "c = conn.cursor()"
   ]
  },
  {
   "cell_type": "code",
   "execution_count": 3,
   "metadata": {},
   "outputs": [],
   "source": [
    "c.execute(\n",
    "    \"\"\"\n",
    "    DROP TABLE IF EXISTS af;\n",
    "    \"\"\"\n",
    "    )\n",
    "conn.commit()"
   ]
  },
  {
   "cell_type": "code",
   "execution_count": 4,
   "metadata": {},
   "outputs": [],
   "source": [
    "c.execute(\"\"\"\n",
    "    CREATE TABLE af (\n",
    "    danceability REAL,\n",
    "    energy REAL,\n",
    "    key INT,\n",
    "    loudness REAL,\n",
    "    mode INT,\n",
    "    speechiness REAL,\n",
    "    acousticness REAL,\n",
    "    instrumentalness REAL,\n",
    "    liveness REAL,\n",
    "    valence REAL,\n",
    "    tempo REAL, \n",
    "    type VARCHAR(255),\n",
    "    id VARCHAR(22) NOT NULL,\n",
    "    uri VARCHAR(255),\n",
    "    track_href VARCHAR(255),\n",
    "    analysis_url VARCHAR(255),\n",
    "    duration_ms REAL,\n",
    "    time_signature INT,\n",
    "    PRIMARY KEY (id)); \n",
    "    \"\"\")\n",
    "conn.commit()"
   ]
  },
  {
   "cell_type": "code",
   "execution_count": 5,
   "metadata": {},
   "outputs": [],
   "source": [
    "# find all \"_af.json\" artist files stored in 'data' folder\n",
    "PATH = \"data/tracks/\"\n",
    "EXT = \"*_af.json\"\n",
    "af_jsons = [file\n",
    "             for path, subdir, files in os.walk(PATH)\n",
    "             for file in glob(os.path.join(path, EXT))]\n",
    "\n",
    "for fname in af_jsons:\n",
    "\n",
    "    with open(rf'{fname}') as f:\n",
    "        af_dict = json.load(f)\n",
    "\n",
    "# insert each af json key:value into db\n",
    "    c.execute(\"\"\"INSERT OR IGNORE INTO af (danceability, energy, key, loudness, mode, speechiness, acousticness, instrumentalness, liveness, valence, tempo, type, id, uri, track_href, analysis_url, duration_ms, time_signature) VALUES (?,?,?,?,?,?,?,?,?,?,?,?,?,?,?,?,?,?)\"\"\", (\n",
    "                af_dict['danceability'],\n",
    "                af_dict['energy'],\n",
    "                af_dict['key'],\n",
    "                af_dict['loudness'],\n",
    "                af_dict['mode'],\n",
    "                af_dict['speechiness'],\n",
    "                af_dict['acousticness'],\n",
    "                af_dict['instrumentalness'],\n",
    "                af_dict['liveness'],\n",
    "                af_dict['valence'],\n",
    "                af_dict['tempo'],\n",
    "                af_dict['type'],\n",
    "                af_dict['id'],\n",
    "                af_dict['uri'],\n",
    "                af_dict['track_href'],\n",
    "                af_dict['analysis_url'],\n",
    "                af_dict['duration_ms'],\n",
    "                af_dict['time_signature']\n",
    "                )\n",
    "      )\n",
    "\n",
    "conn.commit()"
   ]
  },
  {
   "cell_type": "code",
   "execution_count": 6,
   "metadata": {},
   "outputs": [],
   "source": [
    "\n",
    "conn.close()"
   ]
  },
  {
   "cell_type": "code",
   "execution_count": 2,
   "metadata": {},
   "outputs": [
    {
     "output_type": "execute_result",
     "data": {
      "text/plain": "dict_keys(['album', 'artists', 'available_markets', 'disc_number', 'duration_ms', 'explicit', 'external_ids', 'external_urls', 'href', 'id', 'is_local', 'name', 'popularity', 'preview_url', 'track_number', 'type', 'uri'])"
     },
     "metadata": {},
     "execution_count": 2
    }
   ],
   "source": [
    "with open(r'data\\tracks\\10000Hours_track.json') as f:\n",
    "    t = json.load(f)\n",
    "\n",
    "t.keys()"
   ]
  },
  {
   "cell_type": "code",
   "execution_count": 12,
   "metadata": {},
   "outputs": [
    {
     "output_type": "execute_result",
     "data": {
      "text/plain": "'10,000 Hours (with Justin Bieber)'"
     },
     "metadata": {},
     "execution_count": 12
    }
   ],
   "source": [
    "t['album']['name']"
   ]
  },
  {
   "cell_type": "code",
   "execution_count": 10,
   "metadata": {},
   "outputs": [
    {
     "output_type": "execute_result",
     "data": {
      "text/plain": "'7z5WFjZAIYejWy0NI5lv4T'"
     },
     "metadata": {},
     "execution_count": 10
    }
   ],
   "source": [
    "t['artists'][0]['id']"
   ]
  },
  {
   "cell_type": "code",
   "execution_count": 13,
   "metadata": {},
   "outputs": [
    {
     "output_type": "execute_result",
     "data": {
      "text/plain": "{'spotify': 'https://open.spotify.com/track/2wrJq5XKLnmhRXHIAf9xBa'}"
     },
     "metadata": {},
     "execution_count": 13
    }
   ],
   "source": [
    "t['external_urls']"
   ]
  },
  {
   "cell_type": "code",
   "execution_count": 3,
   "metadata": {},
   "outputs": [
    {
     "output_type": "stream",
     "name": "stdout",
     "text": "NEW COLUMN\nalbum: {'album_type': 'single', 'artists': [{'external_urls': {'spotify': 'https://open.spotify.com/artist/7z5WFjZAIYejWy0NI5lv4T'}, 'href': 'https://api.spotify.com/v1/artists/7z5WFjZAIYejWy0NI5lv4T', 'id': '7z5WFjZAIYejWy0NI5lv4T', 'name': 'Dan + Shay', 'type': 'artist', 'uri': 'spotify:artist:7z5WFjZAIYejWy0NI5lv4T'}, {'external_urls': {'spotify': 'https://open.spotify.com/artist/1uNFoZAHBGtllmzznpCI3s'}, 'href': 'https://api.spotify.com/v1/artists/1uNFoZAHBGtllmzznpCI3s', 'id': '1uNFoZAHBGtllmzznpCI3s', 'name': 'Justin Bieber', 'type': 'artist', 'uri': 'spotify:artist:1uNFoZAHBGtllmzznpCI3s'}], 'available_markets': ['AD', 'AE', 'AR', 'AT', 'AU', 'BE', 'BG', 'BH', 'BO', 'BR', 'CA', 'CH', 'CL', 'CO', 'CR', 'CY', 'CZ', 'DE', 'DK', 'DO', 'DZ', 'EC', 'EE', 'EG', 'ES', 'FI', 'FR', 'GB', 'GR', 'GT', 'HK', 'HN', 'HU', 'ID', 'IE', 'IL', 'IN', 'IS', 'IT', 'JO', 'JP', 'KW', 'LB', 'LI', 'LT', 'LU', 'LV', 'MA', 'MC', 'MT', 'MX', 'MY', 'NI', 'NL', 'NO', 'NZ', 'OM', 'PA', 'PE', 'PH', 'PL', 'PS', 'PT', 'PY', 'QA', 'RO', 'SA', 'SE', 'SG', 'SK', 'SV', 'TH', 'TN', 'TR', 'TW', 'US', 'UY', 'VN', 'ZA'], 'external_urls': {'spotify': 'https://open.spotify.com/album/4ow6xJwn49gpWz7iHpOzWY'}, 'href': 'https://api.spotify.com/v1/albums/4ow6xJwn49gpWz7iHpOzWY', 'id': '4ow6xJwn49gpWz7iHpOzWY', 'images': [{'height': 640, 'url': 'https://i.scdn.co/image/ab67616d0000b27386953b1cbaa29e477db0b479', 'width': 640}, {'height': 300, 'url': 'https://i.scdn.co/image/ab67616d00001e0286953b1cbaa29e477db0b479', 'width': 300}, {'height': 64, 'url': 'https://i.scdn.co/image/ab67616d0000485186953b1cbaa29e477db0b479', 'width': 64}], 'name': '10,000 Hours (with Justin Bieber)', 'release_date': '2019-10-04', 'release_date_precision': 'day', 'total_tracks': 1, 'type': 'album', 'uri': 'spotify:album:4ow6xJwn49gpWz7iHpOzWY'} \n\nNEW COLUMN\nartists: [{'external_urls': {'spotify': 'https://open.spotify.com/artist/7z5WFjZAIYejWy0NI5lv4T'}, 'href': 'https://api.spotify.com/v1/artists/7z5WFjZAIYejWy0NI5lv4T', 'id': '7z5WFjZAIYejWy0NI5lv4T', 'name': 'Dan + Shay', 'type': 'artist', 'uri': 'spotify:artist:7z5WFjZAIYejWy0NI5lv4T'}, {'external_urls': {'spotify': 'https://open.spotify.com/artist/1uNFoZAHBGtllmzznpCI3s'}, 'href': 'https://api.spotify.com/v1/artists/1uNFoZAHBGtllmzznpCI3s', 'id': '1uNFoZAHBGtllmzznpCI3s', 'name': 'Justin Bieber', 'type': 'artist', 'uri': 'spotify:artist:1uNFoZAHBGtllmzznpCI3s'}] \n\nNEW COLUMN\navailable_markets: ['AD', 'AE', 'AR', 'AT', 'AU', 'BE', 'BG', 'BH', 'BO', 'BR', 'CA', 'CH', 'CL', 'CO', 'CR', 'CY', 'CZ', 'DE', 'DK', 'DO', 'DZ', 'EC', 'EE', 'EG', 'ES', 'FI', 'FR', 'GB', 'GR', 'GT', 'HK', 'HN', 'HU', 'ID', 'IE', 'IL', 'IN', 'IS', 'IT', 'JO', 'JP', 'KW', 'LB', 'LI', 'LT', 'LU', 'LV', 'MA', 'MC', 'MT', 'MX', 'MY', 'NI', 'NL', 'NO', 'NZ', 'OM', 'PA', 'PE', 'PH', 'PL', 'PS', 'PT', 'PY', 'QA', 'RO', 'SA', 'SE', 'SG', 'SK', 'SV', 'TH', 'TN', 'TR', 'TW', 'US', 'UY', 'VN', 'ZA'] \n\nNEW COLUMN\ndisc_number: 1 \n\nNEW COLUMN\nduration_ms: 167693 \n\nNEW COLUMN\nexplicit: False \n\nNEW COLUMN\nexternal_ids: {'isrc': 'USWB11902440'} \n\nNEW COLUMN\nexternal_urls: {'spotify': 'https://open.spotify.com/track/2wrJq5XKLnmhRXHIAf9xBa'} \n\nNEW COLUMN\nhref: https://api.spotify.com/v1/tracks/2wrJq5XKLnmhRXHIAf9xBa \n\nNEW COLUMN\nid: 2wrJq5XKLnmhRXHIAf9xBa \n\nNEW COLUMN\nis_local: False \n\nNEW COLUMN\nname: 10,000 Hours (with Justin Bieber) \n\nNEW COLUMN\npopularity: 90 \n\nNEW COLUMN\npreview_url: https://p.scdn.co/mp3-preview/a3e97b632968fe644ea13d758629e50b26d12c3d?cid=f7e5487237a44720bc3fe1b2afc641ce \n\nNEW COLUMN\ntrack_number: 1 \n\nNEW COLUMN\ntype: track \n\nNEW COLUMN\nuri: spotify:track:2wrJq5XKLnmhRXHIAf9xBa \n\n"
    }
   ],
   "source": [
    "# for k in t.keys():\n",
    "#     print(f\"{k} ,\")\n",
    "\n",
    "for k,v in t.items():\n",
    "    print(\"NEW COLUMN\")\n",
    "    print(f\"{k}: {v} \\n\")\n"
   ]
  },
  {
   "cell_type": "code",
   "execution_count": 14,
   "metadata": {},
   "outputs": [
    {
     "output_type": "execute_result",
     "data": {
      "text/plain": "dict_keys(['external_urls', 'followers', 'genres', 'href', 'id', 'images', 'name', 'popularity', 'type', 'uri'])"
     },
     "metadata": {},
     "execution_count": 14
    }
   ],
   "source": [
    "with open(r'data\\tracks\\10000Hours_artist.json') as f:\n",
    "    a = json.load(f)\n",
    "\n",
    "a.keys()"
   ]
  },
  {
   "cell_type": "code",
   "execution_count": null,
   "metadata": {},
   "outputs": [],
   "source": []
  },
  {
   "cell_type": "code",
   "execution_count": 15,
   "metadata": {},
   "outputs": [
    {
     "output_type": "stream",
     "name": "stdout",
     "text": "NEW COLUMN\nexternal_urls: {'spotify': 'https://open.spotify.com/artist/7z5WFjZAIYejWy0NI5lv4T'} \n\nNEW COLUMN\nfollowers: {'href': None, 'total': 1611927} \n\nNEW COLUMN\ngenres: ['contemporary country', 'pop'] \n\nNEW COLUMN\nhref: https://api.spotify.com/v1/artists/7z5WFjZAIYejWy0NI5lv4T \n\nNEW COLUMN\nid: 7z5WFjZAIYejWy0NI5lv4T \n\nNEW COLUMN\nimages: [{'height': 640, 'url': 'https://i.scdn.co/image/ff4a12b96c4cd11472c7058a2468c5b609999ccf', 'width': 640}, {'height': 320, 'url': 'https://i.scdn.co/image/00e6dd4ccb4bb2fcc1581cc44fd7a15e5514961c', 'width': 320}, {'height': 160, 'url': 'https://i.scdn.co/image/a10c05311843255a5255a65441bdbfa164de1337', 'width': 160}] \n\nNEW COLUMN\nname: Dan + Shay \n\nNEW COLUMN\npopularity: 82 \n\nNEW COLUMN\ntype: artist \n\nNEW COLUMN\nuri: spotify:artist:7z5WFjZAIYejWy0NI5lv4T \n\n"
    }
   ],
   "source": [
    "for k,v in a.items():\n",
    "    print(\"NEW COLUMN\")\n",
    "    print(f\"{k}: {v} \\n\")\n"
   ]
  },
  {
   "cell_type": "code",
   "execution_count": 16,
   "metadata": {},
   "outputs": [
    {
     "output_type": "execute_result",
     "data": {
      "text/plain": "10"
     },
     "metadata": {},
     "execution_count": 16
    }
   ],
   "source": [
    "len(a.keys())"
   ]
  },
  {
   "cell_type": "code",
   "execution_count": 17,
   "metadata": {},
   "outputs": [
    {
     "output_type": "stream",
     "name": "stdout",
     "text": "external_urls, followers, genres, href, id, images, name, popularity, type, uri,"
    }
   ],
   "source": [
    "for k in a.keys():\n",
    "    print(k, end= \", \")"
   ]
  },
  {
   "cell_type": "code",
   "execution_count": 19,
   "metadata": {},
   "outputs": [
    {
     "output_type": "stream",
     "name": "stdout",
     "text": "?, ?, ?, ?, ?, ?, ?, ?, ?, ?,"
    }
   ],
   "source": [
    "for i in range(10):\n",
    "    print(\"?, \", end='')"
   ]
  },
  {
   "cell_type": "code",
   "execution_count": 21,
   "metadata": {},
   "outputs": [
    {
     "output_type": "execute_result",
     "data": {
      "text/plain": "'contemporary country'"
     },
     "metadata": {},
     "execution_count": 21
    }
   ],
   "source": [
    "a['genres'][0]"
   ]
  },
  {
   "cell_type": "code",
   "execution_count": null,
   "metadata": {},
   "outputs": [],
   "source": []
  }
 ],
 "metadata": {
  "language_info": {
   "codemirror_mode": {
    "name": "ipython",
    "version": 3
   },
   "file_extension": ".py",
   "mimetype": "text/x-python",
   "name": "python",
   "nbconvert_exporter": "python",
   "pygments_lexer": "ipython3",
   "version": "3.7.6-final"
  },
  "orig_nbformat": 2,
  "kernelspec": {
   "name": "python3",
   "display_name": "Python 3"
  }
 },
 "nbformat": 4,
 "nbformat_minor": 2
}