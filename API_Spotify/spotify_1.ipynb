{
 "nbformat": 4,
 "nbformat_minor": 2,
 "metadata": {
  "language_info": {
   "name": "python",
   "codemirror_mode": {
    "name": "ipython",
    "version": 3
   }
  },
  "orig_nbformat": 2,
  "file_extension": ".py",
  "mimetype": "text/x-python",
  "name": "python",
  "npconvert_exporter": "python",
  "pygments_lexer": "ipython3",
  "version": 3,
  "kernelspec": {
   "name": "python37664bitbaseconda7096f56dc27c4b31bdb0045972c65c08",
   "display_name": "Python 3.7.6 64-bit ('base': conda)"
  }
 },
 "cells": [
  {
   "cell_type": "markdown",
   "metadata": {},
   "source": [
    "## Spotify API Data scrape\n",
    "Features of interest:\n",
    "- Track info\n",
    "- Artist info\n",
    "- Audio Features (not Audio Analysis) per track\n",
    "\n",
    "------------\n",
    "combine all .json into one merged json, export so there's one json file per track\n",
    "<br>\n",
    "eg, 'shitty_song_title.json' has all the track info, artist info, af info for that one song"
   ]
  },
  {
   "cell_type": "code",
   "execution_count": 1,
   "metadata": {},
   "outputs": [],
   "source": [
    "import requests\n",
    "from bs4 import BeautifulSoup\n",
    "import re\n",
    "import pickle\n",
    "import numpy as np\n",
    "import pandas as pd\n",
    "import json\n",
    "import pprint"
   ]
  },
  {
   "cell_type": "code",
   "execution_count": 2,
   "metadata": {},
   "outputs": [],
   "source": [
    "client_id = 'f7e5487237a44720bc3fe1b2afc641ce'\n",
    "client_secret = 'b9c005c1698e4655aad6000750267140'"
   ]
  },
  {
   "cell_type": "code",
   "execution_count": 3,
   "metadata": {},
   "outputs": [],
   "source": [
    "auth_url = 'https://accounts.spotify.com/api/token'\n",
    "\n",
    "# authorization response\n",
    "resp = requests.post(auth_url, {\n",
    "        'grant_type': 'client_credentials',\n",
    "        'client_id': client_id,\n",
    "        'client_secret': client_secret\n",
    "    }\n",
    ")"
   ]
  },
  {
   "cell_type": "code",
   "execution_count": 4,
   "metadata": {},
   "outputs": [],
   "source": [
    "json_data = resp.json()\n",
    "accesstoken = json_data['access_token']"
   ]
  },
  {
   "cell_type": "code",
   "execution_count": 5,
   "metadata": {},
   "outputs": [],
   "source": [
    "# Set the API Headers\n",
    "api_headers = {\n",
    "    'Authorization': f'Bearer {accesstoken}'\n",
    "}"
   ]
  },
  {
   "cell_type": "code",
   "execution_count": 6,
   "metadata": {},
   "outputs": [],
   "source": [
    "# set API URL\n",
    "api_url = 'https://api.spotify.com/v1/'"
   ]
  },
  {
   "cell_type": "code",
   "execution_count": 7,
   "metadata": {},
   "outputs": [],
   "source": [
    "# set Track interested in getting info for\n",
    "track_id = '2qnxhWmaZhgckkAwRDKxUm'"
   ]
  },
  {
   "cell_type": "code",
   "execution_count": 8,
   "metadata": {},
   "outputs": [
    {
     "output_type": "stream",
     "name": "stdout",
     "text": "{'album': {'album_type': 'single',\n           'artists': [{'external_urls': {'spotify': 'https://open.spotify.com/artist/2MGL4XU2LCJC47c7VvSwuE'},\n                        'href': 'https://api.spotify.com/v1/artists/2MGL4XU2LCJC47c7VvSwuE',\n                        'id': '2MGL4XU2LCJC47c7VvSwuE',\n                        'name': 'Jobii',\n                        'type': 'artist',\n                        'uri': 'spotify:artist:2MGL4XU2LCJC47c7VvSwuE'}],\n           'available_markets': ['AD',\n                                 'AE',\n                                 'AR',\n                                 'AT',\n                                 'AU',\n                                 'BE',\n                                 'BG',\n                                 'BH',\n                                 'BO',\n                                 'BR',\n                                 'CA',\n                                 'CH',\n                                 'CL',\n                                 'CO',\n                                 'CR',\n                                 'CY',\n                                 'CZ',\n                                 'DE',\n                                 'DK',\n                                 'DO',\n                                 'DZ',\n                                 'EC',\n                                 'EE',\n                                 'EG',\n                                 'ES',\n                                 'FI',\n                                 'FR',\n                                 'GB',\n                                 'GR',\n                                 'GT',\n                                 'HK',\n                                 'HN',\n                                 'HU',\n                                 'ID',\n                                 'IE',\n                                 'IL',\n                                 'IN',\n                                 'IS',\n                                 'IT',\n                                 'JO',\n                                 'JP',\n                                 'KW',\n                                 'LB',\n                                 'LI',\n                                 'LT',\n                                 'LU',\n                                 'LV',\n                                 'MA',\n                                 'MC',\n                                 'MT',\n                                 'MX',\n                                 'MY',\n                                 'NI',\n                                 'NL',\n                                 'NO',\n                                 'NZ',\n                                 'OM',\n                                 'PA',\n                                 'PE',\n                                 'PH',\n                                 'PL',\n                                 'PS',\n                                 'PT',\n                                 'PY',\n                                 'QA',\n                                 'RO',\n                                 'SA',\n                                 'SE',\n                                 'SG',\n                                 'SK',\n                                 'SV',\n                                 'TH',\n                                 'TN',\n                                 'TR',\n                                 'TW',\n                                 'US',\n                                 'UY',\n                                 'VN',\n                                 'ZA'],\n           'external_urls': {'spotify': 'https://open.spotify.com/album/0016aXt2kXeqd6f1RArmcY'},\n           'href': 'https://api.spotify.com/v1/albums/0016aXt2kXeqd6f1RArmcY',\n           'id': '0016aXt2kXeqd6f1RArmcY',\n           'images': [{'height': 640,\n                       'url': 'https://i.scdn.co/image/ab67616d0000b273a345217dc2c70f4660a90fdd',\n                       'width': 640},\n                      {'height': 300,\n                       'url': 'https://i.scdn.co/image/ab67616d00001e02a345217dc2c70f4660a90fdd',\n                       'width': 300},\n                      {'height': 64,\n                       'url': 'https://i.scdn.co/image/ab67616d00004851a345217dc2c70f4660a90fdd',\n                       'width': 64}],\n           'name': 'Vortex',\n           'release_date': '2019-11-22',\n           'release_date_precision': 'day',\n           'total_tracks': 5,\n           'type': 'album',\n           'uri': 'spotify:album:0016aXt2kXeqd6f1RArmcY'},\n 'artists': [{'external_urls': {'spotify': 'https://open.spotify.com/artist/2MGL4XU2LCJC47c7VvSwuE'},\n              'href': 'https://api.spotify.com/v1/artists/2MGL4XU2LCJC47c7VvSwuE',\n              'id': '2MGL4XU2LCJC47c7VvSwuE',\n              'name': 'Jobii',\n              'type': 'artist',\n              'uri': 'spotify:artist:2MGL4XU2LCJC47c7VvSwuE'}],\n 'available_markets': ['AD',\n                       'AE',\n                       'AR',\n                       'AT',\n                       'AU',\n                       'BE',\n                       'BG',\n                       'BH',\n                       'BO',\n                       'BR',\n                       'CA',\n                       'CH',\n                       'CL',\n                       'CO',\n                       'CR',\n                       'CY',\n                       'CZ',\n                       'DE',\n                       'DK',\n                       'DO',\n                       'DZ',\n                       'EC',\n                       'EE',\n                       'EG',\n                       'ES',\n                       'FI',\n                       'FR',\n                       'GB',\n                       'GR',\n                       'GT',\n                       'HK',\n                       'HN',\n                       'HU',\n                       'ID',\n                       'IE',\n                       'IL',\n                       'IN',\n                       'IS',\n                       'IT',\n                       'JO',\n                       'JP',\n                       'KW',\n                       'LB',\n                       'LI',\n                       'LT',\n                       'LU',\n                       'LV',\n                       'MA',\n                       'MC',\n                       'MT',\n                       'MX',\n                       'MY',\n                       'NI',\n                       'NL',\n                       'NO',\n                       'NZ',\n                       'OM',\n                       'PA',\n                       'PE',\n                       'PH',\n                       'PL',\n                       'PS',\n                       'PT',\n                       'PY',\n                       'QA',\n                       'RO',\n                       'SA',\n                       'SE',\n                       'SG',\n                       'SK',\n                       'SV',\n                       'TH',\n                       'TN',\n                       'TR',\n                       'TW',\n                       'US',\n                       'UY',\n                       'VN',\n                       'ZA'],\n 'disc_number': 1,\n 'duration_ms': 147110,\n 'explicit': False,\n 'external_ids': {'isrc': 'SE5Q51902382'},\n 'external_urls': {'spotify': 'https://open.spotify.com/track/2qnxhWmaZhgckkAwRDKxUm'},\n 'href': 'https://api.spotify.com/v1/tracks/2qnxhWmaZhgckkAwRDKxUm',\n 'id': '2qnxhWmaZhgckkAwRDKxUm',\n 'is_local': False,\n 'name': 'First Sip of Coffee',\n 'popularity': 63,\n 'preview_url': 'https://p.scdn.co/mp3-preview/5b66696f8020746b3b104535af1412c51dbbf0bc?cid=f7e5487237a44720bc3fe1b2afc641ce',\n 'track_number': 5,\n 'type': 'track',\n 'uri': 'spotify:track:2qnxhWmaZhgckkAwRDKxUm'}\n"
    }
   ],
   "source": [
    "# get Track Info\n",
    "get_track_url = api_url + 'tracks/{id}'\n",
    "\n",
    "# GET call\n",
    "\n",
    "track_response = requests.get(\n",
    "    get_track_url.format(id=track_id),\n",
    "    headers=api_headers\n",
    ")\n",
    "\n",
    "# parsing the json reponse to Python dictonary\n",
    "track_response_dict = track_response.json() \n",
    "\n",
    "# pretty printing\n",
    "pp = pprint.PrettyPrinter()\n",
    "pp.pprint(track_response_dict)"
   ]
  },
  {
   "cell_type": "code",
   "execution_count": 11,
   "metadata": {},
   "outputs": [
    {
     "output_type": "stream",
     "name": "stdout",
     "text": "dict_keys(['album', 'artists', 'available_markets', 'disc_number', 'duration_ms', 'explicit', 'external_ids', 'external_urls', 'href', 'id', 'is_local', 'name', 'popularity', 'preview_url', 'track_number', 'type', 'uri'])\n"
    }
   ],
   "source": [
    "print(track_response_dict.keys())"
   ]
  },
  {
   "cell_type": "code",
   "execution_count": 19,
   "metadata": {},
   "outputs": [
    {
     "output_type": "stream",
     "name": "stdout",
     "text": "dict_keys(['external_urls', 'href', 'id', 'name', 'type', 'uri'])\n"
    }
   ],
   "source": [
    "# the 'artists' key returns a list with 1 dictionary in it\n",
    "# type(track_response_dict['artists'][0])\n",
    "print(track_response_dict['artists'][0].keys())"
   ]
  },
  {
   "cell_type": "code",
   "execution_count": 20,
   "metadata": {},
   "outputs": [
    {
     "output_type": "stream",
     "name": "stdout",
     "text": "Jobii 2MGL4XU2LCJC47c7VvSwuE\n"
    }
   ],
   "source": [
    "artist_name = track_response_dict['artists'][0]['name']\n",
    "artist_id = track_response_dict['artists'][0]['id']\n",
    "print(artist_name, artist_id)"
   ]
  },
  {
   "cell_type": "code",
   "execution_count": 21,
   "metadata": {},
   "outputs": [
    {
     "output_type": "stream",
     "name": "stdout",
     "text": "{'acousticness': 0.402,\n 'analysis_url': 'https://api.spotify.com/v1/audio-analysis/2qnxhWmaZhgckkAwRDKxUm',\n 'danceability': 0.694,\n 'duration_ms': 147110,\n 'energy': 0.426,\n 'id': '2qnxhWmaZhgckkAwRDKxUm',\n 'instrumentalness': 0.919,\n 'key': 5,\n 'liveness': 0.178,\n 'loudness': -8.516,\n 'mode': 0,\n 'speechiness': 0.0497,\n 'tempo': 136.011,\n 'time_signature': 4,\n 'track_href': 'https://api.spotify.com/v1/tracks/2qnxhWmaZhgckkAwRDKxUm',\n 'type': 'audio_features',\n 'uri': 'spotify:track:2qnxhWmaZhgckkAwRDKxUm',\n 'valence': 0.366}\n"
    }
   ],
   "source": [
    "# Get the same track's Audio Features Info\n",
    "get_af_url = api_url + 'audio-features/{id}'\n",
    "\n",
    "af_response = requests.get(\n",
    "    get_af_url.format(id=track_id),\n",
    "    headers=api_headers\n",
    ")\n",
    "\n",
    "af_response_dict = af_response.json()\n",
    "\n",
    "pp = pprint.PrettyPrinter()\n",
    "pp.pprint(af_response_dict)"
   ]
  },
  {
   "cell_type": "code",
   "execution_count": 24,
   "metadata": {},
   "outputs": [
    {
     "output_type": "stream",
     "name": "stdout",
     "text": "dict_keys(['danceability', 'energy', 'key', 'loudness', 'mode', 'speechiness', 'acousticness', 'instrumentalness', 'liveness', 'valence', 'tempo', 'type', 'id', 'uri', 'track_href', 'analysis_url', 'duration_ms', 'time_signature'])\n"
    }
   ],
   "source": [
    "print(af_response_dict.keys())"
   ]
  },
  {
   "cell_type": "code",
   "execution_count": 25,
   "metadata": {},
   "outputs": [
    {
     "output_type": "stream",
     "name": "stdout",
     "text": "{'external_urls': {'spotify': 'https://open.spotify.com/artist/2MGL4XU2LCJC47c7VvSwuE'},\n 'followers': {'href': None, 'total': 3616},\n 'genres': ['lo-fi beats'],\n 'href': 'https://api.spotify.com/v1/artists/2MGL4XU2LCJC47c7VvSwuE',\n 'id': '2MGL4XU2LCJC47c7VvSwuE',\n 'images': [{'height': 640,\n             'url': 'https://i.scdn.co/image/0dc3dc7a5fed15414c7c3a196eff83978f714bb2',\n             'width': 640},\n            {'height': 320,\n             'url': 'https://i.scdn.co/image/1593183479ac58c9a776126a79a303cfce89e750',\n             'width': 320},\n            {'height': 160,\n             'url': 'https://i.scdn.co/image/dce7d5890c07ed6ee4bc5ffb41c808da79db7a2a',\n             'width': 160}],\n 'name': 'Jobii',\n 'popularity': 62,\n 'type': 'artist',\n 'uri': 'spotify:artist:2MGL4XU2LCJC47c7VvSwuE'}\n"
    }
   ],
   "source": [
    "# Get the track's Artist Info\n",
    "# get artist id from previous data above\n",
    "artist_id = track_response_dict['artists'][0]['id']\n",
    "\n",
    "get_artist_url = api_url + 'artists/{id}'\n",
    "\n",
    "artist_response = requests.get(\n",
    "    get_artist_url.format(id=artist_id),\n",
    "    headers=api_headers\n",
    ")\n",
    "\n",
    "artist_response_dict = artist_response.json()\n",
    "\n",
    "pp = pprint.PrettyPrinter()\n",
    "pp.pprint(artist_response_dict)"
   ]
  },
  {
   "cell_type": "code",
   "execution_count": null,
   "metadata": {},
   "outputs": [],
   "source": []
  },
  {
   "cell_type": "markdown",
   "metadata": {},
   "source": [
    "# what to do next:\n",
    "- Search to get track IDs for all the BB 100 songs\n",
    "- Run the above code in a loop\n",
    "- Save each song's Track info, AF info, and Artist info to 3 json files?\n",
    "- research how best to organize all these files (sql, etc)"
   ]
  },
  {
   "cell_type": "code",
   "execution_count": 51,
   "metadata": {},
   "outputs": [
    {
     "output_type": "stream",
     "name": "stdout",
     "text": "toosie%20slide&type=track\n"
    }
   ],
   "source": [
    "# search for Track ID, given a song's name and search name\n",
    "search_url = api_url + 'search?q={query}'\n",
    "\n",
    "# define a search query\n",
    "track_name = ('Toosie Slide').lower()\n",
    "track_name_f = track_name.replace(' ', '%20')  # format by replacing space with '%'\n",
    "search_query = f'{track_name_f}&type=track'\n",
    "print(search_query)\n",
    "\n",
    "# test_url = \"https://api.spotify.com/v1/search?q=toosie%20slide&type=track\"\n",
    "\n",
    "search_response = requests.get(\n",
    "    search_url.format(query=search_query),\n",
    "    headers=api_headers\n",
    ")\n",
    "\n",
    "search_response_dict = search_response.json()"
   ]
  },
  {
   "cell_type": "code",
   "execution_count": 48,
   "metadata": {},
   "outputs": [],
   "source": [
    "# get first search result as a dict\n",
    "# pp.pprint(search_response_dict['tracks']['items'][0])\n",
    "searched_track_id = search_response_dict['tracks']['items'][0]['id']"
   ]
  },
  {
   "cell_type": "code",
   "execution_count": 52,
   "metadata": {},
   "outputs": [],
   "source": [
    "# get Track Info of searched Track id\n",
    "get_track_url = api_url + 'tracks/{id}'\n",
    "\n",
    "track_id = searched_track_id\n",
    "# GET call\n",
    "\n",
    "track_response = requests.get(\n",
    "    get_track_url.format(id=track_id),\n",
    "    headers=api_headers\n",
    ")\n",
    "\n",
    "# parsing the json reponse to Python dictonary\n",
    "track_response_dict = track_response.json() "
   ]
  },
  {
   "cell_type": "code",
   "execution_count": 54,
   "metadata": {},
   "outputs": [
    {
     "output_type": "execute_result",
     "data": {
      "text/plain": "'Toosie Slide'"
     },
     "metadata": {},
     "execution_count": 54
    }
   ],
   "source": []
  },
  {
   "cell_type": "code",
   "execution_count": 64,
   "metadata": {},
   "outputs": [
    {
     "output_type": "error",
     "ename": "FileNotFoundError",
     "evalue": "[Errno 2] No such file or directory: '/tracks/toosie_slide.json'",
     "traceback": [
      "\u001b[1;31m---------------------------------------------------------------------------\u001b[0m",
      "\u001b[1;31mFileNotFoundError\u001b[0m                         Traceback (most recent call last)",
      "\u001b[1;32m<ipython-input-64-387e50911390>\u001b[0m in \u001b[0;36m<module>\u001b[1;34m\u001b[0m\n\u001b[0;32m      2\u001b[0m \u001b[0mfname\u001b[0m \u001b[1;33m=\u001b[0m \u001b[1;34mf\"/tracks/{track_response_dict['name']}.json\"\u001b[0m\u001b[1;33m.\u001b[0m\u001b[0mlower\u001b[0m\u001b[1;33m(\u001b[0m\u001b[1;33m)\u001b[0m\u001b[1;33m\u001b[0m\u001b[1;33m\u001b[0m\u001b[0m\n\u001b[0;32m      3\u001b[0m \u001b[0mfname\u001b[0m \u001b[1;33m=\u001b[0m \u001b[0mfname\u001b[0m\u001b[1;33m.\u001b[0m\u001b[0mreplace\u001b[0m\u001b[1;33m(\u001b[0m\u001b[1;34m' '\u001b[0m\u001b[1;33m,\u001b[0m \u001b[1;34m'_'\u001b[0m\u001b[1;33m)\u001b[0m\u001b[1;33m\u001b[0m\u001b[1;33m\u001b[0m\u001b[0m\n\u001b[1;32m----> 4\u001b[1;33m \u001b[1;32mwith\u001b[0m \u001b[0mopen\u001b[0m\u001b[1;33m(\u001b[0m\u001b[0mfname\u001b[0m\u001b[1;33m,\u001b[0m \u001b[1;34m\"w\"\u001b[0m\u001b[1;33m)\u001b[0m \u001b[1;32mas\u001b[0m \u001b[0mf\u001b[0m\u001b[1;33m:\u001b[0m\u001b[1;33m\u001b[0m\u001b[1;33m\u001b[0m\u001b[0m\n\u001b[0m\u001b[0;32m      5\u001b[0m     \u001b[0mjson\u001b[0m\u001b[1;33m.\u001b[0m\u001b[0mdump\u001b[0m\u001b[1;33m(\u001b[0m\u001b[0mtrack_response_dict\u001b[0m\u001b[1;33m,\u001b[0m \u001b[0mf\u001b[0m\u001b[1;33m)\u001b[0m\u001b[1;33m\u001b[0m\u001b[1;33m\u001b[0m\u001b[0m\n",
      "\u001b[1;31mFileNotFoundError\u001b[0m: [Errno 2] No such file or directory: '/tracks/toosie_slide.json'"
     ]
    }
   ],
   "source": [
    "# export Track info\n",
    "fname = f\"/tracks/{track_response_dict['name']}.json\".lower()\n",
    "fname = fname.replace(' ', '_')\n",
    "with open(fname, \"w\") as f: \n",
    "    json.dump(track_response_dict, f) "
   ]
  },
  {
   "cell_type": "code",
   "execution_count": 63,
   "metadata": {},
   "outputs": [],
   "source": [
    "# export Audio Features info\n",
    "fname1 = f\"{track_response_dict['name']}_af.json\".lower()\n",
    "fname1 = fname1.replace(' ', '_')\n",
    "with open(fname1, \"w\") as f: \n",
    "    json.dump(af_response_dict, f) "
   ]
  },
  {
   "cell_type": "code",
   "execution_count": null,
   "metadata": {},
   "outputs": [],
   "source": [
    "# export Artist info\n",
    "fname2 = f\"{artist_response_dict['name']}_artist.json\".lower()\n",
    "fname2 = fname2.replace(' ', '_')\n",
    "with open(fname2, \"w\") as f: \n",
    "    json.dump(artist_response_dict, f) "
   ]
  },
  {
   "cell_type": "code",
   "execution_count": null,
   "metadata": {},
   "outputs": [],
   "source": []
  }
 ]
}