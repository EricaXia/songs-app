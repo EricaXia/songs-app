{
 "cells": [
  {
   "cell_type": "code",
   "execution_count": 1,
   "metadata": {},
   "outputs": [],
   "source": [
    "import sqlite3\n",
    "import sqlalchemy\n",
    "import pandas as pd\n",
    "import numpy as np\n",
    "import json\n",
    "import re\n",
    "import pprint\n",
    "import os\n",
    "from glob import glob"
   ]
  },
  {
   "cell_type": "code",
   "execution_count": 2,
   "metadata": {},
   "outputs": [],
   "source": [
    "# create music sqlite3 database to store all files\n",
    "conn = sqlite3.connect('music.db')\n",
    "c = conn.cursor()"
   ]
  },
  {
   "cell_type": "markdown",
   "metadata": {},
   "source": [
    "## \"Track\" table for track metadata"
   ]
  },
  {
   "cell_type": "code",
   "execution_count": 3,
   "metadata": {},
   "outputs": [
    {
     "data": {
      "text/plain": [
       "<sqlite3.Cursor at 0x14f429f9110>"
      ]
     },
     "execution_count": 3,
     "metadata": {},
     "output_type": "execute_result"
    }
   ],
   "source": [
    "c.execute(\"CREATE TABLE track (id varchar(22) NOT NULL, name varchar(255), data json, PRIMARY KEY (id)) \")"
   ]
  },
  {
   "cell_type": "code",
   "execution_count": 4,
   "metadata": {},
   "outputs": [],
   "source": [
    "# find all \"_track.json\" Track files stored in 'data' folder\n",
    "PATH = \"data/tracks/\"\n",
    "EXT = \"*_track.json\"\n",
    "track_jsons = [file\n",
    "             for path, subdir, files in os.walk(PATH)\n",
    "             for file in glob(os.path.join(path, EXT))]\n",
    "\n",
    "# print(len(track_jsons))\n",
    "# print(track_jsons[0])\n",
    "\n",
    "# add each track metadata to db\n",
    "for fname in track_jsons:\n",
    "\n",
    "    with open(rf'{fname}') as f:\n",
    "        t = json.load(f)\n",
    "\n",
    "    c.execute(\"INSERT INTO track values (?,?,?)\", \n",
    "             [t['id'], t['name'], json.dumps(t)])\n",
    "\n",
    "conn.commit()"
   ]
  },
  {
   "cell_type": "markdown",
   "metadata": {},
   "source": [
    "## \"Artist\" table for artist metadata"
   ]
  },
  {
   "cell_type": "code",
   "execution_count": 5,
   "metadata": {},
   "outputs": [
    {
     "data": {
      "text/plain": [
       "<sqlite3.Cursor at 0x14f429f9110>"
      ]
     },
     "execution_count": 5,
     "metadata": {},
     "output_type": "execute_result"
    }
   ],
   "source": [
    "c.execute(\"CREATE TABLE artist (id varchar(22) NOT NULL, name varchar(255), data json, PRIMARY KEY (id)) \")"
   ]
  },
  {
   "cell_type": "code",
   "execution_count": 7,
   "metadata": {},
   "outputs": [],
   "source": [
    "# find all \"_artist.json\" artist files stored in 'data' folder\n",
    "PATH = \"data/tracks/\"\n",
    "EXT = \"*_artist.json\"\n",
    "artist_jsons = [file\n",
    "             for path, subdir, files in os.walk(PATH)\n",
    "             for file in glob(os.path.join(path, EXT))]\n",
    "\n",
    "# add each artist metadata to db\n",
    "for fname in artist_jsons:\n",
    "\n",
    "    with open(rf'{fname}') as f:\n",
    "        a = json.load(f)\n",
    "\n",
    "    c.execute(\"INSERT OR IGNORE INTO artist values (?,?,?)\", \n",
    "             [a['id'], a['name'], json.dumps(a)])\n",
    "\n",
    "conn.commit()"
   ]
  },
  {
   "cell_type": "markdown",
   "metadata": {},
   "source": [
    "## \"Audio Features\" table for audio features data"
   ]
  },
  {
   "cell_type": "code",
   "execution_count": 8,
   "metadata": {},
   "outputs": [
    {
     "data": {
      "text/plain": [
       "<sqlite3.Cursor at 0x14f429f9110>"
      ]
     },
     "execution_count": 8,
     "metadata": {},
     "output_type": "execute_result"
    }
   ],
   "source": [
    "c.execute(\"CREATE TABLE audio_features (id varchar(22) NOT NULL, data json, PRIMARY KEY (id)) \")"
   ]
  },
  {
   "cell_type": "code",
   "execution_count": 9,
   "metadata": {},
   "outputs": [],
   "source": [
    "# find all \"_artist.json\" artist files stored in 'data' folder\n",
    "PATH = \"data/tracks/\"\n",
    "EXT = \"*_af.json\"\n",
    "af_jsons = [file\n",
    "             for path, subdir, files in os.walk(PATH)\n",
    "             for file in glob(os.path.join(path, EXT))]\n",
    "\n",
    "# add each artist metadata to db\n",
    "for fname in af_jsons:\n",
    "\n",
    "    with open(rf'{fname}') as f:\n",
    "        af = json.load(f)\n",
    "\n",
    "    c.execute(\"INSERT INTO audio_features values (?,?)\", \n",
    "             [af['id'], json.dumps(af)])\n",
    "\n",
    "conn.commit()"
   ]
  },
  {
   "cell_type": "code",
   "execution_count": 10,
   "metadata": {},
   "outputs": [],
   "source": [
    "# close the connection\n",
    "conn.close()"
   ]
  },
  {
   "cell_type": "code",
   "execution_count": null,
   "metadata": {},
   "outputs": [],
   "source": []
  }
 ],
 "metadata": {
  "kernelspec": {
   "display_name": "Python 3",
   "language": "python",
   "name": "python3"
  },
  "language_info": {
   "codemirror_mode": {
    "name": "ipython",
    "version": 3
   },
   "file_extension": ".py",
   "mimetype": "text/x-python",
   "name": "python",
   "nbconvert_exporter": "python",
   "pygments_lexer": "ipython3",
   "version": "3.7.6"
  }
 },
 "nbformat": 4,
 "nbformat_minor": 4
}
