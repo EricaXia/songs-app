{
 "cells": [
  {
   "cell_type": "markdown",
   "metadata": {},
   "source": [
    "# Scraping Song Lyrics From Genius\n",
    "\n",
    "## NOTE: **Requires Outh2 authentication process**"
   ]
  },
  {
   "cell_type": "code",
   "execution_count": 1,
   "metadata": {},
   "outputs": [],
   "source": [
    "import requests\n",
    "from bs4 import BeautifulSoup\n",
    "import json\n",
    "import re\n",
    "import numpy as np\n",
    "import pandas as pd\n",
    "import os\n",
    "from glob import glob\n",
    "from requests_oauthlib import OAuth2Session  # requires installation"
   ]
  },
  {
   "cell_type": "code",
   "execution_count": 2,
   "metadata": {},
   "outputs": [],
   "source": [
    "client_id = 'hjAAh3f8SCTjC8YwuWOw_SC1Bbrld0-8pHzps79gZRexkQqJ1wYDHZCX8bWmMaQ3'\n",
    "client_secret = 'WwCsfJyYc0VeAM200jBFnVRAAZME2RAeJemDd65XIjUTInpH4uSgW88sDcfI0YH5uoQtZYzUJWp7qkjcQQFoXA'\n",
    "\n",
    "redirect_uri = 'https://genius.com/'"
   ]
  },
  {
   "cell_type": "code",
   "execution_count": 3,
   "metadata": {},
   "outputs": [],
   "source": [
    "# base url\n",
    "base_url = 'https://api.genius.com/'\n",
    "\n",
    "auth_url = 'https://api.genius.com/oauth/authorize'\n",
    "\n",
    "token_url = 'https://api.genius.com/oauth/token'"
   ]
  },
  {
   "cell_type": "markdown",
   "metadata": {},
   "source": [
    "## Important Step\n",
    "\n",
    "Please VISIT the URL outputted in the cell below for authorization and access token to use the API.\n",
    "\n",
    "Genius.com Login (if you are asked to login)\n",
    "<br>\n",
    "Username: musketeers1128@gmail.com\n",
    "<br>\n",
    "Password: 5JL6wGJ1oqGD"
   ]
  },
  {
   "cell_type": "code",
   "execution_count": 4,
   "metadata": {},
   "outputs": [
    {
     "name": "stdout",
     "output_type": "stream",
     "text": [
      "Please go here and authorize by clicking Approve:\n",
      "https://api.genius.com/oauth/authorize?response_type=code&client_id=hjAAh3f8SCTjC8YwuWOw_SC1Bbrld0-8pHzps79gZRexkQqJ1wYDHZCX8bWmMaQ3&redirect_uri=https%3A%2F%2Fgenius.com%2F&scope=me&state=1\n"
     ]
    }
   ],
   "source": [
    "genius = OAuth2Session(client_id, redirect_uri=redirect_uri, scope='me', state='1')\n",
    "\n",
    "# Redirect user to Genius for authorization\n",
    "authorization_url, state = genius.authorization_url(auth_url)\n",
    "print('Please go here and authorize by logging in and clicking Approve:')\n",
    "print(authorization_url)    # PLEASE GO TO THIS URL IN YOUR BROWSER"
   ]
  },
  {
   "cell_type": "code",
   "execution_count": 5,
   "metadata": {},
   "outputs": [],
   "source": [
    "# PASTE THE RESPONSE URL HERE\n",
    "\n",
    "redirect_response = \"PASTE URL HERE\""
   ]
  },
  {
   "cell_type": "code",
   "execution_count": 6,
   "metadata": {},
   "outputs": [],
   "source": [
    "# Fetches the access token\n",
    "token_response = genius.fetch_token(token_url, client_secret=client_secret, authorization_response=redirect_response, client_id=client_id, response_type='code')"
   ]
  },
  {
   "cell_type": "code",
   "execution_count": 7,
   "metadata": {},
   "outputs": [],
   "source": [
    "my_access_token = token_response['access_token']\n",
    "\n",
    "# Set the API Headers\n",
    "# fake the \"User Agent\" in the api header to avoid error\n",
    "api_headers = {\n",
    "    'User-Agent': 'Mozilla/5.0 (Windows NT 10.0; Win64; x64) AppleWebKit/537.36 (KHTML, like Gecko) Chrome/81.0.4044.122 Safari/537.36', \n",
    "    'Authorization': f'Bearer {my_access_token}'\n",
    "    }"
   ]
  },
  {
   "cell_type": "code",
   "execution_count": null,
   "metadata": {
    "tags": [
     "outputPrepend",
     "outputPrepend",
     "outputPrepend",
     "outputPrepend",
     "outputPrepend",
     "outputPrepend",
     "outputPrepend",
     "outputPrepend",
     "outputPrepend",
     "outputPrepend",
     "outputPrepend",
     "outputPrepend",
     "outputPrepend"
    ]
   },
   "outputs": [],
   "source": [
    "## Accessing Genius Song API and scraing Lyrics\n",
    "## Begin loop HERE\n",
    "\n",
    "# find all csv files stored in 'data' folder\n",
    "PATH = \"data/\"\n",
    "EXT = \"*.csv\"\n",
    "csv_files = [file\n",
    "             for path, subdir, files in os.walk(PATH)\n",
    "             for file in glob(os.path.join(path, EXT))]\n",
    "\n",
    "# loop over each BB100 CSV file (each file is one week on the BB100)\n",
    "for file in csv_files:\n",
    "    \n",
    "    df_bb100 = pd.read_csv(file)\n",
    "    \n",
    "    for song in df_bb100['Song']:\n",
    "        \n",
    "        \n",
    "        # search for song via Genius API\n",
    "        query = f'{song}'.replace(\" \", \"%20\")\n",
    "        # extract only alphanumeric chars and percent sign\n",
    "        query = re.sub('[^a-zA-Z0-9%_]+', '', query)  \n",
    "        search_query = f'search?q={query}'\n",
    "        search_url = base_url + search_query\n",
    "        r = genius.get(search_url, headers=api_headers)\n",
    "        search_api_path = r.json()['response']['hits'][0]['result']['api_path']\n",
    "\n",
    "        # using found song's api path, get the song's page\n",
    "        song_url = f\"https://api.genius.com{search_api_path}&access_token={my_access_token}\"\n",
    "        r2 = genius.get(song_url, headers=api_headers)\n",
    "        song_json = r2.json()['response']['song']\n",
    "        lyrics_url = song_json['url']   # actual url for lyrics page\n",
    "\n",
    "        # Scrape the actual song lyrics using BS4\n",
    "\n",
    "        page = requests.get(lyrics_url)\n",
    "        html = BeautifulSoup(page.text, \"html.parser\")\n",
    "        lyrics = html.find(\"div\", class_=\"lyrics\").get_text()\n",
    "\n",
    "        # Write the song's lyrics to a text file\n",
    "\n",
    "        fname = re.sub('[^a-zA-Z0-9_]+', '', song) + '.txt' \n",
    "\n",
    "        with open(f'data/lyrics/{fname}', 'wb') as f:\n",
    "            lyrics_encoded = lyrics.encode('utf8')\n",
    "            f.write(lyrics_encoded)\n",
    "\n",
    "        # Write the song's Genius metadata to json file\n",
    "        fname2 = re.sub('[^a-zA-Z0-9_]+', '', song) + '.json' \n",
    "\n",
    "        with open(f'data/lyrics/{fname2}', 'w') as f:\n",
    "            json.dump(song_json, f)"
   ]
  },
  {
   "cell_type": "code",
   "execution_count": null,
   "metadata": {},
   "outputs": [],
   "source": []
  }
 ],
 "metadata": {
  "kernelspec": {
   "display_name": "Python 3.7.6 64-bit ('ckids': conda)",
   "language": "python",
   "name": "python37664bitckidscondaeba5e997e95d433391cca1cee29345d7"
  },
  "language_info": {
   "codemirror_mode": {
    "name": "ipython",
    "version": 3
   },
   "file_extension": ".py",
   "mimetype": "text/x-python",
   "name": "python",
   "nbconvert_exporter": "python",
   "pygments_lexer": "ipython3",
   "version": "3.7.6"
  }
 },
 "nbformat": 4,
 "nbformat_minor": 4
}