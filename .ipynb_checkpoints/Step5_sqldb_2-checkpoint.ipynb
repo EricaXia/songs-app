{
 "cells": [
  {
   "cell_type": "code",
   "execution_count": 1,
   "metadata": {},
   "outputs": [],
   "source": [
    "import sqlite3\n",
    "import sqlalchemy\n",
    "import pandas as pd\n",
    "import numpy as np\n",
    "import json\n",
    "import re\n",
    "import pprint\n",
    "import os\n",
    "from glob import glob\n",
    "import pickle"
   ]
  },
  {
   "cell_type": "code",
   "execution_count": 2,
   "metadata": {},
   "outputs": [],
   "source": [
    "with open (r'data/spotify_ids.pkl', 'rb') as f:\n",
    "    spotify_ids = pickle.load(f)"
   ]
  },
  {
   "cell_type": "code",
   "execution_count": 3,
   "metadata": {},
   "outputs": [],
   "source": [
    "# connect to music sqlite3 database \n",
    "conn = sqlite3.connect('music.db')\n",
    "c = conn.cursor()"
   ]
  },
  {
   "cell_type": "markdown",
   "metadata": {},
   "source": [
    "## Connect the spotify track id to the Genius tracks \n",
    "- Read into pandas df"
   ]
  },
  {
   "cell_type": "code",
   "execution_count": 4,
   "metadata": {},
   "outputs": [],
   "source": [
    "PATH = \"data/lyrics/\"\n",
    "EXT = \"*.txt\"\n",
    "\n",
    "lyric_txts = [file\n",
    "             for path, subdir, files in os.walk(PATH)\n",
    "             for file in glob(os.path.join(path, EXT))]\n",
    "\n",
    "lyrics_dict = {}   # dict to store {song: lyrics} values\n",
    "\n",
    "for fname in lyric_txts:\n",
    "    fname_spl = fname.split('.txt')[0]\n",
    "    fname_spl2 = fname_spl.split('\\\\')\n",
    "    song = fname_spl2[1]\n",
    "    \n",
    "    with open(fname, 'r', encoding='utf8') as f:\n",
    "        lyrics_dict[song] = f.read()"
   ]
  },
  {
   "cell_type": "code",
   "execution_count": 5,
   "metadata": {},
   "outputs": [],
   "source": [
    "lyrics_df = (pd.DataFrame.from_dict(lyrics_dict, orient='index')).reset_index().rename(index = str, columns = {'index': 'song_name', 0: 'text'})"
   ]
  },
  {
   "cell_type": "code",
   "execution_count": 7,
   "metadata": {},
   "outputs": [],
   "source": [
    "spotify_df = pd.DataFrame(spotify_ids).rename(columns = {0: 'song_name_orig', 1: 'song_name', 2: 'spotify_id'})"
   ]
  },
  {
   "cell_type": "code",
   "execution_count": 8,
   "metadata": {},
   "outputs": [],
   "source": [
    "spotify_df.drop_duplicates(inplace=True)"
   ]
  },
  {
   "cell_type": "code",
   "execution_count": 9,
   "metadata": {},
   "outputs": [
    {
     "name": "stdout",
     "output_type": "stream",
     "text": [
      "(142, 2) (142, 3)\n"
     ]
    }
   ],
   "source": [
    "print(lyrics_df.shape, spotify_df.shape)"
   ]
  },
  {
   "cell_type": "code",
   "execution_count": 10,
   "metadata": {},
   "outputs": [],
   "source": [
    "merged = lyrics_df.merge(spotify_df, how='left', on='song_name')"
   ]
  },
  {
   "cell_type": "code",
   "execution_count": 11,
   "metadata": {},
   "outputs": [
    {
     "data": {
      "text/plain": [
       "(142, 4)"
      ]
     },
     "execution_count": 11,
     "metadata": {},
     "output_type": "execute_result"
    }
   ],
   "source": [
    "merged.shape"
   ]
  },
  {
   "cell_type": "code",
   "execution_count": 12,
   "metadata": {},
   "outputs": [
    {
     "data": {
      "text/html": [
       "<div>\n",
       "<style scoped>\n",
       "    .dataframe tbody tr th:only-of-type {\n",
       "        vertical-align: middle;\n",
       "    }\n",
       "\n",
       "    .dataframe tbody tr th {\n",
       "        vertical-align: top;\n",
       "    }\n",
       "\n",
       "    .dataframe thead th {\n",
       "        text-align: right;\n",
       "    }\n",
       "</style>\n",
       "<table border=\"1\" class=\"dataframe\">\n",
       "  <thead>\n",
       "    <tr style=\"text-align: right;\">\n",
       "      <th></th>\n",
       "      <th>song_name</th>\n",
       "      <th>text</th>\n",
       "      <th>song_name_orig</th>\n",
       "      <th>spotify_id</th>\n",
       "    </tr>\n",
       "  </thead>\n",
       "  <tbody>\n",
       "    <tr>\n",
       "      <th>0</th>\n",
       "      <td>10000Hours</td>\n",
       "      <td>\\n\\nDo you love the rain, does it make you dan...</td>\n",
       "      <td>10,000 Hours</td>\n",
       "      <td>2wrJq5XKLnmhRXHIAf9xBa</td>\n",
       "    </tr>\n",
       "    <tr>\n",
       "      <th>1</th>\n",
       "      <td>AdoreYou</td>\n",
       "      <td>\\n\\n[Verse 1: Harry Styles]\\nWalk in your rain...</td>\n",
       "      <td>Adore You</td>\n",
       "      <td>1M4qEo4HE3PRaCOM7EXNJq</td>\n",
       "    </tr>\n",
       "    <tr>\n",
       "      <th>2</th>\n",
       "      <td>AfterAFew</td>\n",
       "      <td>\\n\\n[Verse 1]\\nI probably shouldn't have said ...</td>\n",
       "      <td>After A Few</td>\n",
       "      <td>1z6wl2rwKatfmza6usanWw</td>\n",
       "    </tr>\n",
       "    <tr>\n",
       "      <th>3</th>\n",
       "      <td>AfterHours</td>\n",
       "      <td>\\n\\n[Verse 1]\\nThought I almost died in my dre...</td>\n",
       "      <td>After Hours</td>\n",
       "      <td>2p8IUWQDrpjuFltbdgLOag</td>\n",
       "    </tr>\n",
       "    <tr>\n",
       "      <th>4</th>\n",
       "      <td>AloneAgain</td>\n",
       "      <td>\\n\\n[Verse]\\nTake off my disguise\\nI'm living ...</td>\n",
       "      <td>Alone Again</td>\n",
       "      <td>6b5P51m8xx2XA6U7sdNZ5E</td>\n",
       "    </tr>\n",
       "  </tbody>\n",
       "</table>\n",
       "</div>"
      ],
      "text/plain": [
       "    song_name                                               text  \\\n",
       "0  10000Hours  \\n\\nDo you love the rain, does it make you dan...   \n",
       "1    AdoreYou  \\n\\n[Verse 1: Harry Styles]\\nWalk in your rain...   \n",
       "2   AfterAFew  \\n\\n[Verse 1]\\nI probably shouldn't have said ...   \n",
       "3  AfterHours  \\n\\n[Verse 1]\\nThought I almost died in my dre...   \n",
       "4  AloneAgain  \\n\\n[Verse]\\nTake off my disguise\\nI'm living ...   \n",
       "\n",
       "  song_name_orig              spotify_id  \n",
       "0   10,000 Hours  2wrJq5XKLnmhRXHIAf9xBa  \n",
       "1      Adore You  1M4qEo4HE3PRaCOM7EXNJq  \n",
       "2    After A Few  1z6wl2rwKatfmza6usanWw  \n",
       "3    After Hours  2p8IUWQDrpjuFltbdgLOag  \n",
       "4    Alone Again  6b5P51m8xx2XA6U7sdNZ5E  "
      ]
     },
     "execution_count": 12,
     "metadata": {},
     "output_type": "execute_result"
    }
   ],
   "source": [
    "# merged.head()"
   ]
  },
  {
   "cell_type": "markdown",
   "metadata": {},
   "source": [
    "## Add to music db with sqlite3"
   ]
  },
  {
   "cell_type": "code",
   "execution_count": 13,
   "metadata": {},
   "outputs": [],
   "source": [
    "merged.to_sql('lyrics', con=conn, index=False, if_exists='replace')"
   ]
  },
  {
   "cell_type": "code",
   "execution_count": 15,
   "metadata": {},
   "outputs": [],
   "source": [
    "conn.commit()\n",
    "conn.close()"
   ]
  },
  {
   "cell_type": "code",
   "execution_count": null,
   "metadata": {},
   "outputs": [],
   "source": []
  }
 ],
 "metadata": {
  "kernelspec": {
   "display_name": "Python 3",
   "language": "python",
   "name": "python3"
  },
  "language_info": {
   "codemirror_mode": {
    "name": "ipython",
    "version": 3
   },
   "file_extension": ".py",
   "mimetype": "text/x-python",
   "name": "python",
   "nbconvert_exporter": "python",
   "pygments_lexer": "ipython3",
   "version": "3.7.6"
  }
 },
 "nbformat": 4,
 "nbformat_minor": 4
}
