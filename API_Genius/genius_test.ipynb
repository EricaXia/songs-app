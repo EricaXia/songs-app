{
 "cells": [
  {
   "cell_type": "markdown",
   "metadata": {},
   "source": [
    "# Scraping Song Lyrics From Genius\n",
    "\n",
    "NOTE: **Requires Outh2 authentication process**"
   ]
  },
  {
   "cell_type": "code",
   "execution_count": 1,
   "metadata": {},
   "outputs": [],
   "source": [
    "from requests_oauthlib import OAuth2Session"
   ]
  },
  {
   "cell_type": "code",
   "execution_count": 2,
   "metadata": {},
   "outputs": [],
   "source": [
    "import requests\n",
    "from bs4 import BeautifulSoup\n",
    "import json\n",
    "import re\n",
    "import numpy as np\n",
    "import pandas as pd\n",
    "import datetime\n",
    "import os\n",
    "import ast"
   ]
  },
  {
   "cell_type": "code",
   "execution_count": 3,
   "metadata": {},
   "outputs": [],
   "source": [
    "client_id = 'hjAAh3f8SCTjC8YwuWOw_SC1Bbrld0-8pHzps79gZRexkQqJ1wYDHZCX8bWmMaQ3'\n",
    "client_secret = 'WwCsfJyYc0VeAM200jBFnVRAAZME2RAeJemDd65XIjUTInpH4uSgW88sDcfI0YH5uoQtZYzUJWp7qkjcQQFoXA'\n",
    "\n",
    "redirect_uri = 'https://genius.com/'"
   ]
  },
  {
   "cell_type": "code",
   "execution_count": 4,
   "metadata": {},
   "outputs": [],
   "source": [
    "# base url\n",
    "base_url = 'https://api.genius.com/'\n",
    "\n",
    "auth_url = 'https://api.genius.com/oauth/authorize'\n",
    "\n",
    "token_url = 'https://api.genius.com/oauth/token'"
   ]
  },
  {
   "cell_type": "code",
   "execution_count": 5,
   "metadata": {},
   "outputs": [
    {
     "output_type": "stream",
     "name": "stdout",
     "text": "Please go here and authorize,\nhttps://api.genius.com/oauth/authorize?response_type=code&client_id=hjAAh3f8SCTjC8YwuWOw_SC1Bbrld0-8pHzps79gZRexkQqJ1wYDHZCX8bWmMaQ3&redirect_uri=https%3A%2F%2Fgenius.com%2F&scope=me&state=1\n"
    }
   ],
   "source": [
    "genius = OAuth2Session(client_id, redirect_uri=redirect_uri, scope='me', state='1')\n",
    "\n",
    "# Redirect user to Genius for authorization\n",
    "authorization_url, state = genius.authorization_url(auth_url)\n",
    "print('Please go here and authorize,')\n",
    "print(authorization_url)"
   ]
  },
  {
   "cell_type": "code",
   "execution_count": 6,
   "metadata": {},
   "outputs": [],
   "source": [
    "# PASTE THE RESPONSE URL HERE\n",
    "\n",
    "# redirect_response = \"#PASTE URL HERE\"\n",
    "redirect_response = \"https://genius.com/?code=xEXhrpRNXwQzTNHPr9gyIrnnm6LnNRUQpz6ZNca6auqQdijyN1TH-SlwPi_btBLm&state=1\""
   ]
  },
  {
   "cell_type": "code",
   "execution_count": 7,
   "metadata": {},
   "outputs": [],
   "source": [
    "# Fetch the access token\n",
    "token_response = genius.fetch_token(token_url, client_secret=client_secret, authorization_response=redirect_response, client_id=client_id, response_type='code')"
   ]
  },
  {
   "cell_type": "code",
   "execution_count": 9,
   "metadata": {},
   "outputs": [],
   "source": [
    "my_access_token = token_response['access_token']\n",
    "# print(my_access_token)"
   ]
  },
  {
   "cell_type": "code",
   "execution_count": 10,
   "metadata": {},
   "outputs": [],
   "source": [
    "# Set the API Headers\n",
    "api_headers = {'Authorization': f'Bearer {my_access_token}'}"
   ]
  },
  {
   "cell_type": "code",
   "execution_count": 11,
   "metadata": {},
   "outputs": [
    {
     "output_type": "stream",
     "name": "stdout",
     "text": "<Response [200]>\n"
    }
   ],
   "source": [
    "# # test search on Genius, given a TEST song id\n",
    "# test_url = base_url + 'songs/378195'\n",
    "# response = genius.get(test_url, headers=api_headers)\n",
    "\n",
    "# print(response)"
   ]
  },
  {
   "cell_type": "code",
   "execution_count": 12,
   "metadata": {},
   "outputs": [],
   "source": [
    "# Test search for a song/artist\n",
    "# Response is same as typing \"Toosie Slide Drake\" into the search box on Genius.com\n",
    "song_title = 'Toosie Slide'\n",
    "artist_name = 'Drake'\n",
    "\n",
    "query = (f'{song_title} {artist_name}').replace(\" \", \"%20\")\n",
    "search_query = f'search?q={query}'\n",
    "search_url = base_url + search_query\n",
    "\n",
    "r = genius.get(search_url, headers=api_headers)"
   ]
  },
  {
   "cell_type": "code",
   "execution_count": 13,
   "metadata": {},
   "outputs": [],
   "source": [
    "search_api_path = r.json()['response']['hits'][0]['result']['api_path']"
   ]
  },
  {
   "cell_type": "code",
   "execution_count": 14,
   "metadata": {},
   "outputs": [
    {
     "output_type": "stream",
     "name": "stdout",
     "text": "https://api.genius.com/songs/5402847&access_token=yDjel9-6lKQ8TXU9h47FLZwTnJDGPrq1MbjWWa_WXw_o0ohWKMIuvA7m6F0lZ2dd\n<Response [200]>\n"
    }
   ],
   "source": [
    "# using found song api path, get lyrics\n",
    "song_url = f\"https://api.genius.com{search_api_path}&access_token={my_access_token}\"\n",
    "# print(song_url)\n",
    "r2 = genius.get(song_url, headers=api_headers)\n",
    "# print(r2)"
   ]
  },
  {
   "cell_type": "code",
   "execution_count": 15,
   "metadata": {},
   "outputs": [],
   "source": [
    "song_json = r2.json()['response']['song']\n",
    "lyrics_url = song_json['url']"
   ]
  },
  {
   "cell_type": "code",
   "execution_count": 16,
   "metadata": {},
   "outputs": [],
   "source": [
    "# Scrape the actual song lyrics using BS4\n",
    "\n",
    "page = requests.get(lyrics_url)\n",
    "html = BeautifulSoup(page.text, \"html.parser\")\n",
    "lyrics = html.find(\"div\", class_=\"lyrics\").get_text()"
   ]
  },
  {
   "cell_type": "code",
   "execution_count": 17,
   "metadata": {},
   "outputs": [],
   "source": [
    "# Write the song's lyrics to a text file\n",
    "\n",
    "fname = song_title.replace(' ', '') + '.txt'\n",
    "\n",
    "with open(fname, 'wb') as f:\n",
    "    lyrics_encoded = lyrics.encode('utf8')\n",
    "    f.write(lyrics_encoded)"
   ]
  },
  {
   "cell_type": "code",
   "execution_count": 19,
   "metadata": {},
   "outputs": [],
   "source": [
    "# Write the song's Genius.com metadat to json file\n",
    "fname = song_title.replace(' ', '') + '.json'\n",
    "\n",
    "with open(fname, 'w') as f:\n",
    "    json.dump(song_json, f)"
   ]
  },
  {
   "cell_type": "code",
   "execution_count": null,
   "metadata": {},
   "outputs": [],
   "source": []
  }
 ],
 "metadata": {
  "language_info": {
   "codemirror_mode": {
    "name": "ipython",
    "version": 3
   },
   "file_extension": ".py",
   "mimetype": "text/x-python",
   "name": "python",
   "nbconvert_exporter": "python",
   "pygments_lexer": "ipython3",
   "version": "3.7.6-final"
  },
  "orig_nbformat": 2,
  "kernelspec": {
   "name": "python37664bitckidscondaeba5e997e95d433391cca1cee29345d7",
   "display_name": "Python 3.7.6 64-bit ('ckids': conda)"
  }
 },
 "nbformat": 4,
 "nbformat_minor": 2
}